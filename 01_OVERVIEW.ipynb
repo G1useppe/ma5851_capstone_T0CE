{
  "nbformat": 4,
  "nbformat_minor": 0,
  "metadata": {
    "colab": {
      "name": "OVERVIEW",
      "provenance": [],
      "authorship_tag": "ABX9TyOp4JgWM3gK/PBA/q4ho7/e",
      "include_colab_link": true
    },
    "kernelspec": {
      "name": "python3",
      "display_name": "Python 3"
    },
    "language_info": {
      "name": "python"
    }
  },
  "cells": [
    {
      "cell_type": "markdown",
      "metadata": {
        "id": "view-in-github",
        "colab_type": "text"
      },
      "source": [
        "<a href=\"https://colab.research.google.com/github/G1useppe/ma5851_capstone_T0CE/blob/main/OVERVIEW.ipynb\" target=\"_parent\"><img src=\"https://colab.research.google.com/assets/colab-badge.svg\" alt=\"Open In Colab\"/></a>"
      ]
    },
    {
      "cell_type": "markdown",
      "source": [
        "# 1.1-2 The issue on the world wide web"
      ],
      "metadata": {
        "id": "gMRd9x0DCO34"
      }
    },
    {
      "cell_type": "markdown",
      "source": [
        "In 2017, the Foundation for Young Australians predicted the average person born in the year 2000 could expect to work 17 different jobs over five careers in a lifetime. All of this, comes naturally accompanied by the process of applying for jobs, interviewing, and negotiating a starting salary. Much to the detriment of a potential applicant, there is a contemporary tendency of employers to opt to not list a starting salary with their listing. This scope of this project is to use job listings returned by a search query of Data Science with advertised salaries to assess the state of the market. Using Natural Language Processing (NLP) and machine learning predictions on the advertised or potential salary for a particular job listing will be made. The issue is commonplace among Australia’s three primary standalone online job posting boards, Seek, Jora and Indeed. Further sources of note include corporate social networking platforms such as LinkedIn. "
      ],
      "metadata": {
        "id": "yRMvDCoCCOzP"
      }
    },
    {
      "cell_type": "markdown",
      "source": [
        "# 1.3-4 Machine learning application and associated literature"
      ],
      "metadata": {
        "id": "6pM8mG9xCOs8"
      }
    },
    {
      "cell_type": "markdown",
      "source": [
        "Machine learning can be applied in this context to train a model that will accept many features extracted from NLP. The machine learning application will be a regressor, meaning that for each input array of these features, a numerical value (salary) will be outputted. \n",
        "There is a small volume of work on similar tasks, of which two will be briefly summarized. The first of these is the work of Jackman and Reid (2013). This work deploys a binary bag of words model, and each feature is assigned a multiplicative effect on the target variable calculation. Like the intention of this work, the machine learning takes the form of a regressor. The evaluation metric is the mean absolute error in pounds, which is between GBP5000 and GBP 7000 across a suite of regression methods. Random forest is the best performing model/ \n",
        "The second of these is the work of Martin et al. (2017). This paper also seeks to predict salaries, however the sample size is only 4,000, as it only pertains to jobs in the IT field in Spain. This paper demonstrates a good contrast to the paper of Jackman and Reid, as they use their own manual feature engineering to generate the data which they pass to their models. The NLP is more complex in this work and deals with cross-language lemmatization as well as the imposition on strict document frequency thresholds aligning with the priority for the reduction of dimensionality. The machine learning algorithms serve as classifiers, with evaluation metrics accuracy, f1 score, AUC-PR and AUC-ROC. The strongest performing models are voting classifiers and random forest.\n"
      ],
      "metadata": {
        "id": "Ld1QExsMCOkF"
      }
    }
  ]
}
