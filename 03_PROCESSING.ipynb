{
  "nbformat": 4,
  "nbformat_minor": 0,
  "metadata": {
    "colab": {
      "name": "PROCESSING",
      "provenance": [],
      "collapsed_sections": [],
      "authorship_tag": "ABX9TyNd0MNuWM6kc04BjTPNqzUR",
      "include_colab_link": true
    },
    "kernelspec": {
      "name": "python3",
      "display_name": "Python 3"
    },
    "language_info": {
      "name": "python"
    }
  },
  "cells": [
    {
      "cell_type": "markdown",
      "metadata": {
        "id": "view-in-github",
        "colab_type": "text"
      },
      "source": [
        "<a href=\"https://colab.research.google.com/github/G1useppe/ma5851_capstone_T0CE/blob/main/PROCESSING.ipynb\" target=\"_parent\"><img src=\"https://colab.research.google.com/assets/colab-badge.svg\" alt=\"Open In Colab\"/></a>"
      ]
    },
    {
      "cell_type": "markdown",
      "source": [
        "# Environment Setup"
      ],
      "metadata": {
        "id": "Oa3INydRdsXn"
      }
    },
    {
      "cell_type": "code",
      "source": [
        "from google.colab import drive #mounting google drive to access webscraping output\n",
        "\n",
        "import pandas as pd #general \n",
        "import numpy as np\n",
        "\n",
        "import re #language processing\n",
        "import nltk\n",
        "nltk.download('stopwords')\n",
        "nltk.download('punkt')\n",
        "nltk.download('wordnet')\n",
        "nltk.download('omw-1.4')\n",
        "from nltk.stem import WordNetLemmatizer\n",
        "from nltk.corpus import stopwords\n",
        "from nltk.tokenize import word_tokenize\n",
        "from nltk.probability import FreqDist\n",
        "\n",
        "import matplotlib.pyplot as plt #visualization\n",
        "import seaborn as sns \n",
        "\n",
        "from sklearn.feature_extraction.text import TfidfVectorizer #feature extraction\n",
        "from sklearn.feature_extraction.text import CountVectorizer\n",
        "import scipy.sparse\n",
        "\n",
        "from scipy import stats"
      ],
      "metadata": {
        "id": "nxif9u3M9zDx",
        "colab": {
          "base_uri": "https://localhost:8080/"
        },
        "outputId": "52b14433-b8a6-427f-96f0-c3bdc0a5d1c3"
      },
      "execution_count": 61,
      "outputs": [
        {
          "output_type": "stream",
          "name": "stderr",
          "text": [
            "[nltk_data] Downloading package stopwords to /root/nltk_data...\n",
            "[nltk_data]   Package stopwords is already up-to-date!\n",
            "[nltk_data] Downloading package punkt to /root/nltk_data...\n",
            "[nltk_data]   Package punkt is already up-to-date!\n",
            "[nltk_data] Downloading package wordnet to /root/nltk_data...\n",
            "[nltk_data]   Package wordnet is already up-to-date!\n",
            "[nltk_data] Downloading package omw-1.4 to /root/nltk_data...\n",
            "[nltk_data]   Package omw-1.4 is already up-to-date!\n"
          ]
        }
      ]
    },
    {
      "cell_type": "code",
      "execution_count": 62,
      "metadata": {
        "id": "62oDoTEsVrdw",
        "colab": {
          "base_uri": "https://localhost:8080/"
        },
        "outputId": "4efa07ad-75ac-410e-d3d7-156609039e63"
      },
      "outputs": [
        {
          "output_type": "stream",
          "name": "stdout",
          "text": [
            "Drive already mounted at /content/drive; to attempt to forcibly remount, call drive.mount(\"/content/drive\", force_remount=True).\n"
          ]
        }
      ],
      "source": [
        "drive.mount('/content/drive')"
      ]
    },
    {
      "cell_type": "markdown",
      "source": [
        "To begin the second part of our workflow, we will bring in the .xlsx file that we produced in our webscraping component."
      ],
      "metadata": {
        "id": "9Gq3wFl0mnKy"
      }
    },
    {
      "cell_type": "code",
      "execution_count": 63,
      "metadata": {
        "colab": {
          "base_uri": "https://localhost:8080/",
          "height": 206
        },
        "id": "IFVHnQobWtWN",
        "outputId": "2c1d3446-85bc-43cc-b80b-cad3a2fc5873"
      },
      "outputs": [
        {
          "output_type": "execute_result",
          "data": {
            "text/plain": [
              "   Unnamed: 0                  Company_City  \\\n",
              "0           0     Transurban\\nDocklands VIC   \n",
              "1           1   Suncorp Group\\nBrisbane QLD   \n",
              "2           2  UGL Limited\\nNorth Shore NSW   \n",
              "3           3  Alfred Health\\nMelbourne VIC   \n",
              "4           4   Deloitte\\nCanberra ACT 2609   \n",
              "\n",
              "                                           Job Title Salary  \\\n",
              "0                           Data Enablement Graduate    NaN   \n",
              "1         Suncorp 2023 Data Science Graduate Program    NaN   \n",
              "2  Data Science Graduate/Undergraduate - Immed St...    NaN   \n",
              "3             Graduate Research Laboratory Scientist    NaN   \n",
              "4  Consulting - Data & AI - 2022/23 Graduate Prog...    NaN   \n",
              "\n",
              "                                         Description  \n",
              "0  As one of the world's largest toll-road operat...  \n",
              "1  At Suncorp Group we work with care to create t...  \n",
              "2  Be part of the Award Winning CIMIC Graduate Pr...  \n",
              "3  Alfred Health\\n\\nAlfred Health is a leader in ...  \n",
              "4  Date: 16-Aug-2022\\n\\nLocation:\\nCanberra, ACT,...  "
            ],
            "text/html": [
              "\n",
              "  <div id=\"df-1a9faa8c-6955-4cb8-8db8-88bdc2626530\">\n",
              "    <div class=\"colab-df-container\">\n",
              "      <div>\n",
              "<style scoped>\n",
              "    .dataframe tbody tr th:only-of-type {\n",
              "        vertical-align: middle;\n",
              "    }\n",
              "\n",
              "    .dataframe tbody tr th {\n",
              "        vertical-align: top;\n",
              "    }\n",
              "\n",
              "    .dataframe thead th {\n",
              "        text-align: right;\n",
              "    }\n",
              "</style>\n",
              "<table border=\"1\" class=\"dataframe\">\n",
              "  <thead>\n",
              "    <tr style=\"text-align: right;\">\n",
              "      <th></th>\n",
              "      <th>Unnamed: 0</th>\n",
              "      <th>Company_City</th>\n",
              "      <th>Job Title</th>\n",
              "      <th>Salary</th>\n",
              "      <th>Description</th>\n",
              "    </tr>\n",
              "  </thead>\n",
              "  <tbody>\n",
              "    <tr>\n",
              "      <th>0</th>\n",
              "      <td>0</td>\n",
              "      <td>Transurban\\nDocklands VIC</td>\n",
              "      <td>Data Enablement Graduate</td>\n",
              "      <td>NaN</td>\n",
              "      <td>As one of the world's largest toll-road operat...</td>\n",
              "    </tr>\n",
              "    <tr>\n",
              "      <th>1</th>\n",
              "      <td>1</td>\n",
              "      <td>Suncorp Group\\nBrisbane QLD</td>\n",
              "      <td>Suncorp 2023 Data Science Graduate Program</td>\n",
              "      <td>NaN</td>\n",
              "      <td>At Suncorp Group we work with care to create t...</td>\n",
              "    </tr>\n",
              "    <tr>\n",
              "      <th>2</th>\n",
              "      <td>2</td>\n",
              "      <td>UGL Limited\\nNorth Shore NSW</td>\n",
              "      <td>Data Science Graduate/Undergraduate - Immed St...</td>\n",
              "      <td>NaN</td>\n",
              "      <td>Be part of the Award Winning CIMIC Graduate Pr...</td>\n",
              "    </tr>\n",
              "    <tr>\n",
              "      <th>3</th>\n",
              "      <td>3</td>\n",
              "      <td>Alfred Health\\nMelbourne VIC</td>\n",
              "      <td>Graduate Research Laboratory Scientist</td>\n",
              "      <td>NaN</td>\n",
              "      <td>Alfred Health\\n\\nAlfred Health is a leader in ...</td>\n",
              "    </tr>\n",
              "    <tr>\n",
              "      <th>4</th>\n",
              "      <td>4</td>\n",
              "      <td>Deloitte\\nCanberra ACT 2609</td>\n",
              "      <td>Consulting - Data &amp; AI - 2022/23 Graduate Prog...</td>\n",
              "      <td>NaN</td>\n",
              "      <td>Date: 16-Aug-2022\\n\\nLocation:\\nCanberra, ACT,...</td>\n",
              "    </tr>\n",
              "  </tbody>\n",
              "</table>\n",
              "</div>\n",
              "      <button class=\"colab-df-convert\" onclick=\"convertToInteractive('df-1a9faa8c-6955-4cb8-8db8-88bdc2626530')\"\n",
              "              title=\"Convert this dataframe to an interactive table.\"\n",
              "              style=\"display:none;\">\n",
              "        \n",
              "  <svg xmlns=\"http://www.w3.org/2000/svg\" height=\"24px\"viewBox=\"0 0 24 24\"\n",
              "       width=\"24px\">\n",
              "    <path d=\"M0 0h24v24H0V0z\" fill=\"none\"/>\n",
              "    <path d=\"M18.56 5.44l.94 2.06.94-2.06 2.06-.94-2.06-.94-.94-2.06-.94 2.06-2.06.94zm-11 1L8.5 8.5l.94-2.06 2.06-.94-2.06-.94L8.5 2.5l-.94 2.06-2.06.94zm10 10l.94 2.06.94-2.06 2.06-.94-2.06-.94-.94-2.06-.94 2.06-2.06.94z\"/><path d=\"M17.41 7.96l-1.37-1.37c-.4-.4-.92-.59-1.43-.59-.52 0-1.04.2-1.43.59L10.3 9.45l-7.72 7.72c-.78.78-.78 2.05 0 2.83L4 21.41c.39.39.9.59 1.41.59.51 0 1.02-.2 1.41-.59l7.78-7.78 2.81-2.81c.8-.78.8-2.07 0-2.86zM5.41 20L4 18.59l7.72-7.72 1.47 1.35L5.41 20z\"/>\n",
              "  </svg>\n",
              "      </button>\n",
              "      \n",
              "  <style>\n",
              "    .colab-df-container {\n",
              "      display:flex;\n",
              "      flex-wrap:wrap;\n",
              "      gap: 12px;\n",
              "    }\n",
              "\n",
              "    .colab-df-convert {\n",
              "      background-color: #E8F0FE;\n",
              "      border: none;\n",
              "      border-radius: 50%;\n",
              "      cursor: pointer;\n",
              "      display: none;\n",
              "      fill: #1967D2;\n",
              "      height: 32px;\n",
              "      padding: 0 0 0 0;\n",
              "      width: 32px;\n",
              "    }\n",
              "\n",
              "    .colab-df-convert:hover {\n",
              "      background-color: #E2EBFA;\n",
              "      box-shadow: 0px 1px 2px rgba(60, 64, 67, 0.3), 0px 1px 3px 1px rgba(60, 64, 67, 0.15);\n",
              "      fill: #174EA6;\n",
              "    }\n",
              "\n",
              "    [theme=dark] .colab-df-convert {\n",
              "      background-color: #3B4455;\n",
              "      fill: #D2E3FC;\n",
              "    }\n",
              "\n",
              "    [theme=dark] .colab-df-convert:hover {\n",
              "      background-color: #434B5C;\n",
              "      box-shadow: 0px 1px 3px 1px rgba(0, 0, 0, 0.15);\n",
              "      filter: drop-shadow(0px 1px 2px rgba(0, 0, 0, 0.3));\n",
              "      fill: #FFFFFF;\n",
              "    }\n",
              "  </style>\n",
              "\n",
              "      <script>\n",
              "        const buttonEl =\n",
              "          document.querySelector('#df-1a9faa8c-6955-4cb8-8db8-88bdc2626530 button.colab-df-convert');\n",
              "        buttonEl.style.display =\n",
              "          google.colab.kernel.accessAllowed ? 'block' : 'none';\n",
              "\n",
              "        async function convertToInteractive(key) {\n",
              "          const element = document.querySelector('#df-1a9faa8c-6955-4cb8-8db8-88bdc2626530');\n",
              "          const dataTable =\n",
              "            await google.colab.kernel.invokeFunction('convertToInteractive',\n",
              "                                                     [key], {});\n",
              "          if (!dataTable) return;\n",
              "\n",
              "          const docLinkHtml = 'Like what you see? Visit the ' +\n",
              "            '<a target=\"_blank\" href=https://colab.research.google.com/notebooks/data_table.ipynb>data table notebook</a>'\n",
              "            + ' to learn more about interactive tables.';\n",
              "          element.innerHTML = '';\n",
              "          dataTable['output_type'] = 'display_data';\n",
              "          await google.colab.output.renderOutput(dataTable, element);\n",
              "          const docLink = document.createElement('div');\n",
              "          docLink.innerHTML = docLinkHtml;\n",
              "          element.appendChild(docLink);\n",
              "        }\n",
              "      </script>\n",
              "    </div>\n",
              "  </div>\n",
              "  "
            ]
          },
          "metadata": {},
          "execution_count": 63
        }
      ],
      "source": [
        "path = '/content/drive/MyDrive/str_data.xlsx'\n",
        "str_data = pd.read_excel(path, na_values = 'NaN')\n",
        "str_data.head()"
      ]
    },
    {
      "cell_type": "markdown",
      "source": [
        "# 3.1 Data Cleaning"
      ],
      "metadata": {
        "id": "CLaZWi73dMfZ"
      }
    },
    {
      "cell_type": "markdown",
      "source": [
        "The first process that must be completed is the splitting of the Company_City field which was crudely scraped in the web crawler component. The ambition is to seperate three variables: the company name of the advertiser, and the city and state where the job is located. The first step, separating the company is performed using the str.split() method."
      ],
      "metadata": {
        "id": "b_dH2zXCsPhk"
      }
    },
    {
      "cell_type": "code",
      "source": [
        "company_city = str_data['Company_City'].str.split(pat = \"\\n\", expand = True)\n",
        "company_city.head()"
      ],
      "metadata": {
        "colab": {
          "base_uri": "https://localhost:8080/",
          "height": 206
        },
        "id": "wyu7HO41CjyP",
        "outputId": "24c63082-1f65-4e1f-e398-6d1a60007199"
      },
      "execution_count": 64,
      "outputs": [
        {
          "output_type": "execute_result",
          "data": {
            "text/plain": [
              "               0                  1     2\n",
              "0     Transurban      Docklands VIC  None\n",
              "1  Suncorp Group       Brisbane QLD  None\n",
              "2    UGL Limited    North Shore NSW  None\n",
              "3  Alfred Health      Melbourne VIC  None\n",
              "4       Deloitte  Canberra ACT 2609  None"
            ],
            "text/html": [
              "\n",
              "  <div id=\"df-13e75304-103b-4904-a7a6-a8edd78b5137\">\n",
              "    <div class=\"colab-df-container\">\n",
              "      <div>\n",
              "<style scoped>\n",
              "    .dataframe tbody tr th:only-of-type {\n",
              "        vertical-align: middle;\n",
              "    }\n",
              "\n",
              "    .dataframe tbody tr th {\n",
              "        vertical-align: top;\n",
              "    }\n",
              "\n",
              "    .dataframe thead th {\n",
              "        text-align: right;\n",
              "    }\n",
              "</style>\n",
              "<table border=\"1\" class=\"dataframe\">\n",
              "  <thead>\n",
              "    <tr style=\"text-align: right;\">\n",
              "      <th></th>\n",
              "      <th>0</th>\n",
              "      <th>1</th>\n",
              "      <th>2</th>\n",
              "    </tr>\n",
              "  </thead>\n",
              "  <tbody>\n",
              "    <tr>\n",
              "      <th>0</th>\n",
              "      <td>Transurban</td>\n",
              "      <td>Docklands VIC</td>\n",
              "      <td>None</td>\n",
              "    </tr>\n",
              "    <tr>\n",
              "      <th>1</th>\n",
              "      <td>Suncorp Group</td>\n",
              "      <td>Brisbane QLD</td>\n",
              "      <td>None</td>\n",
              "    </tr>\n",
              "    <tr>\n",
              "      <th>2</th>\n",
              "      <td>UGL Limited</td>\n",
              "      <td>North Shore NSW</td>\n",
              "      <td>None</td>\n",
              "    </tr>\n",
              "    <tr>\n",
              "      <th>3</th>\n",
              "      <td>Alfred Health</td>\n",
              "      <td>Melbourne VIC</td>\n",
              "      <td>None</td>\n",
              "    </tr>\n",
              "    <tr>\n",
              "      <th>4</th>\n",
              "      <td>Deloitte</td>\n",
              "      <td>Canberra ACT 2609</td>\n",
              "      <td>None</td>\n",
              "    </tr>\n",
              "  </tbody>\n",
              "</table>\n",
              "</div>\n",
              "      <button class=\"colab-df-convert\" onclick=\"convertToInteractive('df-13e75304-103b-4904-a7a6-a8edd78b5137')\"\n",
              "              title=\"Convert this dataframe to an interactive table.\"\n",
              "              style=\"display:none;\">\n",
              "        \n",
              "  <svg xmlns=\"http://www.w3.org/2000/svg\" height=\"24px\"viewBox=\"0 0 24 24\"\n",
              "       width=\"24px\">\n",
              "    <path d=\"M0 0h24v24H0V0z\" fill=\"none\"/>\n",
              "    <path d=\"M18.56 5.44l.94 2.06.94-2.06 2.06-.94-2.06-.94-.94-2.06-.94 2.06-2.06.94zm-11 1L8.5 8.5l.94-2.06 2.06-.94-2.06-.94L8.5 2.5l-.94 2.06-2.06.94zm10 10l.94 2.06.94-2.06 2.06-.94-2.06-.94-.94-2.06-.94 2.06-2.06.94z\"/><path d=\"M17.41 7.96l-1.37-1.37c-.4-.4-.92-.59-1.43-.59-.52 0-1.04.2-1.43.59L10.3 9.45l-7.72 7.72c-.78.78-.78 2.05 0 2.83L4 21.41c.39.39.9.59 1.41.59.51 0 1.02-.2 1.41-.59l7.78-7.78 2.81-2.81c.8-.78.8-2.07 0-2.86zM5.41 20L4 18.59l7.72-7.72 1.47 1.35L5.41 20z\"/>\n",
              "  </svg>\n",
              "      </button>\n",
              "      \n",
              "  <style>\n",
              "    .colab-df-container {\n",
              "      display:flex;\n",
              "      flex-wrap:wrap;\n",
              "      gap: 12px;\n",
              "    }\n",
              "\n",
              "    .colab-df-convert {\n",
              "      background-color: #E8F0FE;\n",
              "      border: none;\n",
              "      border-radius: 50%;\n",
              "      cursor: pointer;\n",
              "      display: none;\n",
              "      fill: #1967D2;\n",
              "      height: 32px;\n",
              "      padding: 0 0 0 0;\n",
              "      width: 32px;\n",
              "    }\n",
              "\n",
              "    .colab-df-convert:hover {\n",
              "      background-color: #E2EBFA;\n",
              "      box-shadow: 0px 1px 2px rgba(60, 64, 67, 0.3), 0px 1px 3px 1px rgba(60, 64, 67, 0.15);\n",
              "      fill: #174EA6;\n",
              "    }\n",
              "\n",
              "    [theme=dark] .colab-df-convert {\n",
              "      background-color: #3B4455;\n",
              "      fill: #D2E3FC;\n",
              "    }\n",
              "\n",
              "    [theme=dark] .colab-df-convert:hover {\n",
              "      background-color: #434B5C;\n",
              "      box-shadow: 0px 1px 3px 1px rgba(0, 0, 0, 0.15);\n",
              "      filter: drop-shadow(0px 1px 2px rgba(0, 0, 0, 0.3));\n",
              "      fill: #FFFFFF;\n",
              "    }\n",
              "  </style>\n",
              "\n",
              "      <script>\n",
              "        const buttonEl =\n",
              "          document.querySelector('#df-13e75304-103b-4904-a7a6-a8edd78b5137 button.colab-df-convert');\n",
              "        buttonEl.style.display =\n",
              "          google.colab.kernel.accessAllowed ? 'block' : 'none';\n",
              "\n",
              "        async function convertToInteractive(key) {\n",
              "          const element = document.querySelector('#df-13e75304-103b-4904-a7a6-a8edd78b5137');\n",
              "          const dataTable =\n",
              "            await google.colab.kernel.invokeFunction('convertToInteractive',\n",
              "                                                     [key], {});\n",
              "          if (!dataTable) return;\n",
              "\n",
              "          const docLinkHtml = 'Like what you see? Visit the ' +\n",
              "            '<a target=\"_blank\" href=https://colab.research.google.com/notebooks/data_table.ipynb>data table notebook</a>'\n",
              "            + ' to learn more about interactive tables.';\n",
              "          element.innerHTML = '';\n",
              "          dataTable['output_type'] = 'display_data';\n",
              "          await google.colab.output.renderOutput(dataTable, element);\n",
              "          const docLink = document.createElement('div');\n",
              "          docLink.innerHTML = docLinkHtml;\n",
              "          element.appendChild(docLink);\n",
              "        }\n",
              "      </script>\n",
              "    </div>\n",
              "  </div>\n",
              "  "
            ]
          },
          "metadata": {},
          "execution_count": 64
        }
      ]
    },
    {
      "cell_type": "code",
      "source": [
        "str_data[[\"Company\", \"City\", \"Drop\"]] = company_city\n",
        "str_data = str_data.drop(['Unnamed: 0', 'Company_City', 'Drop'], axis = 1)"
      ],
      "metadata": {
        "id": "2OVXoCIWDCex"
      },
      "execution_count": 65,
      "outputs": []
    },
    {
      "cell_type": "markdown",
      "source": [
        "Separating the state value from the city value is a little more complex due to the different kinds of cases. Whilst this requires a more lengthy processing, the logic at hand is simple and employs basic string methods to extract the required data. With the help of three helper functions applied across the data, the data is ready for feature extraction and data summarization."
      ],
      "metadata": {
        "id": "dlXWTZRpyuOx"
      }
    },
    {
      "cell_type": "code",
      "source": [
        "str_data.City.unique()"
      ],
      "metadata": {
        "colab": {
          "base_uri": "https://localhost:8080/"
        },
        "id": "46zjveFCr95Z",
        "outputId": "6ba34abe-c204-483e-a7ab-a2841b266f91"
      },
      "execution_count": 66,
      "outputs": [
        {
          "output_type": "execute_result",
          "data": {
            "text/plain": [
              "array(['Docklands VIC', 'Brisbane QLD', 'North Shore NSW',\n",
              "       'Melbourne VIC', 'Canberra ACT 2609', 'Mulgrave VIC',\n",
              "       'Parramatta NSW', 'Parkville VIC', 'Sydney NSW', 'Paddington NSW',\n",
              "       'Canberra ACT', 'Australia', 'Port Melbourne VIC 3207',\n",
              "       'Sydney NSW 2000', 'Victoria', 'Southbank VIC', 'Remote',\n",
              "       'Belconnen ACT 2617', 'Perth WA', 'Melbourne City Centre VIC',\n",
              "       'Crawley WA', 'City of Knox VIC', 'Queensland',\n",
              "       'Melbourne VIC 3000', 'South Melbourne VIC 3205',\n",
              "       'Adelaide CBD SA 5000', 'Geelong VIC', 'Newcastle NSW',\n",
              "       'New South Wales', 'Alice Springs NT 0870', 'Alexandria NSW',\n",
              "       'Frankston VIC', 'Cremorne VIC 3121', 'Waurn Ponds VIC',\n",
              "       'Sunbury VIC', 'Braeside VIC', 'Long Pocket QLD', 'Edinburgh SA',\n",
              "       'North Sydney NSW 2060', 'Abbotsford VIC', 'Perth WA 6000',\n",
              "       'Elizabeth SA', 'Brooklyn VIC', 'Gold Coast QLD', 'Queanbeyan NSW',\n",
              "       'Kew VIC 3101', 'Karratha WA', 'Wide Bay-Burnett QLD',\n",
              "       'Barangaroo NSW', 'Jandakot WA', 'Dalby QLD', 'Coolangatta QLD',\n",
              "       'Hamlyn Terrace NSW', 'Scoresby VIC', 'Notting Hill VIC',\n",
              "       'Brisbane QLD 4000', 'Murdoch WA', 'Launceston TAS',\n",
              "       'Hawthorn East VIC 3123', 'Mawson Lakes SA',\n",
              "       'Macquarie Park NSW 2113', 'Middlemount QLD 4746',\n",
              "       'Sydney Central Business District NSW', 'North Parramatta NSW',\n",
              "       'Mulgrave VIC 3170', 'Adelaide Region SA', 'Toowong QLD',\n",
              "       'Milton QLD', 'Pyrmont NSW 2009', 'Tasmania', 'Darwin NT',\n",
              "       'Docklands VIC 3008', 'Sunshine Coast QLD', 'Wagga Wagga NSW 2650',\n",
              "       'Camberwell VIC 3124', 'North Sydney NSW', 'North Ryde NSW',\n",
              "       'Osborne Park WA', 'Alexandria NSW 2015', 'Darlinghurst NSW 2010',\n",
              "       'Western Australia', 'Kingston ACT', 'Chatswood NSW', 'Tumut NSW',\n",
              "       'Booragoon WA', 'Perth Central Business District WA',\n",
              "       'Pyrmont NSW', 'Cockburn WA', 'Welshpool WA 6106', 'Fremantle WA',\n",
              "       'St Leonards NSW', 'Dutton Park QLD', 'Westmead NSW 2145',\n",
              "       'Clayton VIC', 'Murarrie QLD 4172', 'Romsey VIC', 'Bendigo VIC',\n",
              "       'Wellington NSW', 'Barton ACT 2600', 'Majura ACT'], dtype=object)"
            ]
          },
          "metadata": {},
          "execution_count": 66
        }
      ]
    },
    {
      "cell_type": "code",
      "source": [
        "def drop_postcode(string):\n",
        "  #if the string ends in a postcode, remove it\n",
        "  if string[-4:].isdigit():\n",
        "    return string[:-5]\n",
        "  else:\n",
        "    return string\n",
        "\n",
        "print(drop_postcode('Canberra ACT 2609'))\n",
        "print(drop_postcode('Melbourne VIC'))"
      ],
      "metadata": {
        "colab": {
          "base_uri": "https://localhost:8080/"
        },
        "id": "ARcjFNFs-_jh",
        "outputId": "43c2ba38-a4cf-4718-bb37-ad25e2860621"
      },
      "execution_count": 67,
      "outputs": [
        {
          "output_type": "stream",
          "name": "stdout",
          "text": [
            "Canberra ACT\n",
            "Melbourne VIC\n"
          ]
        }
      ]
    },
    {
      "cell_type": "code",
      "source": [
        "short_states = {'New South Wales' : 'NSW', \n",
        "                  'Victoria' : \"VIC\", \n",
        "                  'Queensland': \"QLD\",\n",
        "                  'Australian Captial Territory': 'ACT',\n",
        "                  'South Australia' : 'SA',\n",
        "                  'Western Australia' : 'WA',\n",
        "                  'Northern Territory' : 'NT',\n",
        "                  'Tasmania' : 'TAS'}"
      ],
      "metadata": {
        "id": "JV1rDYqMspE5"
      },
      "execution_count": 68,
      "outputs": []
    },
    {
      "cell_type": "code",
      "source": [
        "def get_state(string):\n",
        "  if string in short_states:\n",
        "    return short_states.get(string)\n",
        "  elif string in ['Australia', 'Remote']: #deal with remote cases\n",
        "    return np.NaN\n",
        "  else:\n",
        "    return string[-3:].replace(\" \", \"\") #allow both 2 and 3 letter state names\n",
        "\n",
        "def get_city(string):\n",
        "  string = string.replace(\" Central Business District\", \"\") #remove postamble\n",
        "  string = string.replace(\" City Centre\", \"\")\n",
        "  if string in ['Australia', 'Remote']: #deal with remote cases\n",
        "    return string\n",
        "  city = string[:-3]\n",
        "  if city[-1] == \" \":\n",
        "    return city[:-1]\n",
        "  else:\n",
        "    return city\n",
        "\n",
        "print(get_state('Adelaide SA'))\n",
        "print(get_city('North Shore NSW'))"
      ],
      "metadata": {
        "colab": {
          "base_uri": "https://localhost:8080/"
        },
        "id": "YJt3vekxS7nX",
        "outputId": "fc93ce83-3f23-45e7-b1a3-0c7cb5c0c1d8"
      },
      "execution_count": 69,
      "outputs": [
        {
          "output_type": "stream",
          "name": "stdout",
          "text": [
            "SA\n",
            "North Shore\n"
          ]
        }
      ]
    },
    {
      "cell_type": "markdown",
      "source": [
        "We can now apply our helper functions across our data frame and complete our first cleaning task."
      ],
      "metadata": {
        "id": "Fnfyko7BuDQS"
      }
    },
    {
      "cell_type": "code",
      "source": [
        "str_data[\"City\"] = str_data[\"City\"].apply(drop_postcode)\n",
        "str_data[\"State\"] = str_data[\"City\"].apply(get_state)\n",
        "str_data[\"City\"] = str_data[\"City\"].apply(get_city)\n",
        "str_data.head()"
      ],
      "metadata": {
        "colab": {
          "base_uri": "https://localhost:8080/",
          "height": 206
        },
        "id": "6t8Em4fNSZj5",
        "outputId": "2694da6b-1bb9-435f-c77e-4f8d1068d7f8"
      },
      "execution_count": 70,
      "outputs": [
        {
          "output_type": "execute_result",
          "data": {
            "text/plain": [
              "                                           Job Title Salary  \\\n",
              "0                           Data Enablement Graduate    NaN   \n",
              "1         Suncorp 2023 Data Science Graduate Program    NaN   \n",
              "2  Data Science Graduate/Undergraduate - Immed St...    NaN   \n",
              "3             Graduate Research Laboratory Scientist    NaN   \n",
              "4  Consulting - Data & AI - 2022/23 Graduate Prog...    NaN   \n",
              "\n",
              "                                         Description        Company  \\\n",
              "0  As one of the world's largest toll-road operat...     Transurban   \n",
              "1  At Suncorp Group we work with care to create t...  Suncorp Group   \n",
              "2  Be part of the Award Winning CIMIC Graduate Pr...    UGL Limited   \n",
              "3  Alfred Health\\n\\nAlfred Health is a leader in ...  Alfred Health   \n",
              "4  Date: 16-Aug-2022\\n\\nLocation:\\nCanberra, ACT,...       Deloitte   \n",
              "\n",
              "          City State  \n",
              "0    Docklands   VIC  \n",
              "1     Brisbane   QLD  \n",
              "2  North Shore   NSW  \n",
              "3    Melbourne   VIC  \n",
              "4     Canberra   ACT  "
            ],
            "text/html": [
              "\n",
              "  <div id=\"df-24ef591b-97e6-43aa-b351-19de7fc5f51c\">\n",
              "    <div class=\"colab-df-container\">\n",
              "      <div>\n",
              "<style scoped>\n",
              "    .dataframe tbody tr th:only-of-type {\n",
              "        vertical-align: middle;\n",
              "    }\n",
              "\n",
              "    .dataframe tbody tr th {\n",
              "        vertical-align: top;\n",
              "    }\n",
              "\n",
              "    .dataframe thead th {\n",
              "        text-align: right;\n",
              "    }\n",
              "</style>\n",
              "<table border=\"1\" class=\"dataframe\">\n",
              "  <thead>\n",
              "    <tr style=\"text-align: right;\">\n",
              "      <th></th>\n",
              "      <th>Job Title</th>\n",
              "      <th>Salary</th>\n",
              "      <th>Description</th>\n",
              "      <th>Company</th>\n",
              "      <th>City</th>\n",
              "      <th>State</th>\n",
              "    </tr>\n",
              "  </thead>\n",
              "  <tbody>\n",
              "    <tr>\n",
              "      <th>0</th>\n",
              "      <td>Data Enablement Graduate</td>\n",
              "      <td>NaN</td>\n",
              "      <td>As one of the world's largest toll-road operat...</td>\n",
              "      <td>Transurban</td>\n",
              "      <td>Docklands</td>\n",
              "      <td>VIC</td>\n",
              "    </tr>\n",
              "    <tr>\n",
              "      <th>1</th>\n",
              "      <td>Suncorp 2023 Data Science Graduate Program</td>\n",
              "      <td>NaN</td>\n",
              "      <td>At Suncorp Group we work with care to create t...</td>\n",
              "      <td>Suncorp Group</td>\n",
              "      <td>Brisbane</td>\n",
              "      <td>QLD</td>\n",
              "    </tr>\n",
              "    <tr>\n",
              "      <th>2</th>\n",
              "      <td>Data Science Graduate/Undergraduate - Immed St...</td>\n",
              "      <td>NaN</td>\n",
              "      <td>Be part of the Award Winning CIMIC Graduate Pr...</td>\n",
              "      <td>UGL Limited</td>\n",
              "      <td>North Shore</td>\n",
              "      <td>NSW</td>\n",
              "    </tr>\n",
              "    <tr>\n",
              "      <th>3</th>\n",
              "      <td>Graduate Research Laboratory Scientist</td>\n",
              "      <td>NaN</td>\n",
              "      <td>Alfred Health\\n\\nAlfred Health is a leader in ...</td>\n",
              "      <td>Alfred Health</td>\n",
              "      <td>Melbourne</td>\n",
              "      <td>VIC</td>\n",
              "    </tr>\n",
              "    <tr>\n",
              "      <th>4</th>\n",
              "      <td>Consulting - Data &amp; AI - 2022/23 Graduate Prog...</td>\n",
              "      <td>NaN</td>\n",
              "      <td>Date: 16-Aug-2022\\n\\nLocation:\\nCanberra, ACT,...</td>\n",
              "      <td>Deloitte</td>\n",
              "      <td>Canberra</td>\n",
              "      <td>ACT</td>\n",
              "    </tr>\n",
              "  </tbody>\n",
              "</table>\n",
              "</div>\n",
              "      <button class=\"colab-df-convert\" onclick=\"convertToInteractive('df-24ef591b-97e6-43aa-b351-19de7fc5f51c')\"\n",
              "              title=\"Convert this dataframe to an interactive table.\"\n",
              "              style=\"display:none;\">\n",
              "        \n",
              "  <svg xmlns=\"http://www.w3.org/2000/svg\" height=\"24px\"viewBox=\"0 0 24 24\"\n",
              "       width=\"24px\">\n",
              "    <path d=\"M0 0h24v24H0V0z\" fill=\"none\"/>\n",
              "    <path d=\"M18.56 5.44l.94 2.06.94-2.06 2.06-.94-2.06-.94-.94-2.06-.94 2.06-2.06.94zm-11 1L8.5 8.5l.94-2.06 2.06-.94-2.06-.94L8.5 2.5l-.94 2.06-2.06.94zm10 10l.94 2.06.94-2.06 2.06-.94-2.06-.94-.94-2.06-.94 2.06-2.06.94z\"/><path d=\"M17.41 7.96l-1.37-1.37c-.4-.4-.92-.59-1.43-.59-.52 0-1.04.2-1.43.59L10.3 9.45l-7.72 7.72c-.78.78-.78 2.05 0 2.83L4 21.41c.39.39.9.59 1.41.59.51 0 1.02-.2 1.41-.59l7.78-7.78 2.81-2.81c.8-.78.8-2.07 0-2.86zM5.41 20L4 18.59l7.72-7.72 1.47 1.35L5.41 20z\"/>\n",
              "  </svg>\n",
              "      </button>\n",
              "      \n",
              "  <style>\n",
              "    .colab-df-container {\n",
              "      display:flex;\n",
              "      flex-wrap:wrap;\n",
              "      gap: 12px;\n",
              "    }\n",
              "\n",
              "    .colab-df-convert {\n",
              "      background-color: #E8F0FE;\n",
              "      border: none;\n",
              "      border-radius: 50%;\n",
              "      cursor: pointer;\n",
              "      display: none;\n",
              "      fill: #1967D2;\n",
              "      height: 32px;\n",
              "      padding: 0 0 0 0;\n",
              "      width: 32px;\n",
              "    }\n",
              "\n",
              "    .colab-df-convert:hover {\n",
              "      background-color: #E2EBFA;\n",
              "      box-shadow: 0px 1px 2px rgba(60, 64, 67, 0.3), 0px 1px 3px 1px rgba(60, 64, 67, 0.15);\n",
              "      fill: #174EA6;\n",
              "    }\n",
              "\n",
              "    [theme=dark] .colab-df-convert {\n",
              "      background-color: #3B4455;\n",
              "      fill: #D2E3FC;\n",
              "    }\n",
              "\n",
              "    [theme=dark] .colab-df-convert:hover {\n",
              "      background-color: #434B5C;\n",
              "      box-shadow: 0px 1px 3px 1px rgba(0, 0, 0, 0.15);\n",
              "      filter: drop-shadow(0px 1px 2px rgba(0, 0, 0, 0.3));\n",
              "      fill: #FFFFFF;\n",
              "    }\n",
              "  </style>\n",
              "\n",
              "      <script>\n",
              "        const buttonEl =\n",
              "          document.querySelector('#df-24ef591b-97e6-43aa-b351-19de7fc5f51c button.colab-df-convert');\n",
              "        buttonEl.style.display =\n",
              "          google.colab.kernel.accessAllowed ? 'block' : 'none';\n",
              "\n",
              "        async function convertToInteractive(key) {\n",
              "          const element = document.querySelector('#df-24ef591b-97e6-43aa-b351-19de7fc5f51c');\n",
              "          const dataTable =\n",
              "            await google.colab.kernel.invokeFunction('convertToInteractive',\n",
              "                                                     [key], {});\n",
              "          if (!dataTable) return;\n",
              "\n",
              "          const docLinkHtml = 'Like what you see? Visit the ' +\n",
              "            '<a target=\"_blank\" href=https://colab.research.google.com/notebooks/data_table.ipynb>data table notebook</a>'\n",
              "            + ' to learn more about interactive tables.';\n",
              "          element.innerHTML = '';\n",
              "          dataTable['output_type'] = 'display_data';\n",
              "          await google.colab.output.renderOutput(dataTable, element);\n",
              "          const docLink = document.createElement('div');\n",
              "          docLink.innerHTML = docLinkHtml;\n",
              "          element.appendChild(docLink);\n",
              "        }\n",
              "      </script>\n",
              "    </div>\n",
              "  </div>\n",
              "  "
            ]
          },
          "metadata": {},
          "execution_count": 70
        }
      ]
    },
    {
      "cell_type": "markdown",
      "source": [
        "# 3.1-2 Data Wrangling, Feature Extraction and Data Summarisation"
      ],
      "metadata": {
        "id": "9M0ptwmiuRwE"
      }
    },
    {
      "cell_type": "markdown",
      "source": [
        "## Salary"
      ],
      "metadata": {
        "id": "HzeeWAZOguN7"
      }
    },
    {
      "cell_type": "markdown",
      "source": [
        "Now that the data has been wrangled and parsed into meaningful attributes, the six attributes require conversion into features that a machine learning model can handle. The first is the target variable, Salary. To avoid unecessary iterating, relevant computations are only performed on the records that have an attached salary."
      ],
      "metadata": {
        "id": "fLAG5ecTeV3C"
      }
    },
    {
      "cell_type": "code",
      "source": [
        "salaried_data = str_data[str_data[\"Salary\"].notnull()]\n",
        "non_salaried_data = str_data[str_data[\"Salary\"].isna()]\n",
        "if len(salaried_data) + len(non_salaried_data) != len(str_data):\n",
        "  print(\"Something went wrong\")"
      ],
      "metadata": {
        "id": "n9h2bxqUU79r"
      },
      "execution_count": 71,
      "outputs": []
    },
    {
      "cell_type": "markdown",
      "source": [
        "The salary field contains two important pieces of information: the pay rate and the pay frequency. Similar to the above case, the str.split() method is employed, this time using the string \" a\" as a separator."
      ],
      "metadata": {
        "id": "HnKTx4fhuiOj"
      }
    },
    {
      "cell_type": "code",
      "source": [
        "rate_freq = salaried_data['Salary'].str.split(pat = \" a\", expand = True)\n",
        "rate_freq.head()"
      ],
      "metadata": {
        "colab": {
          "base_uri": "https://localhost:8080/",
          "height": 206
        },
        "id": "oc3wsc1FXpGQ",
        "outputId": "f3773c72-7b5c-4abb-db67-81dde4b0ea3d"
      },
      "execution_count": 72,
      "outputs": [
        {
          "output_type": "execute_result",
          "data": {
            "text/plain": [
              "                      0       1\n",
              "9              $103,308    year\n",
              "12  $101,035 - $118,442    year\n",
              "14    $60,895 - $68,954    year\n",
              "17               $46.20  n hour\n",
              "24    $72,751 - $80,545    year"
            ],
            "text/html": [
              "\n",
              "  <div id=\"df-14bb5deb-8557-49df-9d5e-7e7fd7109c53\">\n",
              "    <div class=\"colab-df-container\">\n",
              "      <div>\n",
              "<style scoped>\n",
              "    .dataframe tbody tr th:only-of-type {\n",
              "        vertical-align: middle;\n",
              "    }\n",
              "\n",
              "    .dataframe tbody tr th {\n",
              "        vertical-align: top;\n",
              "    }\n",
              "\n",
              "    .dataframe thead th {\n",
              "        text-align: right;\n",
              "    }\n",
              "</style>\n",
              "<table border=\"1\" class=\"dataframe\">\n",
              "  <thead>\n",
              "    <tr style=\"text-align: right;\">\n",
              "      <th></th>\n",
              "      <th>0</th>\n",
              "      <th>1</th>\n",
              "    </tr>\n",
              "  </thead>\n",
              "  <tbody>\n",
              "    <tr>\n",
              "      <th>9</th>\n",
              "      <td>$103,308</td>\n",
              "      <td>year</td>\n",
              "    </tr>\n",
              "    <tr>\n",
              "      <th>12</th>\n",
              "      <td>$101,035 - $118,442</td>\n",
              "      <td>year</td>\n",
              "    </tr>\n",
              "    <tr>\n",
              "      <th>14</th>\n",
              "      <td>$60,895 - $68,954</td>\n",
              "      <td>year</td>\n",
              "    </tr>\n",
              "    <tr>\n",
              "      <th>17</th>\n",
              "      <td>$46.20</td>\n",
              "      <td>n hour</td>\n",
              "    </tr>\n",
              "    <tr>\n",
              "      <th>24</th>\n",
              "      <td>$72,751 - $80,545</td>\n",
              "      <td>year</td>\n",
              "    </tr>\n",
              "  </tbody>\n",
              "</table>\n",
              "</div>\n",
              "      <button class=\"colab-df-convert\" onclick=\"convertToInteractive('df-14bb5deb-8557-49df-9d5e-7e7fd7109c53')\"\n",
              "              title=\"Convert this dataframe to an interactive table.\"\n",
              "              style=\"display:none;\">\n",
              "        \n",
              "  <svg xmlns=\"http://www.w3.org/2000/svg\" height=\"24px\"viewBox=\"0 0 24 24\"\n",
              "       width=\"24px\">\n",
              "    <path d=\"M0 0h24v24H0V0z\" fill=\"none\"/>\n",
              "    <path d=\"M18.56 5.44l.94 2.06.94-2.06 2.06-.94-2.06-.94-.94-2.06-.94 2.06-2.06.94zm-11 1L8.5 8.5l.94-2.06 2.06-.94-2.06-.94L8.5 2.5l-.94 2.06-2.06.94zm10 10l.94 2.06.94-2.06 2.06-.94-2.06-.94-.94-2.06-.94 2.06-2.06.94z\"/><path d=\"M17.41 7.96l-1.37-1.37c-.4-.4-.92-.59-1.43-.59-.52 0-1.04.2-1.43.59L10.3 9.45l-7.72 7.72c-.78.78-.78 2.05 0 2.83L4 21.41c.39.39.9.59 1.41.59.51 0 1.02-.2 1.41-.59l7.78-7.78 2.81-2.81c.8-.78.8-2.07 0-2.86zM5.41 20L4 18.59l7.72-7.72 1.47 1.35L5.41 20z\"/>\n",
              "  </svg>\n",
              "      </button>\n",
              "      \n",
              "  <style>\n",
              "    .colab-df-container {\n",
              "      display:flex;\n",
              "      flex-wrap:wrap;\n",
              "      gap: 12px;\n",
              "    }\n",
              "\n",
              "    .colab-df-convert {\n",
              "      background-color: #E8F0FE;\n",
              "      border: none;\n",
              "      border-radius: 50%;\n",
              "      cursor: pointer;\n",
              "      display: none;\n",
              "      fill: #1967D2;\n",
              "      height: 32px;\n",
              "      padding: 0 0 0 0;\n",
              "      width: 32px;\n",
              "    }\n",
              "\n",
              "    .colab-df-convert:hover {\n",
              "      background-color: #E2EBFA;\n",
              "      box-shadow: 0px 1px 2px rgba(60, 64, 67, 0.3), 0px 1px 3px 1px rgba(60, 64, 67, 0.15);\n",
              "      fill: #174EA6;\n",
              "    }\n",
              "\n",
              "    [theme=dark] .colab-df-convert {\n",
              "      background-color: #3B4455;\n",
              "      fill: #D2E3FC;\n",
              "    }\n",
              "\n",
              "    [theme=dark] .colab-df-convert:hover {\n",
              "      background-color: #434B5C;\n",
              "      box-shadow: 0px 1px 3px 1px rgba(0, 0, 0, 0.15);\n",
              "      filter: drop-shadow(0px 1px 2px rgba(0, 0, 0, 0.3));\n",
              "      fill: #FFFFFF;\n",
              "    }\n",
              "  </style>\n",
              "\n",
              "      <script>\n",
              "        const buttonEl =\n",
              "          document.querySelector('#df-14bb5deb-8557-49df-9d5e-7e7fd7109c53 button.colab-df-convert');\n",
              "        buttonEl.style.display =\n",
              "          google.colab.kernel.accessAllowed ? 'block' : 'none';\n",
              "\n",
              "        async function convertToInteractive(key) {\n",
              "          const element = document.querySelector('#df-14bb5deb-8557-49df-9d5e-7e7fd7109c53');\n",
              "          const dataTable =\n",
              "            await google.colab.kernel.invokeFunction('convertToInteractive',\n",
              "                                                     [key], {});\n",
              "          if (!dataTable) return;\n",
              "\n",
              "          const docLinkHtml = 'Like what you see? Visit the ' +\n",
              "            '<a target=\"_blank\" href=https://colab.research.google.com/notebooks/data_table.ipynb>data table notebook</a>'\n",
              "            + ' to learn more about interactive tables.';\n",
              "          element.innerHTML = '';\n",
              "          dataTable['output_type'] = 'display_data';\n",
              "          await google.colab.output.renderOutput(dataTable, element);\n",
              "          const docLink = document.createElement('div');\n",
              "          docLink.innerHTML = docLinkHtml;\n",
              "          element.appendChild(docLink);\n",
              "        }\n",
              "      </script>\n",
              "    </div>\n",
              "  </div>\n",
              "  "
            ]
          },
          "metadata": {},
          "execution_count": 72
        }
      ]
    },
    {
      "cell_type": "code",
      "source": [
        "salaried_data[[\"Pay Rate\", \"Pay Freq\"]] = rate_freq"
      ],
      "metadata": {
        "colab": {
          "base_uri": "https://localhost:8080/"
        },
        "id": "8ElX8GBCX_ZI",
        "outputId": "83e5de76-1672-413d-8b9a-7278fe9224c5"
      },
      "execution_count": 73,
      "outputs": [
        {
          "output_type": "stream",
          "name": "stderr",
          "text": [
            "/usr/local/lib/python3.7/dist-packages/pandas/core/frame.py:3641: SettingWithCopyWarning: \n",
            "A value is trying to be set on a copy of a slice from a DataFrame.\n",
            "Try using .loc[row_indexer,col_indexer] = value instead\n",
            "\n",
            "See the caveats in the documentation: https://pandas.pydata.org/pandas-docs/stable/user_guide/indexing.html#returning-a-view-versus-a-copy\n",
            "  self[k1] = value[k2]\n"
          ]
        }
      ]
    },
    {
      "cell_type": "markdown",
      "source": [
        "By calling unique() on the Pay Freq field, conditions for a helper function can be established to determine the different types of pay periods. Then and the necessary correction to convert them to a full time yearly salary can be returned."
      ],
      "metadata": {
        "id": "BedBw4avdw-E"
      }
    },
    {
      "cell_type": "code",
      "source": [
        "salaried_data[\"Pay Freq\"].unique()"
      ],
      "metadata": {
        "colab": {
          "base_uri": "https://localhost:8080/"
        },
        "id": "7SeM5ZTSYTxb",
        "outputId": "c8d06be0-a017-4ec6-87bb-910f6d19476d"
      },
      "execution_count": 74,
      "outputs": [
        {
          "output_type": "execute_result",
          "data": {
            "text/plain": [
              "array([' year', 'n hour', ' day', ' month'], dtype=object)"
            ]
          },
          "metadata": {},
          "execution_count": 74
        }
      ]
    },
    {
      "cell_type": "markdown",
      "source": [
        "The corrections for daily pay reflect the statistics captured by the OECD (2022). It was determine that an average Australian worked 1714 per year between the years of 2017-2021. This figure was then divided by 7.6, the basis for which is the standards set out by the Fair Work Ombudsman (2022) for full-time employees."
      ],
      "metadata": {
        "id": "BpaKtUCCvrUQ"
      }
    },
    {
      "cell_type": "code",
      "source": [
        "def get_pay_periods(string):\n",
        "  if string == ' year':\n",
        "    return 1\n",
        "  if string == 'n hour':\n",
        "    return 1714\n",
        "  if string == ' day':\n",
        "    return 225.5\n",
        "  if string == ' month':\n",
        "    return 12"
      ],
      "metadata": {
        "id": "p9BtqJvpYhwU"
      },
      "execution_count": 75,
      "outputs": []
    },
    {
      "cell_type": "code",
      "source": [
        "salaried_data[\"Pay Periods\"] = salaried_data[\"Pay Freq\"].apply(get_pay_periods)"
      ],
      "metadata": {
        "colab": {
          "base_uri": "https://localhost:8080/"
        },
        "id": "Do3taj8ohMl4",
        "outputId": "1aa99c25-daba-4445-e03e-1a388bd66f08"
      },
      "execution_count": 76,
      "outputs": [
        {
          "output_type": "stream",
          "name": "stderr",
          "text": [
            "/usr/local/lib/python3.7/dist-packages/ipykernel_launcher.py:1: SettingWithCopyWarning: \n",
            "A value is trying to be set on a copy of a slice from a DataFrame.\n",
            "Try using .loc[row_indexer,col_indexer] = value instead\n",
            "\n",
            "See the caveats in the documentation: https://pandas.pydata.org/pandas-docs/stable/user_guide/indexing.html#returning-a-view-versus-a-copy\n",
            "  \"\"\"Entry point for launching an IPython kernel.\n"
          ]
        }
      ]
    },
    {
      "cell_type": "markdown",
      "source": [
        "The pay rate derived from parsing the original Salary field often comes as a range, so the helper function get_pay_amount() checks if it is presented as a range, and if so finds the midpoint, and returns the value as a float."
      ],
      "metadata": {
        "id": "jrTzuI88yB1K"
      }
    },
    {
      "cell_type": "code",
      "source": [
        "def get_pay_amount(string):\n",
        "  string = string.replace('$', '')\n",
        "  string = string.replace(',', '')\n",
        "  if '-' in string:\n",
        "    string = string.split(' - ')\n",
        "    pay_range = [float(x) for x in string]\n",
        "    return sum(pay_range)/len(pay_range)\n",
        "  else:\n",
        "    return float(string)\n",
        "  \n",
        "print(get_pay_amount('$101,035 - $118,442'))\n",
        "print(get_pay_amount('$103,308'))\n"
      ],
      "metadata": {
        "colab": {
          "base_uri": "https://localhost:8080/"
        },
        "id": "YzAjFUCVhkne",
        "outputId": "74d1d6f5-8ff7-41bc-aa92-a3bcb60f22f7"
      },
      "execution_count": 77,
      "outputs": [
        {
          "output_type": "stream",
          "name": "stdout",
          "text": [
            "109738.5\n",
            "103308.0\n"
          ]
        }
      ]
    },
    {
      "cell_type": "markdown",
      "source": [
        "Multiplying the pay amount by the pay rate yields a new standardized attribute, Salary FTE (Full Time Equivalent)."
      ],
      "metadata": {
        "id": "Lix1o-eQe9tN"
      }
    },
    {
      "cell_type": "code",
      "source": [
        "salaried_data[\"Salary FTE\"] = salaried_data[\"Pay Rate\"].apply(get_pay_amount) * salaried_data[\"Pay Periods\"]"
      ],
      "metadata": {
        "colab": {
          "base_uri": "https://localhost:8080/"
        },
        "id": "5feg_1kOj0-t",
        "outputId": "bcb59698-d23b-4839-8634-a6dc048c7fae"
      },
      "execution_count": 78,
      "outputs": [
        {
          "output_type": "stream",
          "name": "stderr",
          "text": [
            "/usr/local/lib/python3.7/dist-packages/ipykernel_launcher.py:1: SettingWithCopyWarning: \n",
            "A value is trying to be set on a copy of a slice from a DataFrame.\n",
            "Try using .loc[row_indexer,col_indexer] = value instead\n",
            "\n",
            "See the caveats in the documentation: https://pandas.pydata.org/pandas-docs/stable/user_guide/indexing.html#returning-a-view-versus-a-copy\n",
            "  \"\"\"Entry point for launching an IPython kernel.\n"
          ]
        }
      ]
    },
    {
      "cell_type": "markdown",
      "source": [
        "Finally, the data is recombined and the order of columns is changed."
      ],
      "metadata": {
        "id": "tvjwXSe00K1T"
      }
    },
    {
      "cell_type": "code",
      "source": [
        "salaried_data = salaried_data.drop(['Pay Rate', 'Pay Freq', 'Pay Periods', 'Salary'], axis = 1)"
      ],
      "metadata": {
        "id": "xAE22IsckXv5"
      },
      "execution_count": 79,
      "outputs": []
    },
    {
      "cell_type": "code",
      "source": [
        "prefer_column_order = [\"Salary FTE\", \"City\", \"State\", \"Company\", \"Job Title\", \"Description\"]\n",
        "non_salaried_data = non_salaried_data.rename({\"Salary\" : \"Salary FTE\"}, axis = 1)\n",
        "\n",
        "salaried_data = salaried_data.reindex(columns = prefer_column_order)\n",
        "non_salaried_data = non_salaried_data.reindex(columns = prefer_column_order)"
      ],
      "metadata": {
        "id": "Emb2wrb0oq1p"
      },
      "execution_count": 80,
      "outputs": []
    },
    {
      "cell_type": "code",
      "source": [
        "str_data = pd.concat([salaried_data, non_salaried_data])\n",
        "str_data = str_data.reset_index(drop = True)"
      ],
      "metadata": {
        "id": "nFUOnGDDq1Rk"
      },
      "execution_count": 81,
      "outputs": []
    },
    {
      "cell_type": "code",
      "source": [
        "ax = sns.violinplot(y = str_data[\"Salary FTE\"])"
      ],
      "metadata": {
        "colab": {
          "base_uri": "https://localhost:8080/",
          "height": 252
        },
        "id": "Tb54HWlyXYnD",
        "outputId": "af154094-d847-4e01-8d52-33e51b3f8d3c"
      },
      "execution_count": 82,
      "outputs": [
        {
          "output_type": "display_data",
          "data": {
            "text/plain": [
              "<Figure size 432x288 with 1 Axes>"
            ],
            "image/png": "[encoded data removed]"
          },
          "metadata": {
            "needs_background": "light"
          }
        }
      ]
    },
    {
      "cell_type": "code",
      "source": [
        "str_data[\"Salary FTE\"].describe().round(2)"
      ],
      "metadata": {
        "colab": {
          "base_uri": "https://localhost:8080/"
        },
        "id": "gJJ2-404XnPL",
        "outputId": "8bc83aa4-f62d-40ed-bfd8-1c32b1c545f1"
      },
      "execution_count": 83,
      "outputs": [
        {
          "output_type": "execute_result",
          "data": {
            "text/plain": [
              "count       173.00\n",
              "mean     106469.23\n",
              "std       37783.65\n",
              "min       15899.00\n",
              "25%       83542.00\n",
              "50%      100000.00\n",
              "75%      118012.00\n",
              "max      270600.00\n",
              "Name: Salary FTE, dtype: float64"
            ]
          },
          "metadata": {},
          "execution_count": 83
        }
      ]
    },
    {
      "cell_type": "markdown",
      "source": [
        "Evaluating the distribution of the Salary FTE from the violin plot, there is a moderate positive skew about the data. There are no values that require certain elimination."
      ],
      "metadata": {
        "id": "8RJd9TdnX-pc"
      }
    },
    {
      "cell_type": "markdown",
      "source": [
        "## City"
      ],
      "metadata": {
        "id": "p-78L3wfgykC"
      }
    },
    {
      "cell_type": "markdown",
      "source": [
        "Moving to the two categorical variables in the dataset, City and State, there is a requiem to convert these to numerical or boolean features to appease the machine learning method (Random Forest Regressor). The proposed conversion is to a boolean variable that flags whether or not the city is a state capital."
      ],
      "metadata": {
        "id": "zXYK3tTBUbX7"
      }
    },
    {
      "cell_type": "code",
      "source": [
        "state_capitals = ['Sydney', 'Melbourne', 'Brisbane', 'Adelaide', 'Darwin', 'Canberra', 'Perth', 'Hobart']\n",
        "def is_capital(string):\n",
        "  if string in state_capitals:\n",
        "    return True\n",
        "  else:\n",
        "    return False\n"
      ],
      "metadata": {
        "id": "BqPSK4QYgjsS"
      },
      "execution_count": 84,
      "outputs": []
    },
    {
      "cell_type": "code",
      "source": [
        "str_data[\"Capital\"] = str_data[\"City\"].apply(is_capital)\n",
        "str_data[\"Capital\"].nunique()"
      ],
      "metadata": {
        "id": "2j6v_1hriJTt"
      },
      "execution_count": null,
      "outputs": []
    },
    {
      "cell_type": "code",
      "source": [
        "ax = sns.violinplot(x = \"Capital\", y = \"Salary FTE\", data = str_data)"
      ],
      "metadata": {
        "colab": {
          "base_uri": "https://localhost:8080/",
          "height": 279
        },
        "id": "ALJecTWsWuqn",
        "outputId": "72590059-41c3-484c-f948-33395ee6161a"
      },
      "execution_count": 86,
      "outputs": [
        {
          "output_type": "display_data",
          "data": {
            "text/plain": [
              "<Figure size 432x288 with 1 Axes>"
            ],
            "image/png": "[encoded data removed]"
          },
          "metadata": {
            "needs_background": "light"
          }
        }
      ]
    },
    {
      "cell_type": "markdown",
      "source": [
        "There is enough variability demonstrated in the grouped distribution to suggest that there may be some useful signal in the generated boolean feature, especially as Salary FTE increases. "
      ],
      "metadata": {
        "id": "rzCnIlbWZYCw"
      }
    },
    {
      "cell_type": "markdown",
      "source": [
        "## State"
      ],
      "metadata": {
        "id": "F27qbTa8fki8"
      }
    },
    {
      "cell_type": "code",
      "source": [
        "ax = sns.violinplot(x = \"State\", y = \"Salary FTE\", data = str_data)"
      ],
      "metadata": {
        "colab": {
          "base_uri": "https://localhost:8080/",
          "height": 279
        },
        "id": "y0AylLuzZtKc",
        "outputId": "b14d929a-c63d-4cb8-93f1-287d1e9183d5"
      },
      "execution_count": 88,
      "outputs": [
        {
          "output_type": "display_data",
          "data": {
            "text/plain": [
              "<Figure size 432x288 with 1 Axes>"
            ],
            "image/png": "[encoded data removed]"
          },
          "metadata": {
            "needs_background": "light"
          }
        }
      ]
    },
    {
      "cell_type": "markdown",
      "source": [
        "Given there are only eight factors in the State feature, we can opt to create dummy variables to convert the feature to numeric without any loss of signal. The violin plot above demonstrates that high salaries above AUD200,000 are constrained to NSW, VIC and ACT, so this feature should provide benefit to training the model in cases with high salaries."
      ],
      "metadata": {
        "id": "bFZ3pekzaGJn"
      }
    },
    {
      "cell_type": "code",
      "source": [
        "str_data = pd.get_dummies(str_data, columns = [\"State\"])"
      ],
      "metadata": {
        "id": "gf84VUdQkCuU"
      },
      "execution_count": 58,
      "outputs": []
    },
    {
      "cell_type": "markdown",
      "source": [
        "## NLP with Company, Job Title and Description"
      ],
      "metadata": {
        "id": "NcoK7uHal1fs"
      }
    },
    {
      "cell_type": "markdown",
      "source": [
        "### NLP Intent"
      ],
      "metadata": {
        "id": "t0ZxlFuWsJBz"
      }
    },
    {
      "cell_type": "markdown",
      "source": [
        "The intent for the natural language processing component is to generate no more than 300 features to capture the signal in the raw data of the text fields. This will be done by performing separate feature extractions on each of the text variables. The rationale for this is to capture corpus specific keywords (not stopwords) in the fields with a short corpus, Company and Job Title, as opposed to allowing the words within to be diluted by the massive Description Corpus. For an example, it is proposed that features such as 'Graduate' and 'Manager' in the Job Title field will be more significant to a machine learning model if their frequency is considered relative to only other terms in their own field. The fields with shorter corpi will naturally be called on for less features compared to the Description field."
      ],
      "metadata": {
        "id": "Fyg8p-zusMAk"
      }
    },
    {
      "cell_type": "markdown",
      "source": [
        "### Lemmatizing"
      ],
      "metadata": {
        "id": "904utgsQmGpx"
      }
    },
    {
      "cell_type": "markdown",
      "source": [
        "The first process in the NLP task is to convert the raw text into particles which the feature extraction programs can easily digest. A similar set of functions to that used in A1 is called upon here to convert the raw text into lemmatized form. This lemmatized form is easily ingested by the scikit-learn feature extractors."
      ],
      "metadata": {
        "id": "At1TZJZLzDh9"
      }
    },
    {
      "cell_type": "code",
      "source": [
        "possessives = re.compile(\"\\'s\") \n",
        "oddchars = re.compile(r\"[^\\w\\s]\") \n",
        "linebreak = re.compile(\"\\\\n\")\n",
        "stopwords = set(stopwords.words('english'))\n",
        "\n",
        "def text_cleaner(text):\n",
        "  text = text.lower()\n",
        "  text = re.sub(possessives, ' ', text)\n",
        "  text = re.sub(oddchars, ' ', text)\n",
        "  text = re.sub(linebreak, ' ', text)\n",
        "  return text\n",
        "\n",
        "def tokenize_lemmatize(text):\n",
        "  stem = WordNetLemmatizer()\n",
        "  tokens = []\n",
        "  for word in word_tokenize(text):\n",
        "    if word not in stopwords:\n",
        "      tokens.append(stem.lemmatize(word))\n",
        "  return tokens\n",
        "\n",
        "def rejoiner(text):\n",
        "  lem_sentence = \"\"\n",
        "  for word in text:\n",
        "    lem_sentence += word\n",
        "    lem_sentence += \" \"\n",
        "  return lem_sentence\n",
        "\n",
        "def lemmatizer(text):\n",
        "  clean_text = text_cleaner(text)\n",
        "  tok_lem_text = tokenize_lemmatize(clean_text)\n",
        "  lem_text = rejoiner(tok_lem_text)\n",
        "  return lem_text"
      ],
      "metadata": {
        "id": "9wSbOrch8ysg"
      },
      "execution_count": 90,
      "outputs": []
    },
    {
      "cell_type": "code",
      "source": [
        "str_data[\"Company\"] = str_data[\"Company\"].apply(lemmatizer)\n",
        "str_data[\"Job Title\"] = str_data[\"Job Title\"].apply(lemmatizer)\n",
        "str_data[\"Description\"] = str_data[\"Description\"].apply(lemmatizer)"
      ],
      "metadata": {
        "id": "Ki_RaoU4HZ04"
      },
      "execution_count": 91,
      "outputs": []
    },
    {
      "cell_type": "markdown",
      "source": [
        "### Company Corpus Visualization"
      ],
      "metadata": {
        "id": "ve-axDsYmYO3"
      }
    },
    {
      "cell_type": "code",
      "source": [
        "cv = CountVectorizer(ngram_range=(1, 1), stop_words='english')\n",
        "cv_matrix = cv.fit_transform(str_data['Company'])\n",
        "total_words = cv_matrix.sum(axis=0) \n",
        "freq = [(word, total_words[0, idx]) for word, idx in cv.vocabulary_.items()]\n",
        "freq = sorted(freq, key = lambda x: x[1], reverse=True)\n",
        "ngram = pd.DataFrame(freq)\n",
        "ngram.rename(columns = {0: 'word', 1: 'count'}, inplace = True) \n",
        "ngram = ngram.head(25)\n",
        "plt.figure(figsize=(18, 10), dpi=80)\n",
        "plt.bar(ngram['word'], ngram['count'])\n",
        "plt.xticks(rotation = 45)\n",
        "plt.xlabel(\"Feature\")\n",
        "plt.ylabel(\"Count\")\n",
        "plt.title(label = \"25 most common words in Company\")\n",
        "plt.show()"
      ],
      "metadata": {
        "colab": {
          "base_uri": "https://localhost:8080/",
          "height": 724
        },
        "id": "_GhpOBzvpbZA",
        "outputId": "d7736ff2-e038-4ecd-d731-42ac63d6f202"
      },
      "execution_count": 92,
      "outputs": [
        {
          "output_type": "display_data",
          "data": {
            "text/plain": [
              "<Figure size 1440x800 with 1 Axes>"
            ],
            "image/png": "[encoded data removed]"
          },
          "metadata": {
            "needs_background": "light"
          }
        }
      ]
    },
    {
      "cell_type": "markdown",
      "source": [
        "The above plot shows the counts of the 25 most common terms in the Company corpus. There are no corpus specific stopwords, with the most common feature \"university\", appearing in only 7.5% of cases. Furthermore, all of the features visualized have a frequency of greated than 1%, so there is almost certainly some signal in all of the features. Given the intention to not go overboard with the amount of features, 25 is considered an appropriate amount to leverage both data signal and model efficiency. Given the small size of the corpus, CountVectorizer() is an adequate method to extract features, and the pseudo-boolean nature of the features it generates will be efficient in a machine learning environment."
      ],
      "metadata": {
        "id": "-gnkRwtL1qED"
      }
    },
    {
      "cell_type": "markdown",
      "source": [
        "### Company Feature Extraction"
      ],
      "metadata": {
        "id": "03zlPW4UoIBT"
      }
    },
    {
      "cell_type": "code",
      "source": [
        "feature_extraction_company = CountVectorizer(max_features = 25, ngram_range = (1,1), stop_words = 'english')"
      ],
      "metadata": {
        "id": "r1XIbschoabh"
      },
      "execution_count": 93,
      "outputs": []
    },
    {
      "cell_type": "code",
      "source": [
        "feature_company_sparse = feature_extraction_company.fit_transform(str_data['Company'])\n",
        "feature_company_df = pd.DataFrame.sparse.from_spmatrix(feature_company_sparse)"
      ],
      "metadata": {
        "id": "prFXmTuPtTQj"
      },
      "execution_count": 94,
      "outputs": []
    },
    {
      "cell_type": "code",
      "source": [
        "feature_names_company = list(feature_extraction_company.vocabulary_.keys())\n",
        "feature_names_company = ['company_' + feature for feature in feature_names_company]\n",
        "feature_company_df.columns = feature_names_company"
      ],
      "metadata": {
        "id": "ahucYG_ktTey"
      },
      "execution_count": 95,
      "outputs": []
    },
    {
      "cell_type": "markdown",
      "source": [
        "### Job Title Corpus Visualization"
      ],
      "metadata": {
        "id": "gVwhSM3BoNCJ"
      }
    },
    {
      "cell_type": "code",
      "source": [
        "cv = CountVectorizer(ngram_range=(1, 1), stop_words='english')\n",
        "cv_matrix = cv.fit_transform(str_data['Job Title'])\n",
        "total_words = cv_matrix.sum(axis=0) \n",
        "freq = [(word, total_words[0, idx]) for word, idx in cv.vocabulary_.items()]\n",
        "freq = sorted(freq, key = lambda x: x[1], reverse=True)\n",
        "ngram = pd.DataFrame(freq)\n",
        "ngram.rename(columns = {0: 'word', 1: 'count'}, inplace = True) \n",
        "ngram = ngram.head(25)\n",
        "plt.figure(figsize=(18, 10), dpi=80)\n",
        "plt.bar(ngram['word'], ngram['count'])\n",
        "plt.xlabel(\"Feature\")\n",
        "plt.ylabel(\"Count\")\n",
        "plt.xticks(rotation = 45)\n",
        "plt.title(label = \"25 most common words in Job Title\")\n",
        "plt.show()"
      ],
      "metadata": {
        "colab": {
          "base_uri": "https://localhost:8080/",
          "height": 713
        },
        "id": "tWss0LkorcwU",
        "outputId": "5ab6beed-b58b-40c7-b2db-7cb2cbf2a1f8"
      },
      "execution_count": 96,
      "outputs": [
        {
          "output_type": "display_data",
          "data": {
            "text/plain": [
              "<Figure size 1440x800 with 1 Axes>"
            ],
            "image/png": "[encoded data removed]"
          },
          "metadata": {
            "needs_background": "light"
          }
        }
      ]
    },
    {
      "cell_type": "markdown",
      "source": [
        "The above plot shows the counts of the 25 most common terms in the Job Title corpus. Desipte being from a similarly sized corpus compared to the Company corpus, there are some differences in the interpretation. First of all, \"data\" is interpreted as a corpus-specific stopword, and a max_df ceiling will be asserted in feature extraction for exclusion. Secondly, there are features that have much more predictable influence. It is predicted that the presence of features such as \"senior\", \"manager\" and \"lead\" will lead to higher salary predictions. Conversely, the opposite is proposed to be true of features such as \"graduate\" and \"assisstant\". With the exception of the exclusion of the feature \"data\", the same logic applied to the Company field will be applied here, and 24 features will be extracted to pass to the machine learning environment."
      ],
      "metadata": {
        "id": "J_FPp8hw3cpB"
      }
    },
    {
      "cell_type": "markdown",
      "source": [
        "### Job Title Feature Extraction"
      ],
      "metadata": {
        "id": "t-dXUp27oS2G"
      }
    },
    {
      "cell_type": "code",
      "source": [
        "feature_extraction_title = CountVectorizer(max_features = 24, ngram_range = (1,1), stop_words = 'english', max_df = 0.25)"
      ],
      "metadata": {
        "id": "s1cu3GlzoOAH"
      },
      "execution_count": null,
      "outputs": []
    },
    {
      "cell_type": "code",
      "source": [
        "feature_title_sparse = feature_extraction_title.fit_transform(str_data['Job Title'])\n",
        "feature_title_df = pd.DataFrame.sparse.from_spmatrix(feature_title_sparse)"
      ],
      "metadata": {
        "id": "AslEmCjorxD7"
      },
      "execution_count": null,
      "outputs": []
    },
    {
      "cell_type": "code",
      "source": [
        "feature_names_title = list(feature_extraction_title.vocabulary_.keys())\n",
        "feature_names_title = ['title_' + feature for feature in feature_names_title]\n",
        "feature_title_df.columns = feature_names_title"
      ],
      "metadata": {
        "id": "E85jQROJrz26"
      },
      "execution_count": null,
      "outputs": []
    },
    {
      "cell_type": "markdown",
      "source": [
        "### Description Corpus Visualization"
      ],
      "metadata": {
        "id": "ck4VhBYLmLyg"
      }
    },
    {
      "cell_type": "markdown",
      "source": [
        "Given TfidfVectorizer() is the likely preferred method to extract features for the larger Description corpus, it is important to understand the implications of the ngram_range argument. To achieve this, three visualizations are created to display the 15 most common unigrams, bigrams and trigrams among the corpus."
      ],
      "metadata": {
        "id": "GnKr84lj6CWz"
      }
    },
    {
      "cell_type": "code",
      "source": [
        "prefix_dict = {1:'Uni', 2:'Bi', 3:'Tri'}\n",
        "for n in [1, 2, 3]:\n",
        "  feature = prefix_dict.get(n) + 'gram'\n",
        "  tf = TfidfVectorizer(ngram_range=(n, n), stop_words='english')\n",
        "  tfidf_matrix = tf.fit_transform(str_data['Description'])\n",
        "  total_words = tfidf_matrix.sum(axis=0) \n",
        "  freq = [(word, total_words[0, idx]) for word, idx in tf.vocabulary_.items()]\n",
        "  freq = sorted(freq, key = lambda x: x[1], reverse=True)\n",
        "  ngram = pd.DataFrame(freq)\n",
        "  ngram.rename(columns = {0: feature, 1: 'count'}, inplace = True) \n",
        "  ngram = ngram.head(15)\n",
        "  plt.figure(figsize=(18, 10), dpi=80)\n",
        "  plt.subplot(310+n)\n",
        "  plt.bar(ngram[feature], ngram['count'])\n",
        "  plt.title(label = \"15 most common \" + feature.lower() + \"s in Description\")\n",
        "  plt.ylabel(\"Document Frequency (%)\")\n",
        "  plt.clabel(\"Feature\")\n",
        "  plt.xticks(rotation = 90)\n"
      ],
      "metadata": {
        "colab": {
          "base_uri": "https://localhost:8080/"
        },
        "id": "GQQbChcIeWgt",
        "outputId": "c3e0fa49-8d6d-413f-cb9b-51315845914b"
      },
      "execution_count": null,
      "outputs": [
        {
          "output_type": "display_data",
          "data": {
            "text/plain": [
              "<Figure size 1440x800 with 1 Axes>"
            ],
            "image/png": "[encoded data removed]"
          },
          "metadata": {
            "needs_background": "light"
          }
        },
        {
          "output_type": "display_data",
          "data": {
            "text/plain": [
              "<Figure size 1440x800 with 1 Axes>"
            ],
            "image/png": "[encoded data removed]"
          },
          "metadata": {
            "needs_background": "light"
          }
        },
        {
          "output_type": "display_data",
          "data": {
            "text/plain": [
              "<Figure size 1440x800 with 1 Axes>"
            ],
            "image/png": "[encoded data removed]"
          },
          "metadata": {
            "needs_background": "light"
          }
        }
      ]
    },
    {
      "cell_type": "markdown",
      "source": [
        "Assessing the unigram plot, there are some corpus specific stop words that we will need to implement a max_df argument as a means of filtering these out. In terms of the bigrams, it is pleasing to see plenty of features with significant document frequency that will be selected by the extraction. Interestingly, the three most frequent trigrams are combinations of \"aboriginal torres strait islander\", which may generate some signal concerning corporate responsibility, along with the feature \"equal opportunity employer\". There is no reason to restrict the feature extractor from accessing features up to trigram in length, so (1,3) is passed to the feature extractor for ngram_range(). "
      ],
      "metadata": {
        "id": "fiIwx5CUV_Nq"
      }
    },
    {
      "cell_type": "markdown",
      "source": [
        "### Description Feature Extraction"
      ],
      "metadata": {
        "id": "MX1AGc9wmn0o"
      }
    },
    {
      "cell_type": "code",
      "source": [
        "feature_extraction_description = TfidfVectorizer(max_df = 0.25, min_df = 0.01, ngram_range = (1,3), stop_words = 'english', max_features = 250)"
      ],
      "metadata": {
        "id": "pq1QiYGXptVK"
      },
      "execution_count": null,
      "outputs": []
    },
    {
      "cell_type": "code",
      "source": [
        "feature_description_sparse = feature_extraction_description.fit_transform(str_data['Description'])\n",
        "feature_description_df = pd.DataFrame.sparse.from_spmatrix(feature_description_sparse)"
      ],
      "metadata": {
        "id": "-VSae_i-1uFy"
      },
      "execution_count": null,
      "outputs": []
    },
    {
      "cell_type": "code",
      "source": [
        "feature_names_description = list(feature_extraction_description.vocabulary_.keys())\n",
        "feature_names_description = ['desc_' + feature for feature in feature_names_description]\n",
        "feature_description_df.columns = feature_names_description"
      ],
      "metadata": {
        "id": "I97MPgMw2FLp"
      },
      "execution_count": null,
      "outputs": []
    },
    {
      "cell_type": "markdown",
      "source": [
        "### Data Frame Concatenation"
      ],
      "metadata": {
        "id": "_rkgHo3tt618"
      }
    },
    {
      "cell_type": "code",
      "source": [
        "feature_data = pd.concat([str_data, feature_company_df, feature_title_df, feature_description_df], axis = 1)\n",
        "feature_data = feature_data.drop(['City', 'Company', 'Job Title', 'Description'], axis = 1)\n",
        "feature_data.head()"
      ],
      "metadata": {
        "id": "Ve-9-6m9rOw7"
      },
      "execution_count": null,
      "outputs": []
    },
    {
      "cell_type": "markdown",
      "source": [
        "# Output"
      ],
      "metadata": {
        "id": "t1Zgrm9DmrHc"
      }
    },
    {
      "cell_type": "markdown",
      "source": [
        "As was discussed in the webscraper component, checkpointing data outside of the runtime is a sound practice, and is observed again here."
      ],
      "metadata": {
        "id": "OI5HI2M3YF-U"
      }
    },
    {
      "cell_type": "code",
      "source": [
        "feature_data.to_excel('feature_data.xlsx')\n",
        "!cp feature_data.xlsx \"drive/My Drive/\""
      ],
      "metadata": {
        "id": "d5pAXKjLtpKH"
      },
      "execution_count": null,
      "outputs": []
    },
    {
      "cell_type": "markdown",
      "source": [
        "# References\n",
        "\n",
        "https://stats.oecd.org/index.aspx?DataSetCode=ANHRS\n",
        "\n",
        "https://www.fairwork.gov.au/starting-employment/types-of-employees/full-time-employees"
      ],
      "metadata": {
        "id": "4cbKYzIgwB_K"
      }
    }
  ]
}
