{
  "cells": [
    {
      "cell_type": "markdown",
      "metadata": {
        "id": "view-in-github",
        "colab_type": "text"
      },
      "source": [
        "<a href=\"https://colab.research.google.com/github/G1useppe/ma5851_capstone_T0CE/blob/main/MACHINE_LEARNING.ipynb\" target=\"_parent\"><img src=\"https://colab.research.google.com/assets/colab-badge.svg\" alt=\"Open In Colab\"/></a>"
      ]
    },
    {
      "cell_type": "markdown",
      "metadata": {
        "id": "CXN9f2gKdxJl"
      },
      "source": [
        "# Environment Setup"
      ]
    },
    {
      "cell_type": "code",
      "execution_count": 125,
      "metadata": {
        "id": "KE8AbIG-URGY"
      },
      "outputs": [],
      "source": [
        "from google.colab import drive #mounting google drive to access processing output\n",
        "\n",
        "import pandas as pd #general\n",
        "import numpy as np\n",
        "from pprint import pprint\n",
        "\n",
        "from sklearn.ensemble import RandomForestRegressor as rfR #machine learning\n",
        "from sklearn.model_selection import train_test_split as tts \n",
        "from sklearn.model_selection import RandomizedSearchCV as rsCV\n",
        "from sklearn import metrics\n",
        "\n",
        "import matplotlib.pyplot as plt #visualization\n",
        "import matplotlib.lines as mlines\n",
        "import matplotlib.transforms as mtransforms\n",
        "\n",
        "from scipy import stats #wilcoxon test"
      ]
    },
    {
      "cell_type": "code",
      "execution_count": null,
      "metadata": {
        "colab": {
          "base_uri": "https://localhost:8080/"
        },
        "id": "oq8ovZTr_gvL",
        "outputId": "a7dd813e-0e37-4240-8607-7d0bce3fb468"
      },
      "outputs": [
        {
          "output_type": "stream",
          "name": "stdout",
          "text": [
            "Drive already mounted at /content/drive; to attempt to forcibly remount, call drive.mount(\"/content/drive\", force_remount=True).\n"
          ]
        }
      ],
      "source": [
        "drive.mount('/content/drive')"
      ]
    },
    {
      "cell_type": "markdown",
      "metadata": {
        "id": "R-FsRV6dUgWH"
      },
      "source": [
        "To commence the third and final part of this workflow, we can bring in the data generated from our cleaning, wrangling and feature extraction."
      ]
    },
    {
      "cell_type": "code",
      "execution_count": null,
      "metadata": {
        "id": "-lOQmkRJSZZG"
      },
      "outputs": [],
      "source": [
        "path = '/content/drive/MyDrive/feature_data.xlsx'\n",
        "feature_data = pd.read_excel(path, na_values = 'NaN')\n",
        "feature_data = feature_data.drop([\"Unnamed: 0\"], axis = 1)"
      ]
    },
    {
      "cell_type": "markdown",
      "metadata": {
        "id": "0Kihf_ox3Dt1"
      },
      "source": [
        "# 4.1 Machine Learning Structure"
      ]
    },
    {
      "cell_type": "markdown",
      "metadata": {
        "id": "dfvVdULfOgf_"
      },
      "source": [
        "## Train/Test Split"
      ]
    },
    {
      "cell_type": "markdown",
      "metadata": {
        "id": "jh6s7rPekfRz"
      },
      "source": [
        "There was no need to deviate from conventional wisdom for the train/test split, and a 80/20 split was preferred."
      ]
    },
    {
      "cell_type": "code",
      "execution_count": null,
      "metadata": {
        "id": "K3oueM_FWVbP"
      },
      "outputs": [],
      "source": [
        "salary = feature_data[feature_data[\"Salary FTE\"].notnull()]\n",
        "no_salary = feature_data[feature_data[\"Salary FTE\"].isnull()]"
      ]
    },
    {
      "cell_type": "code",
      "execution_count": null,
      "metadata": {
        "id": "pOH1NAiGVOwQ"
      },
      "outputs": [],
      "source": [
        "y = list(salary[\"Salary FTE\"])\n",
        "X = salary.drop([\"Salary FTE\"], axis = 1) "
      ]
    },
    {
      "cell_type": "code",
      "execution_count": null,
      "metadata": {
        "id": "RmBkqyeodJ_y"
      },
      "outputs": [],
      "source": [
        "X_train, X_test, y_train, y_test = tts(X, y, test_size = 0.2, random_state = 88)"
      ]
    },
    {
      "cell_type": "markdown",
      "metadata": {
        "id": "8pKYWfhsiUTZ"
      },
      "source": [
        "## 4.1.1 Random Forest Selection Rationale and Structure"
      ]
    },
    {
      "cell_type": "markdown",
      "metadata": {
        "id": "FH57VpzeiceN"
      },
      "source": [
        "The random forest regressor was selected as the machine learning model due to the strong performance in the surveyed literature. In the work of Jackman & Reid (xxxx), it is the strongest performing model among the five regressors. In the work Martin et al. (xxxx), the random forest outpeforms all other models in a classification problem with the exception of voting classifiers, which are outside the scope of the course material. Additionally, Biau and Scornet (2015) praise the random forest algorithm for its 'ability to deal with small sample sizes and\n",
        "high-dimensional feature spaces', which will be the case for the testing data set. \n",
        "\n",
        "To understand the structure of the random forest we first must understand the structure of a decision tree. In a machine learning capacity, decision trees are comprised of nodes that are trained to split observations in a manner such that the groups that it generates are as dissimilar to eachother as possible. The amount of nodes that makes up a tree, and the manner in which the nodes behave is constrained by user-specified parameters. A random forest is a collection of decision trees that operate as a community to make a decision. In the case of our regressor, each tree in the forest will make a prediction on the case which it is passed. Following this, the random forest will return the average prediction among the trees. The underlying concept behind the random forest is a simple one, strength in numbers. The essence that the decision trees all come from a seperate origin and are uncorellated is key to the process, where each tree can sample a fraction of the data, grow a tree, and contribute to the community aggregation.\n",
        "\n",
        "The software to implement the machine learning will be RandomForestRegressor from scikit-learn. "
      ]
    },
    {
      "cell_type": "markdown",
      "metadata": {
        "id": "VTnvK1Yn9zdi"
      },
      "source": [
        "## 4.1.2 Hyperparameters"
      ]
    },
    {
      "cell_type": "markdown",
      "metadata": {
        "id": "LEJc2O0wdXVk"
      },
      "source": [
        "### Default Random Forest"
      ]
    },
    {
      "cell_type": "markdown",
      "metadata": {
        "id": "YAeob43pgy-D"
      },
      "source": [
        "To set a baseline for our machine learning investigation, and more importantly our hyperparameter optimization, a model was produced using default parameters from sklearn. The default parameters were returned and the model was subsequtly trained on the training set."
      ]
    },
    {
      "cell_type": "code",
      "execution_count": null,
      "metadata": {
        "colab": {
          "base_uri": "https://localhost:8080/"
        },
        "id": "5YWyBKauebC8",
        "outputId": "18f83345-49a3-4e23-c927-e44d22c80f5a"
      },
      "outputs": [
        {
          "output_type": "stream",
          "name": "stdout",
          "text": [
            "{'bootstrap': True,\n",
            " 'ccp_alpha': 0.0,\n",
            " 'criterion': 'squared_error',\n",
            " 'max_depth': None,\n",
            " 'max_features': 'auto',\n",
            " 'max_leaf_nodes': None,\n",
            " 'max_samples': None,\n",
            " 'min_impurity_decrease': 0.0,\n",
            " 'min_samples_leaf': 1,\n",
            " 'min_samples_split': 2,\n",
            " 'min_weight_fraction_leaf': 0.0,\n",
            " 'n_estimators': 100,\n",
            " 'n_jobs': None,\n",
            " 'oob_score': False,\n",
            " 'random_state': 90,\n",
            " 'verbose': 0,\n",
            " 'warm_start': False}\n"
          ]
        }
      ],
      "source": [
        "default_rf = rfR(random_state = 90)\n",
        "pprint(default_rf.get_params())"
      ]
    },
    {
      "cell_type": "code",
      "execution_count": null,
      "metadata": {
        "colab": {
          "base_uri": "https://localhost:8080/"
        },
        "id": "IQu9YWLhzwWP",
        "outputId": "c29cddb0-5841-43cc-e5c8-2a71011fdf83"
      },
      "outputs": [
        {
          "output_type": "execute_result",
          "data": {
            "text/plain": [
              "RandomForestRegressor(random_state=90)"
            ]
          },
          "metadata": {},
          "execution_count": 52
        }
      ],
      "source": [
        "default_rf.fit(X_train, y_train)"
      ]
    },
    {
      "cell_type": "markdown",
      "metadata": {
        "id": "Dpg8oh8w-iV5"
      },
      "source": [
        "The below helper function was written to save on doubling up, and generate some data to add to a data frame for the evluation."
      ]
    },
    {
      "cell_type": "code",
      "execution_count": 112,
      "metadata": {
        "id": "WN78JQcUGiDY"
      },
      "outputs": [],
      "source": [
        "def evaluator(model, X, y, verbose=True):\n",
        "  predictions = model.predict(X) #predict the values\n",
        "  errors = abs(predictions - y) #calculate the errors\n",
        "  rmse = np.sqrt(((predictions - y) ** 2).mean())\n",
        "  mae = np.mean(errors) #mean absolute error\n",
        "  mape = 100 * np.mean(errors / y) #mean absolute percentage error\n",
        "  accuracy = 100 - mape\n",
        "  if verbose == True:\n",
        "    print(\"Accuracy:                    \" + str(round(accuracy, 2)) + \"%\")\n",
        "    print(\"Mean Absolute Error:     AUD \" + str(round(mae, 2)))\n",
        "    print(\"Root Mean Squared Error: AUD \" + str(round(rmse, 2)))\n",
        "    print(\"These results have been saved in a list\")\n",
        "  return [accuracy, mae, rmse]"
      ]
    },
    {
      "cell_type": "code",
      "execution_count": 113,
      "metadata": {
        "colab": {
          "base_uri": "https://localhost:8080/"
        },
        "id": "ktxkmvtXzhhb",
        "outputId": "73d476b6-a18c-4725-9f27-1b5476409c29"
      },
      "outputs": [
        {
          "output_type": "stream",
          "name": "stdout",
          "text": [
            "Accuracy:                    92.06%\n",
            "Mean Absolute Error:     AUD 6997.69\n",
            "Root Mean Squared Error: AUD 12908.28\n",
            "These results have been saved in a list\n"
          ]
        }
      ],
      "source": [
        "default_rf_metrics = evaluator(default_rf, X_train, y_train)"
      ]
    },
    {
      "cell_type": "markdown",
      "metadata": {
        "id": "HCG69p7U-vU1"
      },
      "source": [
        "The initial performance of the model is very strong, however it is caveated by potential overfitting. This can be attributed to the lack of cross-validation and the absence of constraint on the max_depth field."
      ]
    },
    {
      "cell_type": "code",
      "execution_count": null,
      "metadata": {
        "colab": {
          "base_uri": "https://localhost:8080/"
        },
        "id": "FFdt7K9u6J_O",
        "outputId": "20238e84-48a9-4491-ae19-f454e5d58833"
      },
      "outputs": [
        {
          "output_type": "execute_result",
          "data": {
            "text/plain": [
              "desc_collaborate               0.148090\n",
              "desc_scientific                0.085344\n",
              "desc_leave                     0.065313\n",
              "desc_torres strait islander    0.059231\n",
              "company_health                 0.040645\n",
              "desc_scientist                 0.039010\n",
              "desc_strait islander           0.037315\n",
              "desc_status                    0.031762\n",
              "desc_test                      0.023296\n",
              "desc_variety                   0.022073\n",
              "dtype: float64"
            ]
          },
          "metadata": {},
          "execution_count": 55
        }
      ],
      "source": [
        "feature_importance = pd.Series(data = default_rf.feature_importances_, index = X_train.columns)\n",
        "feature_importance.sort_values(ascending = False)[0:10]"
      ]
    },
    {
      "cell_type": "markdown",
      "metadata": {
        "id": "5pBQTnFk_B6C"
      },
      "source": [
        "The variable importance for this model produced a surprising result, with the \"collaborate\" feature from the job description being twice as important as any other feature. One caveat with feature importance in a regressor is whether there is a "
      ]
    },
    {
      "cell_type": "markdown",
      "metadata": {
        "id": "ldkpg9QadeFz"
      },
      "source": [
        "### First Random Grid"
      ]
    },
    {
      "cell_type": "markdown",
      "metadata": {
        "id": "9Y9DnHuA_Wcr"
      },
      "source": [
        "The first step in improving our model is trying to tune the hyperparameters. The chosen tuning implementation was the Randmized Search Cross-Validation (rsCV) method from sci-kit learn, in which a random set from a parameter grid is iterated through with cross-validation. In our case, we propose a grid with 1,536 different parameter combinations. Given the provided constraints, rsCV will randomly choose 100 candidates and fit 8 folds on each. The advantage this model provides is the ability to narrow down a very wide hyperparameter search to provide a rough idea of where the best hyperparameters sit, without sacrificing the integrity of the fit. This method is designed to be an intermediate tune before a more focused tune down the line. "
      ]
    },
    {
      "cell_type": "code",
      "execution_count": null,
      "metadata": {
        "id": "x9zq7rh4fdSF"
      },
      "outputs": [],
      "source": [
        "n_estimators = [100, 200, 400, 800]\n",
        "max_features = ['sqrt', 'auto']\n",
        "max_depth = [5, 10, 20, 40, 80, 160]\n",
        "min_samples_leaf = [1, 2, 4, 8]\n",
        "min_samples_split = [2, 4, 8, 16]\n",
        "bootstrap = [False]"
      ]
    },
    {
      "cell_type": "code",
      "execution_count": null,
      "metadata": {
        "id": "N950ocR1gxXH"
      },
      "outputs": [],
      "source": [
        "params_grid = {\n",
        "    'n_estimators': n_estimators,\n",
        "    'max_features': max_features,\n",
        "    'max_depth': max_depth,\n",
        "    'min_samples_leaf': min_samples_leaf,\n",
        "    'min_samples_split': min_samples_split,\n",
        "    'bootstrap': bootstrap\n",
        "}"
      ]
    },
    {
      "cell_type": "code",
      "execution_count": null,
      "metadata": {
        "id": "M4zoQLld7I2v"
      },
      "outputs": [],
      "source": [
        "random_grid = rsCV(estimator = default_rf, param_distributions = params_grid, n_iter = 100, cv = 8, verbose = 2, n_jobs = -1, random_state = 90)"
      ]
    },
    {
      "cell_type": "code",
      "execution_count": null,
      "metadata": {
        "colab": {
          "base_uri": "https://localhost:8080/"
        },
        "id": "xoX0PfsSyCnl",
        "outputId": "f7efb5a0-de02-44be-f4f0-feb017ecdc0a"
      },
      "outputs": [
        {
          "output_type": "stream",
          "name": "stdout",
          "text": [
            "Fitting 8 folds for each of 100 candidates, totalling 800 fits\n"
          ]
        },
        {
          "output_type": "execute_result",
          "data": {
            "text/plain": [
              "{'n_estimators': 400,\n",
              " 'min_samples_split': 4,\n",
              " 'min_samples_leaf': 1,\n",
              " 'max_features': 'sqrt',\n",
              " 'max_depth': 40,\n",
              " 'bootstrap': False}"
            ]
          },
          "metadata": {},
          "execution_count": 59
        }
      ],
      "source": [
        "random_grid.fit(X_train, y_train)\n",
        "random_grid.best_params_"
      ]
    },
    {
      "cell_type": "code",
      "execution_count": null,
      "metadata": {
        "colab": {
          "base_uri": "https://localhost:8080/"
        },
        "id": "UPnnPB97zX1h",
        "outputId": "c1716bb6-7178-4640-a975-5c0c4108acb0"
      },
      "outputs": [
        {
          "output_type": "stream",
          "name": "stdout",
          "text": [
            "Accuracy:                    95.16%\n",
            "Mean Absolute Error:     AUD 3552.21\n",
            "Root Mean Squared Error: AUD 10711.53\n",
            "These results have been saved in a list\n"
          ]
        }
      ],
      "source": [
        "random_grid_metrics = evaluator(random_grid, X_train, y_train)"
      ]
    },
    {
      "cell_type": "markdown",
      "metadata": {
        "id": "EJywlGjVBWK5"
      },
      "source": [
        "This is admittedly a far better than expected result, yet amidst fears of overfitting, faith must be placed in the cross-validation. There is an increased sense of confidence that this is a robust model as the issues in the default model have been mitigated. Another positive result from this tune is that neither max_depth nor n_estimators took on the highest available value."
      ]
    },
    {
      "cell_type": "markdown",
      "metadata": {
        "id": "YA4a4_aRKDVK"
      },
      "source": [
        "### Refined Random Grid"
      ]
    },
    {
      "cell_type": "markdown",
      "metadata": {
        "id": "mxOJz8x5B0Ec"
      },
      "source": [
        "Using the best hyperparameters from the random grid to govern the selection, a new set of hyperparameters is proposed. rsCV is implemented to trial all 54 combinations, again across 8 folds."
      ]
    },
    {
      "cell_type": "code",
      "execution_count": null,
      "metadata": {
        "id": "4Uu45on0Gq3G"
      },
      "outputs": [],
      "source": [
        "refined_grid = {\n",
        "    'n_estimators': [300, 400, 600],\n",
        "    'max_features': ['sqrt'],\n",
        "    'max_depth': [30, 40, 60],\n",
        "    'min_samples_leaf': [1, 2],\n",
        "    'min_samples_split': [3, 4, 5],\n",
        "    'bootstrap': [False]\n",
        "}"
      ]
    },
    {
      "cell_type": "code",
      "execution_count": null,
      "metadata": {
        "id": "GVPRTCpiHbVw"
      },
      "outputs": [],
      "source": [
        "refined_grid = rsCV(estimator = default_rf, param_distributions = refined_grid, cv = 8, n_iter=54, verbose = 2, n_jobs = -1, random_state = 90)"
      ]
    },
    {
      "cell_type": "code",
      "execution_count": null,
      "metadata": {
        "colab": {
          "base_uri": "https://localhost:8080/"
        },
        "id": "wB88CxQAyYIy",
        "outputId": "e324ea5d-67c8-4dd4-dc40-2daa56c4dacc"
      },
      "outputs": [
        {
          "output_type": "stream",
          "name": "stdout",
          "text": [
            "Fitting 8 folds for each of 54 candidates, totalling 432 fits\n"
          ]
        },
        {
          "output_type": "execute_result",
          "data": {
            "text/plain": [
              "{'n_estimators': 400,\n",
              " 'min_samples_split': 3,\n",
              " 'min_samples_leaf': 1,\n",
              " 'max_features': 'sqrt',\n",
              " 'max_depth': 30,\n",
              " 'bootstrap': False}"
            ]
          },
          "metadata": {},
          "execution_count": 63
        }
      ],
      "source": [
        "refined_grid.fit(X_train, y_train)\n",
        "refined_grid.best_params_"
      ]
    },
    {
      "cell_type": "code",
      "execution_count": null,
      "metadata": {
        "colab": {
          "base_uri": "https://localhost:8080/"
        },
        "id": "UjSgy1mHJHDt",
        "outputId": "0bf256eb-ba14-496d-c684-ffa8140ee631"
      },
      "outputs": [
        {
          "output_type": "stream",
          "name": "stdout",
          "text": [
            "Accuracy:                    95.78%\n",
            "Mean Absolute Error:     AUD 3157.43\n",
            "Root Mean Squared Error: AUD 10672.39\n",
            "These results have been saved in a list\n"
          ]
        }
      ],
      "source": [
        "refined_grid_metrics =  evaluator(refined_grid, X_train, y_train)"
      ]
    },
    {
      "cell_type": "markdown",
      "metadata": {
        "id": "ircoxp4wCed3"
      },
      "source": [
        "Again this is a staggering result given the refinement still offers a small improvement over the first tuning pass. Comparing the best parameters, two out of the four metrics that were provided scope to change did so. Given only a fraction of a percentage was gained in this tune, it is likely the law of diminshing returns would hamper any further tuning, so this model can be used for testing and cross-validation. It is unlikely that this sort of accuracy will be observed across the testing set, but due faith must be placed in the robust tunes that have been performed."
      ]
    },
    {
      "cell_type": "code",
      "execution_count": 134,
      "metadata": {
        "colab": {
          "base_uri": "https://localhost:8080/"
        },
        "id": "fDohKopVMiOY",
        "outputId": "c58f6a7c-3908-47e3-eb21-fd90780bae01"
      },
      "outputs": [
        {
          "output_type": "execute_result",
          "data": {
            "text/plain": [
              "desc_collaborate      0.046057\n",
              "desc_leave            0.033677\n",
              "desc_scientific       0.031374\n",
              "desc_scientist        0.027417\n",
              "company_health        0.027272\n",
              "                        ...   \n",
              "title_research        0.000000\n",
              "company_department    0.000000\n",
              "title_ai              0.000000\n",
              "company_science       0.000000\n",
              "company_rmit          0.000000\n",
              "Length: 308, dtype: float64"
            ]
          },
          "metadata": {},
          "execution_count": 134
        }
      ],
      "source": [
        "feature_importance = pd.Series(data = refined_grid.best_estimator_.feature_importances_, index = X_train.columns)\n",
        "feature_importance.sort_values(ascending = False)"
      ]
    },
    {
      "cell_type": "code",
      "source": [
        ""
      ],
      "metadata": {
        "id": "cU8TSg9p2ii8"
      },
      "execution_count": null,
      "outputs": []
    },
    {
      "cell_type": "markdown",
      "metadata": {
        "id": "I5lwhvkJjA0Q"
      },
      "source": [
        "### Model Testing "
      ]
    },
    {
      "cell_type": "code",
      "execution_count": null,
      "metadata": {
        "colab": {
          "base_uri": "https://localhost:8080/"
        },
        "id": "Ihu8O3yRjJuQ",
        "outputId": "c7adf4cf-6d4c-4238-9913-79d9b9401652"
      },
      "outputs": [
        {
          "output_type": "stream",
          "name": "stdout",
          "text": [
            "Accuracy:                    97.96%\n",
            "Mean Absolute Error:     AUD 1800.49\n",
            "Root Mean Squared Error: AUD 5364.0\n",
            "These results have been saved in a list\n"
          ]
        }
      ],
      "source": [
        "test_metrics = evaluator(refined_grid, X_test, y_test)"
      ]
    },
    {
      "cell_type": "markdown",
      "source": [
        "It isn't often that a test pass yields better results than the tuning phase, and there is certainly a requiem for cross-validation before passing definitive comments on model performance."
      ],
      "metadata": {
        "id": "qD1DUN_8p7JU"
      }
    },
    {
      "cell_type": "markdown",
      "source": [
        "### Cross-validation"
      ],
      "metadata": {
        "id": "NoaFHG2fqFDg"
      }
    },
    {
      "cell_type": "code",
      "source": [
        "cv_data = []\n",
        "for i in range(10):\n",
        "  X_train_cv, X_test_cv, y_train_cv, y_test_cv = tts(X, y, test_size = 0.2)\n",
        "  row = evaluator(refined_grid, X_test_cv, y_test_cv, verbose = False)\n",
        "  cv_data.append(row)\n",
        "cv_df = pd.DataFrame(cv_data, columns = ['Accuracy', 'MAE', 'RMSE'])\n",
        "test_cv = [cv_df.Accuracy.mean(), cv_df.MAE.mean(), cv_df.RMSE.mean()]\n",
        "cv_df"
      ],
      "metadata": {
        "colab": {
          "base_uri": "https://localhost:8080/",
          "height": 363
        },
        "id": "KSTe8JgDqEKB",
        "outputId": "4bf00dba-8692-463e-8ce1-8f074096479f"
      },
      "execution_count": 117,
      "outputs": [
        {
          "output_type": "execute_result",
          "data": {
            "text/plain": [
              "    Accuracy          MAE          RMSE\n",
              "0  98.584400  1487.671922   4031.228423\n",
              "1  95.706313  2854.023127  11472.985849\n",
              "2  96.871606  2893.897266   9310.054280\n",
              "3  98.838347  1212.164354   4239.974271\n",
              "4  98.236494  1676.406170   6110.319377\n",
              "5  98.688274  1127.464595   4794.994789\n",
              "6  93.266655  5147.727735  14826.870464\n",
              "7  96.740420  2462.447753   9135.005028\n",
              "8  89.478794  7487.913990  17381.229349\n",
              "9  95.529801  4000.711143   9015.005719"
            ],
            "text/html": [
              "\n",
              "  <div id=\"df-e74a65f2-5408-4cb8-9c85-11f64520eb8f\">\n",
              "    <div class=\"colab-df-container\">\n",
              "      <div>\n",
              "<style scoped>\n",
              "    .dataframe tbody tr th:only-of-type {\n",
              "        vertical-align: middle;\n",
              "    }\n",
              "\n",
              "    .dataframe tbody tr th {\n",
              "        vertical-align: top;\n",
              "    }\n",
              "\n",
              "    .dataframe thead th {\n",
              "        text-align: right;\n",
              "    }\n",
              "</style>\n",
              "<table border=\"1\" class=\"dataframe\">\n",
              "  <thead>\n",
              "    <tr style=\"text-align: right;\">\n",
              "      <th></th>\n",
              "      <th>Accuracy</th>\n",
              "      <th>MAE</th>\n",
              "      <th>RMSE</th>\n",
              "    </tr>\n",
              "  </thead>\n",
              "  <tbody>\n",
              "    <tr>\n",
              "      <th>0</th>\n",
              "      <td>98.584400</td>\n",
              "      <td>1487.671922</td>\n",
              "      <td>4031.228423</td>\n",
              "    </tr>\n",
              "    <tr>\n",
              "      <th>1</th>\n",
              "      <td>95.706313</td>\n",
              "      <td>2854.023127</td>\n",
              "      <td>11472.985849</td>\n",
              "    </tr>\n",
              "    <tr>\n",
              "      <th>2</th>\n",
              "      <td>96.871606</td>\n",
              "      <td>2893.897266</td>\n",
              "      <td>9310.054280</td>\n",
              "    </tr>\n",
              "    <tr>\n",
              "      <th>3</th>\n",
              "      <td>98.838347</td>\n",
              "      <td>1212.164354</td>\n",
              "      <td>4239.974271</td>\n",
              "    </tr>\n",
              "    <tr>\n",
              "      <th>4</th>\n",
              "      <td>98.236494</td>\n",
              "      <td>1676.406170</td>\n",
              "      <td>6110.319377</td>\n",
              "    </tr>\n",
              "    <tr>\n",
              "      <th>5</th>\n",
              "      <td>98.688274</td>\n",
              "      <td>1127.464595</td>\n",
              "      <td>4794.994789</td>\n",
              "    </tr>\n",
              "    <tr>\n",
              "      <th>6</th>\n",
              "      <td>93.266655</td>\n",
              "      <td>5147.727735</td>\n",
              "      <td>14826.870464</td>\n",
              "    </tr>\n",
              "    <tr>\n",
              "      <th>7</th>\n",
              "      <td>96.740420</td>\n",
              "      <td>2462.447753</td>\n",
              "      <td>9135.005028</td>\n",
              "    </tr>\n",
              "    <tr>\n",
              "      <th>8</th>\n",
              "      <td>89.478794</td>\n",
              "      <td>7487.913990</td>\n",
              "      <td>17381.229349</td>\n",
              "    </tr>\n",
              "    <tr>\n",
              "      <th>9</th>\n",
              "      <td>95.529801</td>\n",
              "      <td>4000.711143</td>\n",
              "      <td>9015.005719</td>\n",
              "    </tr>\n",
              "  </tbody>\n",
              "</table>\n",
              "</div>\n",
              "      <button class=\"colab-df-convert\" onclick=\"convertToInteractive('df-e74a65f2-5408-4cb8-9c85-11f64520eb8f')\"\n",
              "              title=\"Convert this dataframe to an interactive table.\"\n",
              "              style=\"display:none;\">\n",
              "        \n",
              "  <svg xmlns=\"http://www.w3.org/2000/svg\" height=\"24px\"viewBox=\"0 0 24 24\"\n",
              "       width=\"24px\">\n",
              "    <path d=\"M0 0h24v24H0V0z\" fill=\"none\"/>\n",
              "    <path d=\"M18.56 5.44l.94 2.06.94-2.06 2.06-.94-2.06-.94-.94-2.06-.94 2.06-2.06.94zm-11 1L8.5 8.5l.94-2.06 2.06-.94-2.06-.94L8.5 2.5l-.94 2.06-2.06.94zm10 10l.94 2.06.94-2.06 2.06-.94-2.06-.94-.94-2.06-.94 2.06-2.06.94z\"/><path d=\"M17.41 7.96l-1.37-1.37c-.4-.4-.92-.59-1.43-.59-.52 0-1.04.2-1.43.59L10.3 9.45l-7.72 7.72c-.78.78-.78 2.05 0 2.83L4 21.41c.39.39.9.59 1.41.59.51 0 1.02-.2 1.41-.59l7.78-7.78 2.81-2.81c.8-.78.8-2.07 0-2.86zM5.41 20L4 18.59l7.72-7.72 1.47 1.35L5.41 20z\"/>\n",
              "  </svg>\n",
              "      </button>\n",
              "      \n",
              "  <style>\n",
              "    .colab-df-container {\n",
              "      display:flex;\n",
              "      flex-wrap:wrap;\n",
              "      gap: 12px;\n",
              "    }\n",
              "\n",
              "    .colab-df-convert {\n",
              "      background-color: #E8F0FE;\n",
              "      border: none;\n",
              "      border-radius: 50%;\n",
              "      cursor: pointer;\n",
              "      display: none;\n",
              "      fill: #1967D2;\n",
              "      height: 32px;\n",
              "      padding: 0 0 0 0;\n",
              "      width: 32px;\n",
              "    }\n",
              "\n",
              "    .colab-df-convert:hover {\n",
              "      background-color: #E2EBFA;\n",
              "      box-shadow: 0px 1px 2px rgba(60, 64, 67, 0.3), 0px 1px 3px 1px rgba(60, 64, 67, 0.15);\n",
              "      fill: #174EA6;\n",
              "    }\n",
              "\n",
              "    [theme=dark] .colab-df-convert {\n",
              "      background-color: #3B4455;\n",
              "      fill: #D2E3FC;\n",
              "    }\n",
              "\n",
              "    [theme=dark] .colab-df-convert:hover {\n",
              "      background-color: #434B5C;\n",
              "      box-shadow: 0px 1px 3px 1px rgba(0, 0, 0, 0.15);\n",
              "      filter: drop-shadow(0px 1px 2px rgba(0, 0, 0, 0.3));\n",
              "      fill: #FFFFFF;\n",
              "    }\n",
              "  </style>\n",
              "\n",
              "      <script>\n",
              "        const buttonEl =\n",
              "          document.querySelector('#df-e74a65f2-5408-4cb8-9c85-11f64520eb8f button.colab-df-convert');\n",
              "        buttonEl.style.display =\n",
              "          google.colab.kernel.accessAllowed ? 'block' : 'none';\n",
              "\n",
              "        async function convertToInteractive(key) {\n",
              "          const element = document.querySelector('#df-e74a65f2-5408-4cb8-9c85-11f64520eb8f');\n",
              "          const dataTable =\n",
              "            await google.colab.kernel.invokeFunction('convertToInteractive',\n",
              "                                                     [key], {});\n",
              "          if (!dataTable) return;\n",
              "\n",
              "          const docLinkHtml = 'Like what you see? Visit the ' +\n",
              "            '<a target=\"_blank\" href=https://colab.research.google.com/notebooks/data_table.ipynb>data table notebook</a>'\n",
              "            + ' to learn more about interactive tables.';\n",
              "          element.innerHTML = '';\n",
              "          dataTable['output_type'] = 'display_data';\n",
              "          await google.colab.output.renderOutput(dataTable, element);\n",
              "          const docLink = document.createElement('div');\n",
              "          docLink.innerHTML = docLinkHtml;\n",
              "          element.appendChild(docLink);\n",
              "        }\n",
              "      </script>\n",
              "    </div>\n",
              "  </div>\n",
              "  "
            ]
          },
          "metadata": {},
          "execution_count": 117
        }
      ]
    },
    {
      "cell_type": "markdown",
      "source": [
        "Now that the model has been cross-validated, model performance evaluation can begin."
      ],
      "metadata": {
        "id": "U0JjrfvI-mSX"
      }
    },
    {
      "cell_type": "markdown",
      "metadata": {
        "id": "7b1n0BsL51cV"
      },
      "source": [
        "## 4.1.3 A note on computation"
      ]
    },
    {
      "cell_type": "markdown",
      "metadata": {
        "id": "d0LCIC9g576l"
      },
      "source": [
        "During the proposal for this work, sources of GPU were discussed for the machine learning component. The decision to use a random forest regressor on sklearn eliminated the need for GPU computation, as it is programmed for CPU only."
      ]
    },
    {
      "cell_type": "markdown",
      "metadata": {
        "id": "Ucd3xnmP29CP"
      },
      "source": [
        "# 4.2 Evaluation"
      ]
    },
    {
      "cell_type": "markdown",
      "source": [
        "## 4.2.1 Evaluation of performance"
      ],
      "metadata": {
        "id": "U4kWXP-BfdmO"
      }
    },
    {
      "cell_type": "code",
      "source": [
        "evaluation_data = [default_rf_metrics, random_grid_metrics, refined_grid_metrics, test_metrics, test_cv]\n",
        "evaluation_df = pd.DataFrame(evaluation_data, columns = ['Accuracy', 'MAE', 'RMSE'])\n",
        "evaluation_df.insert(0, \"Model\", \n",
        "                     [\"default_rf\", \"random_grid\", \"refined_grid\", \"refined_grid\", \"refined_grid\"])\n",
        "evaluation_df.insert(1, \"Features\", \n",
        "                     [\"X_train\" , \"X_train\", \"X_train\", \"X_test\", \"10-fold CV\"])\n",
        "evaluation_df"
      ],
      "metadata": {
        "colab": {
          "base_uri": "https://localhost:8080/",
          "height": 206
        },
        "id": "wrjfFY2Wdocd",
        "outputId": "733df15d-161a-4475-b135-97804a88515b"
      },
      "execution_count": 121,
      "outputs": [
        {
          "output_type": "execute_result",
          "data": {
            "text/plain": [
              "          Model    Features   Accuracy          MAE          RMSE\n",
              "0    default_rf     X_train  92.055871  6997.691156  12908.280392\n",
              "1   random_grid     X_train  95.160234  3552.211525  10711.530219\n",
              "2  refined_grid     X_train  95.781688  3157.434777  10672.390238\n",
              "3  refined_grid      X_test  97.960155  1800.491259   5364.002530\n",
              "4  refined_grid  10-fold CV  96.194111  3035.042805   9031.766755"
            ],
            "text/html": [
              "\n",
              "  <div id=\"df-1cd2c9b7-7b52-4709-bee6-a66d2fb3ed9c\">\n",
              "    <div class=\"colab-df-container\">\n",
              "      <div>\n",
              "<style scoped>\n",
              "    .dataframe tbody tr th:only-of-type {\n",
              "        vertical-align: middle;\n",
              "    }\n",
              "\n",
              "    .dataframe tbody tr th {\n",
              "        vertical-align: top;\n",
              "    }\n",
              "\n",
              "    .dataframe thead th {\n",
              "        text-align: right;\n",
              "    }\n",
              "</style>\n",
              "<table border=\"1\" class=\"dataframe\">\n",
              "  <thead>\n",
              "    <tr style=\"text-align: right;\">\n",
              "      <th></th>\n",
              "      <th>Model</th>\n",
              "      <th>Features</th>\n",
              "      <th>Accuracy</th>\n",
              "      <th>MAE</th>\n",
              "      <th>RMSE</th>\n",
              "    </tr>\n",
              "  </thead>\n",
              "  <tbody>\n",
              "    <tr>\n",
              "      <th>0</th>\n",
              "      <td>default_rf</td>\n",
              "      <td>X_train</td>\n",
              "      <td>92.055871</td>\n",
              "      <td>6997.691156</td>\n",
              "      <td>12908.280392</td>\n",
              "    </tr>\n",
              "    <tr>\n",
              "      <th>1</th>\n",
              "      <td>random_grid</td>\n",
              "      <td>X_train</td>\n",
              "      <td>95.160234</td>\n",
              "      <td>3552.211525</td>\n",
              "      <td>10711.530219</td>\n",
              "    </tr>\n",
              "    <tr>\n",
              "      <th>2</th>\n",
              "      <td>refined_grid</td>\n",
              "      <td>X_train</td>\n",
              "      <td>95.781688</td>\n",
              "      <td>3157.434777</td>\n",
              "      <td>10672.390238</td>\n",
              "    </tr>\n",
              "    <tr>\n",
              "      <th>3</th>\n",
              "      <td>refined_grid</td>\n",
              "      <td>X_test</td>\n",
              "      <td>97.960155</td>\n",
              "      <td>1800.491259</td>\n",
              "      <td>5364.002530</td>\n",
              "    </tr>\n",
              "    <tr>\n",
              "      <th>4</th>\n",
              "      <td>refined_grid</td>\n",
              "      <td>10-fold CV</td>\n",
              "      <td>96.194111</td>\n",
              "      <td>3035.042805</td>\n",
              "      <td>9031.766755</td>\n",
              "    </tr>\n",
              "  </tbody>\n",
              "</table>\n",
              "</div>\n",
              "      <button class=\"colab-df-convert\" onclick=\"convertToInteractive('df-1cd2c9b7-7b52-4709-bee6-a66d2fb3ed9c')\"\n",
              "              title=\"Convert this dataframe to an interactive table.\"\n",
              "              style=\"display:none;\">\n",
              "        \n",
              "  <svg xmlns=\"http://www.w3.org/2000/svg\" height=\"24px\"viewBox=\"0 0 24 24\"\n",
              "       width=\"24px\">\n",
              "    <path d=\"M0 0h24v24H0V0z\" fill=\"none\"/>\n",
              "    <path d=\"M18.56 5.44l.94 2.06.94-2.06 2.06-.94-2.06-.94-.94-2.06-.94 2.06-2.06.94zm-11 1L8.5 8.5l.94-2.06 2.06-.94-2.06-.94L8.5 2.5l-.94 2.06-2.06.94zm10 10l.94 2.06.94-2.06 2.06-.94-2.06-.94-.94-2.06-.94 2.06-2.06.94z\"/><path d=\"M17.41 7.96l-1.37-1.37c-.4-.4-.92-.59-1.43-.59-.52 0-1.04.2-1.43.59L10.3 9.45l-7.72 7.72c-.78.78-.78 2.05 0 2.83L4 21.41c.39.39.9.59 1.41.59.51 0 1.02-.2 1.41-.59l7.78-7.78 2.81-2.81c.8-.78.8-2.07 0-2.86zM5.41 20L4 18.59l7.72-7.72 1.47 1.35L5.41 20z\"/>\n",
              "  </svg>\n",
              "      </button>\n",
              "      \n",
              "  <style>\n",
              "    .colab-df-container {\n",
              "      display:flex;\n",
              "      flex-wrap:wrap;\n",
              "      gap: 12px;\n",
              "    }\n",
              "\n",
              "    .colab-df-convert {\n",
              "      background-color: #E8F0FE;\n",
              "      border: none;\n",
              "      border-radius: 50%;\n",
              "      cursor: pointer;\n",
              "      display: none;\n",
              "      fill: #1967D2;\n",
              "      height: 32px;\n",
              "      padding: 0 0 0 0;\n",
              "      width: 32px;\n",
              "    }\n",
              "\n",
              "    .colab-df-convert:hover {\n",
              "      background-color: #E2EBFA;\n",
              "      box-shadow: 0px 1px 2px rgba(60, 64, 67, 0.3), 0px 1px 3px 1px rgba(60, 64, 67, 0.15);\n",
              "      fill: #174EA6;\n",
              "    }\n",
              "\n",
              "    [theme=dark] .colab-df-convert {\n",
              "      background-color: #3B4455;\n",
              "      fill: #D2E3FC;\n",
              "    }\n",
              "\n",
              "    [theme=dark] .colab-df-convert:hover {\n",
              "      background-color: #434B5C;\n",
              "      box-shadow: 0px 1px 3px 1px rgba(0, 0, 0, 0.15);\n",
              "      filter: drop-shadow(0px 1px 2px rgba(0, 0, 0, 0.3));\n",
              "      fill: #FFFFFF;\n",
              "    }\n",
              "  </style>\n",
              "\n",
              "      <script>\n",
              "        const buttonEl =\n",
              "          document.querySelector('#df-1cd2c9b7-7b52-4709-bee6-a66d2fb3ed9c button.colab-df-convert');\n",
              "        buttonEl.style.display =\n",
              "          google.colab.kernel.accessAllowed ? 'block' : 'none';\n",
              "\n",
              "        async function convertToInteractive(key) {\n",
              "          const element = document.querySelector('#df-1cd2c9b7-7b52-4709-bee6-a66d2fb3ed9c');\n",
              "          const dataTable =\n",
              "            await google.colab.kernel.invokeFunction('convertToInteractive',\n",
              "                                                     [key], {});\n",
              "          if (!dataTable) return;\n",
              "\n",
              "          const docLinkHtml = 'Like what you see? Visit the ' +\n",
              "            '<a target=\"_blank\" href=https://colab.research.google.com/notebooks/data_table.ipynb>data table notebook</a>'\n",
              "            + ' to learn more about interactive tables.';\n",
              "          element.innerHTML = '';\n",
              "          dataTable['output_type'] = 'display_data';\n",
              "          await google.colab.output.renderOutput(dataTable, element);\n",
              "          const docLink = document.createElement('div');\n",
              "          docLink.innerHTML = docLinkHtml;\n",
              "          element.appendChild(docLink);\n",
              "        }\n",
              "      </script>\n",
              "    </div>\n",
              "  </div>\n",
              "  "
            ]
          },
          "metadata": {},
          "execution_count": 121
        }
      ]
    },
    {
      "cell_type": "markdown",
      "source": [
        "The above table shows the learning evaluation from each training fit, and the evaluation of the fit of the chosen model on the testing data. The cross-validated test performed with very similar accuracy to the refined grid model on the testing data. The overall conclusion is that the model is extremely effective at predicting salaries of data science job postings. This can be attributed to two key processes along the way.\n",
        "\n",
        "1.   Considered and deliberate feature extraction. Although the feature extraction could be considered excessive due to the null importance of some features, a very high proportion of that signal in the data was captured.\n",
        "2.   Sensible tuning. The two-phase tuning allowed the model to cover a lot of the parameter domain without an exhaustive computational cost, and then allowed it the capacity to subsequently fine tune. The ability to cross-validate the fits is also intepreted as an essential process to delivering a well-fitted model.\n",
        "\n"
      ],
      "metadata": {
        "id": "IIo9wnPdcsSY"
      }
    },
    {
      "cell_type": "markdown",
      "source": [
        "## 4.2.2 Visualization"
      ],
      "metadata": {
        "id": "2BoIYk2Sflkb"
      }
    },
    {
      "cell_type": "markdown",
      "source": [
        "In the plot below, the predicted salary values among the original testing data are plotted against the actual data to investigate any bias in the residuals. This plot reflects the strength of the model, as there is no visible pattern in the residuals. Furthermore, there are no causes for alarm or any glaring model deficiencies exhibitied."
      ],
      "metadata": {
        "id": "9ybfwuFFdo4A"
      }
    },
    {
      "cell_type": "code",
      "execution_count": 122,
      "metadata": {
        "colab": {
          "base_uri": "https://localhost:8080/",
          "height": 279
        },
        "id": "VDJUlnYm27fb",
        "outputId": "0455c105-2f83-474d-bbfd-993854d1d3d5"
      },
      "outputs": [
        {
          "output_type": "display_data",
          "data": {
            "text/plain": [
              "<Figure size 432x288 with 1 Axes>"
            ],
            "image/png": "[encoded data removed]"
          },
          "metadata": {
            "needs_background": "light"
          }
        }
      ],
      "source": [
        "test_predictions = refined_grid.predict(X_test)\n",
        "fig, ax = plt.subplots()\n",
        "ax.scatter(x = y_test, y = test_predictions, c='black')\n",
        "ax.plot([1, 200, 4000, 250000], [1, 200, 4000, 250000])\n",
        "plt.xlabel(\"Actual Salary\")\n",
        "plt.ylabel(\"Predicted Salary\")\n",
        "plt.show()"
      ]
    },
    {
      "cell_type": "markdown",
      "source": [
        "## 4.2.3 Data limitations and sampling bias"
      ],
      "metadata": {
        "id": "7zStjJjUfs4n"
      }
    },
    {
      "cell_type": "markdown",
      "source": [
        "As discussed in the proposal, the primary vector to investigate sampling bias is to run the predictor on the values that did not contain a salary. The intent is to randomly sample this set to match the size of the salaried data 10 times, and run a Wilcoxon Signed Rank Test to determine with statistical assertion whether or not there is a difference in the means. This evaluation is by no means intended to evaluate conclusive sampling bias, however it is intended to provide some perspective surrounding the school of thought that companies that do not advertise salary may choose to do so given their lacklustre offering capacity."
      ],
      "metadata": {
        "id": "5Y6LsyTcoSZm"
      }
    },
    {
      "cell_type": "code",
      "source": [
        "no_salary_X = no_salary.drop([\"Salary FTE\"], axis = 1) \n",
        "wilcoxon_data = []\n",
        "for i in range(10):\n",
        "  X_sample = no_salary_X.sample(n = len(y))\n",
        "  predictions = refined_grid.predict(X_sample)\n",
        "  res = stats.wilcoxon(y, predictions)\n",
        "  if res.pvalue < 0.05:\n",
        "    null_hyp = \"Reject\"\n",
        "  else:\n",
        "    null_hyp = \"Uphold\"\n",
        "  row = [res.pvalue, null_hyp, round(sum(y)/len(y), 2), round(sum(predictions)/len(predictions),2)]\n",
        "  wilcoxon_data.append(row)\n",
        "wilcoxon_df = pd.DataFrame(wilcoxon_data, \n",
        "                           columns = [\"P-value\", \"Null Hypothesis\", \n",
        "                                      \"Mean Salary (Known)\", \"Mean Salary (Predicted)\"])\n",
        "wilcoxon_df"
      ],
      "metadata": {
        "colab": {
          "base_uri": "https://localhost:8080/",
          "height": 363
        },
        "id": "oPvSuKyAudkD",
        "outputId": "e5aa4635-69ef-4d64-ad95-5741d12ab7f0"
      },
      "execution_count": 133,
      "outputs": [
        {
          "output_type": "execute_result",
          "data": {
            "text/plain": [
              "        P-value Null Hypothesis  Mean Salary (Known)  Mean Salary (Predicted)\n",
              "0  2.146014e-06          Reject            106469.23                118505.90\n",
              "1  9.900820e-06          Reject            106469.23                117448.32\n",
              "2  8.089791e-07          Reject            106469.23                119322.69\n",
              "3  1.088860e-09          Reject            106469.23                122993.08\n",
              "4  7.903581e-07          Reject            106469.23                119485.95\n",
              "5  5.602793e-07          Reject            106469.23                119780.63\n",
              "6  1.889171e-06          Reject            106469.23                119006.35\n",
              "7  1.546316e-07          Reject            106469.23                120207.77\n",
              "8  8.089908e-07          Reject            106469.23                120030.99\n",
              "9  1.993233e-07          Reject            106469.23                120043.92"
            ],
            "text/html": [
              "\n",
              "  <div id=\"df-289daa16-04ca-4f90-ae43-be5fc09da8fd\">\n",
              "    <div class=\"colab-df-container\">\n",
              "      <div>\n",
              "<style scoped>\n",
              "    .dataframe tbody tr th:only-of-type {\n",
              "        vertical-align: middle;\n",
              "    }\n",
              "\n",
              "    .dataframe tbody tr th {\n",
              "        vertical-align: top;\n",
              "    }\n",
              "\n",
              "    .dataframe thead th {\n",
              "        text-align: right;\n",
              "    }\n",
              "</style>\n",
              "<table border=\"1\" class=\"dataframe\">\n",
              "  <thead>\n",
              "    <tr style=\"text-align: right;\">\n",
              "      <th></th>\n",
              "      <th>P-value</th>\n",
              "      <th>Null Hypothesis</th>\n",
              "      <th>Mean Salary (Known)</th>\n",
              "      <th>Mean Salary (Predicted)</th>\n",
              "    </tr>\n",
              "  </thead>\n",
              "  <tbody>\n",
              "    <tr>\n",
              "      <th>0</th>\n",
              "      <td>2.146014e-06</td>\n",
              "      <td>Reject</td>\n",
              "      <td>106469.23</td>\n",
              "      <td>118505.90</td>\n",
              "    </tr>\n",
              "    <tr>\n",
              "      <th>1</th>\n",
              "      <td>9.900820e-06</td>\n",
              "      <td>Reject</td>\n",
              "      <td>106469.23</td>\n",
              "      <td>117448.32</td>\n",
              "    </tr>\n",
              "    <tr>\n",
              "      <th>2</th>\n",
              "      <td>8.089791e-07</td>\n",
              "      <td>Reject</td>\n",
              "      <td>106469.23</td>\n",
              "      <td>119322.69</td>\n",
              "    </tr>\n",
              "    <tr>\n",
              "      <th>3</th>\n",
              "      <td>1.088860e-09</td>\n",
              "      <td>Reject</td>\n",
              "      <td>106469.23</td>\n",
              "      <td>122993.08</td>\n",
              "    </tr>\n",
              "    <tr>\n",
              "      <th>4</th>\n",
              "      <td>7.903581e-07</td>\n",
              "      <td>Reject</td>\n",
              "      <td>106469.23</td>\n",
              "      <td>119485.95</td>\n",
              "    </tr>\n",
              "    <tr>\n",
              "      <th>5</th>\n",
              "      <td>5.602793e-07</td>\n",
              "      <td>Reject</td>\n",
              "      <td>106469.23</td>\n",
              "      <td>119780.63</td>\n",
              "    </tr>\n",
              "    <tr>\n",
              "      <th>6</th>\n",
              "      <td>1.889171e-06</td>\n",
              "      <td>Reject</td>\n",
              "      <td>106469.23</td>\n",
              "      <td>119006.35</td>\n",
              "    </tr>\n",
              "    <tr>\n",
              "      <th>7</th>\n",
              "      <td>1.546316e-07</td>\n",
              "      <td>Reject</td>\n",
              "      <td>106469.23</td>\n",
              "      <td>120207.77</td>\n",
              "    </tr>\n",
              "    <tr>\n",
              "      <th>8</th>\n",
              "      <td>8.089908e-07</td>\n",
              "      <td>Reject</td>\n",
              "      <td>106469.23</td>\n",
              "      <td>120030.99</td>\n",
              "    </tr>\n",
              "    <tr>\n",
              "      <th>9</th>\n",
              "      <td>1.993233e-07</td>\n",
              "      <td>Reject</td>\n",
              "      <td>106469.23</td>\n",
              "      <td>120043.92</td>\n",
              "    </tr>\n",
              "  </tbody>\n",
              "</table>\n",
              "</div>\n",
              "      <button class=\"colab-df-convert\" onclick=\"convertToInteractive('df-289daa16-04ca-4f90-ae43-be5fc09da8fd')\"\n",
              "              title=\"Convert this dataframe to an interactive table.\"\n",
              "              style=\"display:none;\">\n",
              "        \n",
              "  <svg xmlns=\"http://www.w3.org/2000/svg\" height=\"24px\"viewBox=\"0 0 24 24\"\n",
              "       width=\"24px\">\n",
              "    <path d=\"M0 0h24v24H0V0z\" fill=\"none\"/>\n",
              "    <path d=\"M18.56 5.44l.94 2.06.94-2.06 2.06-.94-2.06-.94-.94-2.06-.94 2.06-2.06.94zm-11 1L8.5 8.5l.94-2.06 2.06-.94-2.06-.94L8.5 2.5l-.94 2.06-2.06.94zm10 10l.94 2.06.94-2.06 2.06-.94-2.06-.94-.94-2.06-.94 2.06-2.06.94z\"/><path d=\"M17.41 7.96l-1.37-1.37c-.4-.4-.92-.59-1.43-.59-.52 0-1.04.2-1.43.59L10.3 9.45l-7.72 7.72c-.78.78-.78 2.05 0 2.83L4 21.41c.39.39.9.59 1.41.59.51 0 1.02-.2 1.41-.59l7.78-7.78 2.81-2.81c.8-.78.8-2.07 0-2.86zM5.41 20L4 18.59l7.72-7.72 1.47 1.35L5.41 20z\"/>\n",
              "  </svg>\n",
              "      </button>\n",
              "      \n",
              "  <style>\n",
              "    .colab-df-container {\n",
              "      display:flex;\n",
              "      flex-wrap:wrap;\n",
              "      gap: 12px;\n",
              "    }\n",
              "\n",
              "    .colab-df-convert {\n",
              "      background-color: #E8F0FE;\n",
              "      border: none;\n",
              "      border-radius: 50%;\n",
              "      cursor: pointer;\n",
              "      display: none;\n",
              "      fill: #1967D2;\n",
              "      height: 32px;\n",
              "      padding: 0 0 0 0;\n",
              "      width: 32px;\n",
              "    }\n",
              "\n",
              "    .colab-df-convert:hover {\n",
              "      background-color: #E2EBFA;\n",
              "      box-shadow: 0px 1px 2px rgba(60, 64, 67, 0.3), 0px 1px 3px 1px rgba(60, 64, 67, 0.15);\n",
              "      fill: #174EA6;\n",
              "    }\n",
              "\n",
              "    [theme=dark] .colab-df-convert {\n",
              "      background-color: #3B4455;\n",
              "      fill: #D2E3FC;\n",
              "    }\n",
              "\n",
              "    [theme=dark] .colab-df-convert:hover {\n",
              "      background-color: #434B5C;\n",
              "      box-shadow: 0px 1px 3px 1px rgba(0, 0, 0, 0.15);\n",
              "      filter: drop-shadow(0px 1px 2px rgba(0, 0, 0, 0.3));\n",
              "      fill: #FFFFFF;\n",
              "    }\n",
              "  </style>\n",
              "\n",
              "      <script>\n",
              "        const buttonEl =\n",
              "          document.querySelector('#df-289daa16-04ca-4f90-ae43-be5fc09da8fd button.colab-df-convert');\n",
              "        buttonEl.style.display =\n",
              "          google.colab.kernel.accessAllowed ? 'block' : 'none';\n",
              "\n",
              "        async function convertToInteractive(key) {\n",
              "          const element = document.querySelector('#df-289daa16-04ca-4f90-ae43-be5fc09da8fd');\n",
              "          const dataTable =\n",
              "            await google.colab.kernel.invokeFunction('convertToInteractive',\n",
              "                                                     [key], {});\n",
              "          if (!dataTable) return;\n",
              "\n",
              "          const docLinkHtml = 'Like what you see? Visit the ' +\n",
              "            '<a target=\"_blank\" href=https://colab.research.google.com/notebooks/data_table.ipynb>data table notebook</a>'\n",
              "            + ' to learn more about interactive tables.';\n",
              "          element.innerHTML = '';\n",
              "          dataTable['output_type'] = 'display_data';\n",
              "          await google.colab.output.renderOutput(dataTable, element);\n",
              "          const docLink = document.createElement('div');\n",
              "          docLink.innerHTML = docLinkHtml;\n",
              "          element.appendChild(docLink);\n",
              "        }\n",
              "      </script>\n",
              "    </div>\n",
              "  </div>\n",
              "  "
            ]
          },
          "metadata": {},
          "execution_count": 133
        }
      ]
    },
    {
      "cell_type": "markdown",
      "source": [
        "Whilst the null hypothesis was rejected on every occassion, indicating a statistically significant difference in means, the variation was in the opposite direction than what was predicted. From the results of this test, there are three interpretations.\n",
        "\n",
        "1.   The likely presence of a form of sample bias and the elucidatation of limitations in the data. \n",
        "2.   The opening of converse line of thought, that perhaps the model serves not to predict a salary, rather to determine a salary for a job which is fair given the current market.\n",
        "3.   Future work scopes to evaluate the above sentiments by using some more advanced webscraping techniques (discussed further in the next section)."
      ],
      "metadata": {
        "id": "KVcgo1k26WgV"
      }
    },
    {
      "cell_type": "markdown",
      "source": [
        "## Future Considerations"
      ],
      "metadata": {
        "id": "1s3pQQvMzbZM"
      }
    },
    {
      "cell_type": "markdown",
      "source": [
        "*Webcrawler*: It is suspected that job listings that do not overtly express their salary are coerced to register a figure in the backend such that the jobs will not disappear when filtered by salary. A future project could incorporate an algorithm such as successive halving to try and estimate a job's salary.\n",
        "\n",
        "*Processing*: Whilst the NLP used in this work was robust and effective, the field is evolving and advanced techniques could present another layer to the model. An interesting direction a future work could take is the incorporation of aspect-based granularity/sentiment analysis in a similar vein to the works of Pontiki et al. (2014) and Do et al. (2019)\n",
        "\n",
        "*Machine Learning*: Moving towards a suite of tree based methods and/or a voting system would help protect the integrity of this work at a greater scale, especially on a dynamic time frame."
      ],
      "metadata": {
        "id": "efz_O_KR22r3"
      }
    },
    {
      "cell_type": "markdown",
      "source": [
        "## References"
      ],
      "metadata": {
        "id": "5GOFwAMs4l9c"
      }
    },
    {
      "cell_type": "markdown",
      "source": [
        "Do HH, Prasad PWC, Maag A, Alsadoon A (2019). Deep learning for aspect-based sentiment analysis: acomparative review. Expert Syst Appl 118:272–299.\n",
        "\n",
        "Pontiki M, Galanis D, Pavlopoulos J, Papageorgiou H,  Androutsopoulos I, Manandhar S (2014). Semeval-2014 task 4: Aspect based sentiment analysis. SemEval 2014:27-35."
      ],
      "metadata": {
        "id": "FkMaIoFR5D4f"
      }
    }
  ],
  "metadata": {
    "colab": {
      "name": "MACHINE LEARNING",
      "provenance": [],
      "authorship_tag": "ABX9TyNeM13OctiIBICDPFG/YKZ/",
      "include_colab_link": true
    },
    "kernelspec": {
      "display_name": "Python 3",
      "name": "python3"
    },
    "language_info": {
      "name": "python"
    }
  },
  "nbformat": 4,
  "nbformat_minor": 0
}