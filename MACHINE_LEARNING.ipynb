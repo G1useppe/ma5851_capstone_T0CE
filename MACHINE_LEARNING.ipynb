{
  "cells": [
    {
      "cell_type": "markdown",
      "metadata": {
        "id": "view-in-github",
        "colab_type": "text"
      },
      "source": [
        "<a href=\"https://colab.research.google.com/github/G1useppe/ma5851_capstone_T0CE/blob/main/MACHINE_LEARNING.ipynb\" target=\"_parent\"><img src=\"https://colab.research.google.com/assets/colab-badge.svg\" alt=\"Open In Colab\"/></a>"
      ]
    },
    {
      "cell_type": "markdown",
      "metadata": {
        "id": "CXN9f2gKdxJl"
      },
      "source": [
        "# Environment Setup"
      ]
    },
    {
      "cell_type": "code",
      "execution_count": null,
      "metadata": {
        "id": "KE8AbIG-URGY"
      },
      "outputs": [],
      "source": [
        "from google.colab import drive #mounting google drive to access processing output\n",
        "\n",
        "import pandas as pd #general\n",
        "import numpy as np\n",
        "from pprint import pprint\n",
        "\n",
        "from sklearn.ensemble import RandomForestRegressor as rfR #machine learning\n",
        "from sklearn.model_selection import train_test_split as tts \n",
        "from sklearn.model_selection import RandomizedSearchCV as rsCV\n",
        "from sklearn import metrics"
      ]
    },
    {
      "cell_type": "code",
      "execution_count": null,
      "metadata": {
        "colab": {
          "base_uri": "https://localhost:8080/"
        },
        "id": "oq8ovZTr_gvL",
        "outputId": "143a2237-e6da-4b30-c8b8-7d74e9e0f686"
      },
      "outputs": [
        {
          "name": "stdout",
          "output_type": "stream",
          "text": [
            "Drive already mounted at /content/drive; to attempt to forcibly remount, call drive.mount(\"/content/drive\", force_remount=True).\n"
          ]
        }
      ],
      "source": [
        "drive.mount('/content/drive')"
      ]
    },
    {
      "cell_type": "markdown",
      "metadata": {
        "id": "R-FsRV6dUgWH"
      },
      "source": [
        "To commence the third and final part of this workflow, we can bring in the data generated from our cleaning, wrangling and feature extraction."
      ]
    },
    {
      "cell_type": "code",
      "execution_count": null,
      "metadata": {
        "colab": {
          "base_uri": "https://localhost:8080/"
        },
        "id": "-lOQmkRJSZZG",
        "outputId": "54782056-9a96-456d-a143-9c2489236ce7"
      },
      "outputs": [
        {
          "data": {
            "text/html": [
              "\n",
              "  <div id=\"df-93298357-8990-41bc-b7df-d9fa74f2c2ab\">\n",
              "    <div class=\"colab-df-container\">\n",
              "      <div>\n",
              "<style scoped>\n",
              "    .dataframe tbody tr th:only-of-type {\n",
              "        vertical-align: middle;\n",
              "    }\n",
              "\n",
              "    .dataframe tbody tr th {\n",
              "        vertical-align: top;\n",
              "    }\n",
              "\n",
              "    .dataframe thead th {\n",
              "        text-align: right;\n",
              "    }\n",
              "</style>\n",
              "<table border=\"1\" class=\"dataframe\">\n",
              "  <thead>\n",
              "    <tr style=\"text-align: right;\">\n",
              "      <th></th>\n",
              "      <th>Salary FTE</th>\n",
              "      <th>Capital</th>\n",
              "      <th>State_ACT</th>\n",
              "      <th>State_NSW</th>\n",
              "      <th>State_NT</th>\n",
              "      <th>State_QLD</th>\n",
              "      <th>State_SA</th>\n",
              "      <th>State_TAS</th>\n",
              "      <th>State_VIC</th>\n",
              "      <th>State_WA</th>\n",
              "      <th>...</th>\n",
              "      <th>desc_helping</th>\n",
              "      <th>desc_pipeline</th>\n",
              "      <th>desc_data management</th>\n",
              "      <th>desc_user</th>\n",
              "      <th>desc_insurance</th>\n",
              "      <th>desc_bachelor degree</th>\n",
              "      <th>desc_aws</th>\n",
              "      <th>desc_marketing</th>\n",
              "      <th>desc_energy</th>\n",
              "      <th>desc_sale</th>\n",
              "    </tr>\n",
              "  </thead>\n",
              "  <tbody>\n",
              "    <tr>\n",
              "      <th>0</th>\n",
              "      <td>103308.0</td>\n",
              "      <td>False</td>\n",
              "      <td>0</td>\n",
              "      <td>1</td>\n",
              "      <td>0</td>\n",
              "      <td>0</td>\n",
              "      <td>0</td>\n",
              "      <td>0</td>\n",
              "      <td>0</td>\n",
              "      <td>0</td>\n",
              "      <td>...</td>\n",
              "      <td>0.0596</td>\n",
              "      <td>0.000000</td>\n",
              "      <td>0.000000</td>\n",
              "      <td>0.000000</td>\n",
              "      <td>0.054629</td>\n",
              "      <td>0.0</td>\n",
              "      <td>0.0</td>\n",
              "      <td>0.0</td>\n",
              "      <td>0.000000</td>\n",
              "      <td>0.0</td>\n",
              "    </tr>\n",
              "    <tr>\n",
              "      <th>1</th>\n",
              "      <td>109738.5</td>\n",
              "      <td>False</td>\n",
              "      <td>0</td>\n",
              "      <td>0</td>\n",
              "      <td>0</td>\n",
              "      <td>0</td>\n",
              "      <td>0</td>\n",
              "      <td>0</td>\n",
              "      <td>1</td>\n",
              "      <td>0</td>\n",
              "      <td>...</td>\n",
              "      <td>0.0000</td>\n",
              "      <td>0.000000</td>\n",
              "      <td>0.091901</td>\n",
              "      <td>0.071474</td>\n",
              "      <td>0.000000</td>\n",
              "      <td>0.0</td>\n",
              "      <td>0.0</td>\n",
              "      <td>0.0</td>\n",
              "      <td>0.000000</td>\n",
              "      <td>0.0</td>\n",
              "    </tr>\n",
              "    <tr>\n",
              "      <th>2</th>\n",
              "      <td>64924.5</td>\n",
              "      <td>False</td>\n",
              "      <td>0</td>\n",
              "      <td>0</td>\n",
              "      <td>0</td>\n",
              "      <td>0</td>\n",
              "      <td>0</td>\n",
              "      <td>0</td>\n",
              "      <td>1</td>\n",
              "      <td>0</td>\n",
              "      <td>...</td>\n",
              "      <td>0.0000</td>\n",
              "      <td>0.076432</td>\n",
              "      <td>0.000000</td>\n",
              "      <td>0.075535</td>\n",
              "      <td>0.000000</td>\n",
              "      <td>0.0</td>\n",
              "      <td>0.0</td>\n",
              "      <td>0.0</td>\n",
              "      <td>0.000000</td>\n",
              "      <td>0.0</td>\n",
              "    </tr>\n",
              "    <tr>\n",
              "      <th>3</th>\n",
              "      <td>79186.8</td>\n",
              "      <td>False</td>\n",
              "      <td>0</td>\n",
              "      <td>0</td>\n",
              "      <td>0</td>\n",
              "      <td>0</td>\n",
              "      <td>0</td>\n",
              "      <td>0</td>\n",
              "      <td>1</td>\n",
              "      <td>0</td>\n",
              "      <td>...</td>\n",
              "      <td>0.0000</td>\n",
              "      <td>0.000000</td>\n",
              "      <td>0.000000</td>\n",
              "      <td>0.000000</td>\n",
              "      <td>0.000000</td>\n",
              "      <td>0.0</td>\n",
              "      <td>0.0</td>\n",
              "      <td>0.0</td>\n",
              "      <td>0.079768</td>\n",
              "      <td>0.0</td>\n",
              "    </tr>\n",
              "    <tr>\n",
              "      <th>4</th>\n",
              "      <td>76648.0</td>\n",
              "      <td>True</td>\n",
              "      <td>0</td>\n",
              "      <td>0</td>\n",
              "      <td>0</td>\n",
              "      <td>0</td>\n",
              "      <td>0</td>\n",
              "      <td>0</td>\n",
              "      <td>1</td>\n",
              "      <td>0</td>\n",
              "      <td>...</td>\n",
              "      <td>0.0000</td>\n",
              "      <td>0.000000</td>\n",
              "      <td>0.457190</td>\n",
              "      <td>0.000000</td>\n",
              "      <td>0.000000</td>\n",
              "      <td>0.0</td>\n",
              "      <td>0.0</td>\n",
              "      <td>0.0</td>\n",
              "      <td>0.000000</td>\n",
              "      <td>0.0</td>\n",
              "    </tr>\n",
              "  </tbody>\n",
              "</table>\n",
              "<p>5 rows × 310 columns</p>\n",
              "</div>\n",
              "      <button class=\"colab-df-convert\" onclick=\"convertToInteractive('df-93298357-8990-41bc-b7df-d9fa74f2c2ab')\"\n",
              "              title=\"Convert this dataframe to an interactive table.\"\n",
              "              style=\"display:none;\">\n",
              "        \n",
              "  <svg xmlns=\"http://www.w3.org/2000/svg\" height=\"24px\"viewBox=\"0 0 24 24\"\n",
              "       width=\"24px\">\n",
              "    <path d=\"M0 0h24v24H0V0z\" fill=\"none\"/>\n",
              "    <path d=\"M18.56 5.44l.94 2.06.94-2.06 2.06-.94-2.06-.94-.94-2.06-.94 2.06-2.06.94zm-11 1L8.5 8.5l.94-2.06 2.06-.94-2.06-.94L8.5 2.5l-.94 2.06-2.06.94zm10 10l.94 2.06.94-2.06 2.06-.94-2.06-.94-.94-2.06-.94 2.06-2.06.94z\"/><path d=\"M17.41 7.96l-1.37-1.37c-.4-.4-.92-.59-1.43-.59-.52 0-1.04.2-1.43.59L10.3 9.45l-7.72 7.72c-.78.78-.78 2.05 0 2.83L4 21.41c.39.39.9.59 1.41.59.51 0 1.02-.2 1.41-.59l7.78-7.78 2.81-2.81c.8-.78.8-2.07 0-2.86zM5.41 20L4 18.59l7.72-7.72 1.47 1.35L5.41 20z\"/>\n",
              "  </svg>\n",
              "      </button>\n",
              "      \n",
              "  <style>\n",
              "    .colab-df-container {\n",
              "      display:flex;\n",
              "      flex-wrap:wrap;\n",
              "      gap: 12px;\n",
              "    }\n",
              "\n",
              "    .colab-df-convert {\n",
              "      background-color: #E8F0FE;\n",
              "      border: none;\n",
              "      border-radius: 50%;\n",
              "      cursor: pointer;\n",
              "      display: none;\n",
              "      fill: #1967D2;\n",
              "      height: 32px;\n",
              "      padding: 0 0 0 0;\n",
              "      width: 32px;\n",
              "    }\n",
              "\n",
              "    .colab-df-convert:hover {\n",
              "      background-color: #E2EBFA;\n",
              "      box-shadow: 0px 1px 2px rgba(60, 64, 67, 0.3), 0px 1px 3px 1px rgba(60, 64, 67, 0.15);\n",
              "      fill: #174EA6;\n",
              "    }\n",
              "\n",
              "    [theme=dark] .colab-df-convert {\n",
              "      background-color: #3B4455;\n",
              "      fill: #D2E3FC;\n",
              "    }\n",
              "\n",
              "    [theme=dark] .colab-df-convert:hover {\n",
              "      background-color: #434B5C;\n",
              "      box-shadow: 0px 1px 3px 1px rgba(0, 0, 0, 0.15);\n",
              "      filter: drop-shadow(0px 1px 2px rgba(0, 0, 0, 0.3));\n",
              "      fill: #FFFFFF;\n",
              "    }\n",
              "  </style>\n",
              "\n",
              "      <script>\n",
              "        const buttonEl =\n",
              "          document.querySelector('#df-93298357-8990-41bc-b7df-d9fa74f2c2ab button.colab-df-convert');\n",
              "        buttonEl.style.display =\n",
              "          google.colab.kernel.accessAllowed ? 'block' : 'none';\n",
              "\n",
              "        async function convertToInteractive(key) {\n",
              "          const element = document.querySelector('#df-93298357-8990-41bc-b7df-d9fa74f2c2ab');\n",
              "          const dataTable =\n",
              "            await google.colab.kernel.invokeFunction('convertToInteractive',\n",
              "                                                     [key], {});\n",
              "          if (!dataTable) return;\n",
              "\n",
              "          const docLinkHtml = 'Like what you see? Visit the ' +\n",
              "            '<a target=\"_blank\" href=https://colab.research.google.com/notebooks/data_table.ipynb>data table notebook</a>'\n",
              "            + ' to learn more about interactive tables.';\n",
              "          element.innerHTML = '';\n",
              "          dataTable['output_type'] = 'display_data';\n",
              "          await google.colab.output.renderOutput(dataTable, element);\n",
              "          const docLink = document.createElement('div');\n",
              "          docLink.innerHTML = docLinkHtml;\n",
              "          element.appendChild(docLink);\n",
              "        }\n",
              "      </script>\n",
              "    </div>\n",
              "  </div>\n",
              "  "
            ],
            "text/plain": [
              "   Salary FTE  Capital  State_ACT  State_NSW  State_NT  State_QLD  State_SA  \\\n",
              "0    103308.0    False          0          1         0          0         0   \n",
              "1    109738.5    False          0          0         0          0         0   \n",
              "2     64924.5    False          0          0         0          0         0   \n",
              "3     79186.8    False          0          0         0          0         0   \n",
              "4     76648.0     True          0          0         0          0         0   \n",
              "\n",
              "   State_TAS  State_VIC  State_WA  ...  desc_helping  desc_pipeline  \\\n",
              "0          0          0         0  ...        0.0596       0.000000   \n",
              "1          0          1         0  ...        0.0000       0.000000   \n",
              "2          0          1         0  ...        0.0000       0.076432   \n",
              "3          0          1         0  ...        0.0000       0.000000   \n",
              "4          0          1         0  ...        0.0000       0.000000   \n",
              "\n",
              "   desc_data management  desc_user  desc_insurance  desc_bachelor degree  \\\n",
              "0              0.000000   0.000000        0.054629                   0.0   \n",
              "1              0.091901   0.071474        0.000000                   0.0   \n",
              "2              0.000000   0.075535        0.000000                   0.0   \n",
              "3              0.000000   0.000000        0.000000                   0.0   \n",
              "4              0.457190   0.000000        0.000000                   0.0   \n",
              "\n",
              "   desc_aws  desc_marketing  desc_energy  desc_sale  \n",
              "0       0.0             0.0     0.000000        0.0  \n",
              "1       0.0             0.0     0.000000        0.0  \n",
              "2       0.0             0.0     0.000000        0.0  \n",
              "3       0.0             0.0     0.079768        0.0  \n",
              "4       0.0             0.0     0.000000        0.0  \n",
              "\n",
              "[5 rows x 310 columns]"
            ]
          },
          "execution_count": 72,
          "metadata": {},
          "output_type": "execute_result"
        }
      ],
      "source": [
        "path = '/content/drive/MyDrive/feature_data.xlsx'\n",
        "feature_data = pd.read_excel(path, na_values = 'NaN')\n",
        "feature_data = feature_data.drop([\"Unnamed: 0\"], axis = 1)\n",
        "feature_data.head()"
      ]
    },
    {
      "cell_type": "markdown",
      "metadata": {
        "id": "0Kihf_ox3Dt1"
      },
      "source": [
        "# 4.1 Machine Learning Structure"
      ]
    },
    {
      "cell_type": "markdown",
      "metadata": {
        "id": "dfvVdULfOgf_"
      },
      "source": [
        "## Train/Test Split"
      ]
    },
    {
      "cell_type": "markdown",
      "metadata": {
        "id": "jh6s7rPekfRz"
      },
      "source": [
        "There was no need to deviate from conventional wisdom for the train/test split, and a 80/20 split was preferred."
      ]
    },
    {
      "cell_type": "code",
      "execution_count": null,
      "metadata": {
        "id": "K3oueM_FWVbP"
      },
      "outputs": [],
      "source": [
        "salary = feature_data[feature_data[\"Salary FTE\"].notnull()]\n",
        "no_salary = feature_data[feature_data[\"Salary FTE\"].isnull()]"
      ]
    },
    {
      "cell_type": "code",
      "execution_count": null,
      "metadata": {
        "id": "pOH1NAiGVOwQ"
      },
      "outputs": [],
      "source": [
        "y = list(salary[\"Salary FTE\"])\n",
        "X = salary.drop([\"Salary FTE\"], axis = 1) "
      ]
    },
    {
      "cell_type": "code",
      "execution_count": null,
      "metadata": {
        "id": "RmBkqyeodJ_y"
      },
      "outputs": [],
      "source": [
        "X_train, X_test, y_train, y_test = tts(X, y, test_size = 0.2, random_state = 52)"
      ]
    },
    {
      "cell_type": "markdown",
      "metadata": {
        "id": "8pKYWfhsiUTZ"
      },
      "source": [
        "## 4.1.1 Random Forest Selection Rationale and Structure"
      ]
    },
    {
      "cell_type": "markdown",
      "metadata": {
        "id": "FH57VpzeiceN"
      },
      "source": [
        "The random forest regressor was selected as the machine learning model due to the strong performance in the surveyed literature. In the work of Jackman & Reid (xxxx), it is the strongest performing model among the five regressors. In the work Martin et al. (xxxx), the random forest outpeforms all other models in a classification problem with the exception of voting classifiers, which are outside the scope of the course material. Additionally, Biau and Scornet (2015) praise the random forest algorithm for its 'ability to deal with small sample sizes and\n",
        "high-dimensional feature spaces', which will be the case for the testing data set. \n",
        "\n",
        "To understand the structure of the random forest we first must understand the structure of a decision tree. In a machine learning capacity, decision trees are comprised of nodes that are trained to split observations in a manner such that the groups that it generates are as dissimilar to eachother as possible. The amount of nodes that makes up a tree, and the manner in which the nodes behave is constrained by user-specified parameters. A random forest is a collection of decision trees that operate as a community to make a decision. In the case of our regressor, each tree in the forest will make a prediction on the case which it is passed. Following this, the random forest will return the average prediction among the trees. The underlying concept behind the random forest is a simple one, strength in numbers. The essence that the decision trees all come from a seperate origin and are uncorellated is key to the process, where each tree can sample a fraction of the data, grow a tree, and contribute to the community aggregation.\n",
        "\n",
        "The software to implement the machine learning will be RandomForestRegressor from scikit-learn. "
      ]
    },
    {
      "cell_type": "markdown",
      "metadata": {
        "id": "VTnvK1Yn9zdi"
      },
      "source": [
        "## 4.1.2 Hyperparameters"
      ]
    },
    {
      "cell_type": "markdown",
      "metadata": {
        "id": "LEJc2O0wdXVk"
      },
      "source": [
        "### Default Random Forest"
      ]
    },
    {
      "cell_type": "markdown",
      "metadata": {
        "id": "YAeob43pgy-D"
      },
      "source": [
        "To set a baseline for our machine learning investigation, and more importantly our hyperparameter optimization, a model was produced using default parameters from sklearn. The default parameters were returned and the model was subsequtly trained on the training set."
      ]
    },
    {
      "cell_type": "code",
      "execution_count": null,
      "metadata": {
        "colab": {
          "base_uri": "https://localhost:8080/"
        },
        "id": "5YWyBKauebC8",
        "outputId": "46e6f67f-664f-4385-9cd4-d9398b894869"
      },
      "outputs": [
        {
          "name": "stdout",
          "output_type": "stream",
          "text": [
            "{'bootstrap': True,\n",
            " 'ccp_alpha': 0.0,\n",
            " 'criterion': 'squared_error',\n",
            " 'max_depth': None,\n",
            " 'max_features': 'auto',\n",
            " 'max_leaf_nodes': None,\n",
            " 'max_samples': None,\n",
            " 'min_impurity_decrease': 0.0,\n",
            " 'min_samples_leaf': 1,\n",
            " 'min_samples_split': 2,\n",
            " 'min_weight_fraction_leaf': 0.0,\n",
            " 'n_estimators': 100,\n",
            " 'n_jobs': None,\n",
            " 'oob_score': False,\n",
            " 'random_state': None,\n",
            " 'verbose': 0,\n",
            " 'warm_start': False}\n"
          ]
        }
      ],
      "source": [
        "default_rf = rfR()\n",
        "pprint(default_rf.get_params())"
      ]
    },
    {
      "cell_type": "code",
      "execution_count": null,
      "metadata": {
        "colab": {
          "base_uri": "https://localhost:8080/"
        },
        "id": "IQu9YWLhzwWP",
        "outputId": "d1657428-a9c9-4b94-c2ec-e3daa68761c2"
      },
      "outputs": [
        {
          "data": {
            "text/plain": [
              "RandomForestRegressor()"
            ]
          },
          "execution_count": 77,
          "metadata": {},
          "output_type": "execute_result"
        }
      ],
      "source": [
        "default_rf.fit(X_train, y_train)"
      ]
    },
    {
      "cell_type": "markdown",
      "metadata": {
        "id": "Dpg8oh8w-iV5"
      },
      "source": [
        "The below helper function was written to save on doubling up, and generate some data to add to a data frame for the evluation."
      ]
    },
    {
      "cell_type": "code",
      "execution_count": null,
      "metadata": {
        "id": "WN78JQcUGiDY"
      },
      "outputs": [],
      "source": [
        "def evaluator(model, X, y):\n",
        "  predictions = model.predict(X)\n",
        "  errors = abs(predictions - y)\n",
        "  mae = np.mean(errors)\n",
        "  mape = 100 * np.mean(errors / y)\n",
        "  accuracy = 100 - mape\n",
        "  print(\"Accuracy: \" + str(round(accuracy, 2)) + \"%\")\n",
        "  print(\"Mean Absolute Error: AUD \" + str(round(mae, 2)))\n",
        "  print(\"These results have been saved in a list\")\n",
        "  return [str(model), X, accuracy, mae]"
      ]
    },
    {
      "cell_type": "code",
      "execution_count": null,
      "metadata": {
        "colab": {
          "base_uri": "https://localhost:8080/"
        },
        "id": "ktxkmvtXzhhb",
        "outputId": "d2eed7fd-c8ae-4201-8f37-9537ae4eac55"
      },
      "outputs": [
        {
          "name": "stdout",
          "output_type": "stream",
          "text": [
            "Accuracy: 93.61%\n",
            "Mean Absolute Error: AUD 5253.18\n",
            "These results have been saved in a list\n"
          ]
        }
      ],
      "source": [
        "default_rf_metrics = evaluator(default_rf, X_train, y_train)"
      ]
    },
    {
      "cell_type": "markdown",
      "metadata": {
        "id": "HCG69p7U-vU1"
      },
      "source": [
        "The initial performance of the model is very strong, however it is caveated by potential overfitting. This can be attributed to the lack of cross-validation and the absence of constraint on the max_depth field."
      ]
    },
    {
      "cell_type": "code",
      "execution_count": null,
      "metadata": {
        "colab": {
          "base_uri": "https://localhost:8080/"
        },
        "id": "FFdt7K9u6J_O",
        "outputId": "0a947f7d-539f-4e9b-fb63-4c30d0e67206"
      },
      "outputs": [
        {
          "data": {
            "text/plain": [
              "desc_collaborate               0.198491\n",
              "title_analyst                  0.098962\n",
              "desc_leave                     0.071788\n",
              "desc_scientific                0.060944\n",
              "desc_strait islander           0.046349\n",
              "desc_vision                    0.035617\n",
              "desc_scientist                 0.033894\n",
              "company_health                 0.026475\n",
              "desc_torres strait islander    0.018457\n",
              "desc_operational               0.013687\n",
              "dtype: float64"
            ]
          },
          "execution_count": 80,
          "metadata": {},
          "output_type": "execute_result"
        }
      ],
      "source": [
        "feature_importance = pd.Series(data = default_rf.feature_importances_, index = X_train.columns)\n",
        "feature_importance.sort_values(ascending = False)[0:10]"
      ]
    },
    {
      "cell_type": "markdown",
      "metadata": {
        "id": "5pBQTnFk_B6C"
      },
      "source": [
        "The variable importance for this model produced a surprising result, with the \"collaborate\" feature from the job description is four times as important as any other feature."
      ]
    },
    {
      "cell_type": "markdown",
      "metadata": {
        "id": "ldkpg9QadeFz"
      },
      "source": [
        "### First Random Grid"
      ]
    },
    {
      "cell_type": "markdown",
      "metadata": {
        "id": "9Y9DnHuA_Wcr"
      },
      "source": [
        "The first step in improving our model is trying to tune the hyperparameters. The chosen tuning implementation was the Randmized Search Cross-Validation (rsCV) method from sci-kit learn, in which a random set from a parameter grid is iterated through with cross-validation. In our case, we propose a grid with 1,536 different parameter combinations. Given the provided constraints, rsCV will randomly choose 100 candidates and fit 8 folds on each. The advantage this model provides is the ability to narrow down a very wide hyperparameter search to provide a rough idea of where the best hyperparameters sit, without sacrificing the integrity of the fit. This method is designed to be an intermediate tune before a more focused tune down the line. "
      ]
    },
    {
      "cell_type": "code",
      "execution_count": null,
      "metadata": {
        "id": "x9zq7rh4fdSF"
      },
      "outputs": [],
      "source": [
        "n_estimators = [100, 200, 400, 800]\n",
        "max_features = ['sqrt', 'auto']\n",
        "max_depth = [5, 10, 20, 40, 80, 160]\n",
        "min_samples_leaf = [1, 2, 4, 8]\n",
        "min_samples_split = [2, 4, 8, 16]\n",
        "bootstrap = [False]"
      ]
    },
    {
      "cell_type": "code",
      "execution_count": null,
      "metadata": {
        "id": "N950ocR1gxXH"
      },
      "outputs": [],
      "source": [
        "params_grid = {\n",
        "    'n_estimators': n_estimators,\n",
        "    'max_features': max_features,\n",
        "    'max_depth': max_depth,\n",
        "    'min_samples_leaf': min_samples_leaf,\n",
        "    'min_samples_split': min_samples_split,\n",
        "    'bootstrap': bootstrap\n",
        "}"
      ]
    },
    {
      "cell_type": "code",
      "execution_count": null,
      "metadata": {
        "id": "M4zoQLld7I2v"
      },
      "outputs": [],
      "source": [
        "random_grid = rsCV(estimator = default_rf, param_distributions = params_grid, n_iter = 100, cv = 8, verbose = 2, n_jobs = -1)"
      ]
    },
    {
      "cell_type": "code",
      "execution_count": null,
      "metadata": {
        "colab": {
          "background_save": true,
          "base_uri": "https://localhost:8080/"
        },
        "id": "xoX0PfsSyCnl",
        "outputId": "e1d1abd1-ec7e-4d67-9659-0f2d3e4dcc17"
      },
      "outputs": [
        {
          "name": "stdout",
          "output_type": "stream",
          "text": [
            "Fitting 8 folds for each of 100 candidates, totalling 800 fits\n"
          ]
        },
        {
          "data": {
            "text/plain": [
              "{'n_estimators': 100,\n",
              " 'min_samples_split': 4,\n",
              " 'min_samples_leaf': 1,\n",
              " 'max_features': 'sqrt',\n",
              " 'max_depth': 80,\n",
              " 'bootstrap': False}"
            ]
          },
          "execution_count": 84,
          "metadata": {},
          "output_type": "execute_result"
        }
      ],
      "source": [
        "random_grid.fit(X_train, y_train)\n",
        "random_grid.best_params_"
      ]
    },
    {
      "cell_type": "code",
      "execution_count": null,
      "metadata": {
        "colab": {
          "background_save": true
        },
        "id": "UPnnPB97zX1h",
        "outputId": "596b3201-e837-4340-a98d-2f0a522bfe11"
      },
      "outputs": [
        {
          "name": "stdout",
          "output_type": "stream",
          "text": [
            "Accuracy: 98.91%\n",
            "Mean Absolute Error: AUD 991.73\n",
            "These results have been saved in a list\n"
          ]
        }
      ],
      "source": [
        "random_grid_metrics = evaluator(random_grid, X_train, y_train)"
      ]
    },
    {
      "cell_type": "markdown",
      "metadata": {
        "id": "EJywlGjVBWK5"
      },
      "source": [
        "Whilst this result appears to be only a slight improvement, there is a increased sense of confidence that this is a robust model as the issues in the default model have been mitigated. Whilst max_depth took on the highest available value, it has been constrained. Furthermore, the 8-fold validation lends weight to the fact that this model is not overfit."
      ]
    },
    {
      "cell_type": "markdown",
      "metadata": {
        "id": "YA4a4_aRKDVK"
      },
      "source": [
        "### Refined Random Grid"
      ]
    },
    {
      "cell_type": "markdown",
      "metadata": {
        "id": "mxOJz8x5B0Ec"
      },
      "source": [
        "Using the best hyperparameters from the random grid to govern the selection, a new set of hyperparameters is proposed. rsCV is implemented to trial all 192 combinations, again across 8 folds."
      ]
    },
    {
      "cell_type": "code",
      "execution_count": null,
      "metadata": {
        "colab": {
          "background_save": true
        },
        "id": "4Uu45on0Gq3G"
      },
      "outputs": [],
      "source": [
        "refined_grid = {\n",
        "    'n_estimators': [100, 150],\n",
        "    'max_features': ['auto', 'sqrt'],\n",
        "    'max_depth': [120, 160, 240, 320],\n",
        "    'min_samples_leaf': [1, 2],\n",
        "    'min_samples_split': [2, 3, 4],\n",
        "    'bootstrap': [False]\n",
        "}"
      ]
    },
    {
      "cell_type": "code",
      "execution_count": null,
      "metadata": {
        "colab": {
          "background_save": true
        },
        "id": "GVPRTCpiHbVw"
      },
      "outputs": [],
      "source": [
        "refined_grid = rsCV(estimator = default_rf, param_distributions = refined_grid, cv = 8, n_iter=192, verbose = 2, n_jobs = -1)"
      ]
    },
    {
      "cell_type": "code",
      "execution_count": null,
      "metadata": {
        "colab": {
          "background_save": true
        },
        "id": "wB88CxQAyYIy",
        "outputId": "15926437-aed6-47ad-ca08-e3c31fbac447"
      },
      "outputs": [
        {
          "name": "stdout",
          "output_type": "stream",
          "text": [
            "Fitting 8 folds for each of 96 candidates, totalling 768 fits\n"
          ]
        },
        {
          "name": "stderr",
          "output_type": "stream",
          "text": [
            "/usr/local/lib/python3.7/dist-packages/sklearn/model_selection/_search.py:296: UserWarning: The total space of parameters 96 is smaller than n_iter=192. Running 96 iterations. For exhaustive searches, use GridSearchCV.\n",
            "  UserWarning,\n"
          ]
        },
        {
          "data": {
            "text/plain": [
              "{'n_estimators': 150,\n",
              " 'min_samples_split': 2,\n",
              " 'min_samples_leaf': 1,\n",
              " 'max_features': 'sqrt',\n",
              " 'max_depth': 240,\n",
              " 'bootstrap': False}"
            ]
          },
          "execution_count": 88,
          "metadata": {},
          "output_type": "execute_result"
        }
      ],
      "source": [
        "refined_grid.fit(X_train, y_train)\n",
        "refined_grid.best_params_"
      ]
    },
    {
      "cell_type": "code",
      "execution_count": null,
      "metadata": {
        "colab": {
          "background_save": true
        },
        "id": "UjSgy1mHJHDt",
        "outputId": "9e6069da-50c2-402c-93f3-80ee1cd3e71d"
      },
      "outputs": [
        {
          "name": "stdout",
          "output_type": "stream",
          "text": [
            "Accuracy: 100.0%\n",
            "Mean Absolute Error: AUD 0.0\n",
            "These results have been saved in a list\n"
          ]
        }
      ],
      "source": [
        "refined_grid_metrics =  evaluator(refined_grid, X_train, y_train)"
      ]
    },
    {
      "cell_type": "markdown",
      "metadata": {
        "id": "ircoxp4wCed3"
      },
      "source": [
        "This is certainly a staggering result, and the refinement offers a drastic improvement over the first tuning pass. Comparing the best parameters"
      ]
    },
    {
      "cell_type": "code",
      "execution_count": null,
      "metadata": {
        "colab": {
          "background_save": true
        },
        "id": "fDohKopVMiOY",
        "outputId": "e00e54bf-955a-4bd3-b1e4-057873578e0a"
      },
      "outputs": [
        {
          "data": {
            "text/plain": [
              "desc_leave            0.052052\n",
              "desc_collaborate      0.042866\n",
              "title_analyst         0.035644\n",
              "desc_scientist        0.031964\n",
              "desc_similar          0.020918\n",
              "                        ...   \n",
              "company_murdoch       0.000000\n",
              "title_graduate        0.000000\n",
              "company_rmit          0.000000\n",
              "company_department    0.000000\n",
              "company_university    0.000000\n",
              "Length: 309, dtype: float64"
            ]
          },
          "execution_count": 90,
          "metadata": {},
          "output_type": "execute_result"
        }
      ],
      "source": [
        "feature_importance = pd.Series(data = refined_grid.best_estimator_.feature_importances_, index = X_train.columns)\n",
        "feature_importance.sort_values(ascending = False)"
      ]
    },
    {
      "cell_type": "markdown",
      "metadata": {
        "id": "I5lwhvkJjA0Q"
      },
      "source": [
        "### Model Testing "
      ]
    },
    {
      "cell_type": "code",
      "execution_count": null,
      "metadata": {
        "colab": {
          "background_save": true
        },
        "id": "Ihu8O3yRjJuQ",
        "outputId": "8e478188-c936-47af-b0fc-b81f989b2fd5"
      },
      "outputs": [
        {
          "name": "stdout",
          "output_type": "stream",
          "text": [
            "Accuracy: 89.74%\n",
            "Mean Absolute Error: AUD 10427.12\n",
            "These results have been saved in a list\n"
          ]
        }
      ],
      "source": [
        "test_metrics = evaluator(refined_grid, X_test, y_test)"
      ]
    },
    {
      "cell_type": "markdown",
      "metadata": {
        "id": "7b1n0BsL51cV"
      },
      "source": [
        "## 4.1.3 A note on computation"
      ]
    },
    {
      "cell_type": "markdown",
      "metadata": {
        "id": "d0LCIC9g576l"
      },
      "source": [
        "During the proposal for this work, sources of GPU were discussed for the machine learning component. The decision to use a random forest regressor on sklearn eliminated the need for GPU, as it is programmed for CPU only."
      ]
    },
    {
      "cell_type": "markdown",
      "metadata": {
        "id": "Ucd3xnmP29CP"
      },
      "source": [
        "# 4.2 Evaluation"
      ]
    },
    {
      "cell_type": "code",
      "execution_count": null,
      "metadata": {
        "colab": {
          "background_save": true
        },
        "id": "VDJUlnYm27fb"
      },
      "outputs": [],
      "source": [
        ""
      ]
    }
  ],
  "metadata": {
    "colab": {
      "name": "MACHINE LEARNING",
      "provenance": [],
      "authorship_tag": "ABX9TyMXyrebn9pyExGr6cQxlWPN",
      "include_colab_link": true
    },
    "kernelspec": {
      "display_name": "Python 3",
      "name": "python3"
    },
    "language_info": {
      "name": "python"
    }
  },
  "nbformat": 4,
  "nbformat_minor": 0
}