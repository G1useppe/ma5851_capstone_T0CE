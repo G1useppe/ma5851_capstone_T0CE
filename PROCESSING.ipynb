{
  "nbformat": 4,
  "nbformat_minor": 0,
  "metadata": {
    "colab": {
      "name": "PROCESSING",
      "provenance": [],
      "collapsed_sections": [],
      "authorship_tag": "ABX9TyOrCKQ0Q6c0OsjZeylNqCUO",
      "include_colab_link": true
    },
    "kernelspec": {
      "name": "python3",
      "display_name": "Python 3"
    },
    "language_info": {
      "name": "python"
    }
  },
  "cells": [
    {
      "cell_type": "markdown",
      "metadata": {
        "id": "view-in-github",
        "colab_type": "text"
      },
      "source": [
        "<a href=\"https://colab.research.google.com/github/G1useppe/ma5851_capstone_T0CE/blob/main/PROCESSING.ipynb\" target=\"_parent\"><img src=\"https://colab.research.google.com/assets/colab-badge.svg\" alt=\"Open In Colab\"/></a>"
      ]
    },
    {
      "cell_type": "markdown",
      "source": [
        "# Environment Setup"
      ],
      "metadata": {
        "id": "Oa3INydRdsXn"
      }
    },
    {
      "cell_type": "code",
      "source": [
        "from google.colab import drive #mounting google drive to access webscraping output\n",
        "\n",
        "import pandas as pd #general \n",
        "import numpy as np\n",
        "\n",
        "import re #language processing\n",
        "import nltk\n",
        "nltk.download('stopwords')\n",
        "nltk.download('punkt')\n",
        "nltk.download('wordnet')\n",
        "nltk.download('omw-1.4')\n",
        "from nltk.stem import WordNetLemmatizer\n",
        "from nltk.corpus import stopwords\n",
        "from nltk.tokenize import word_tokenize\n",
        "from nltk.probability import FreqDist\n",
        "\n",
        "import matplotlib.pyplot as plt #visualization\n",
        "import seaborn as sns \n",
        "\n",
        "from sklearn.feature_extraction.text import TfidfVectorizer #feature extraction\n",
        "from sklearn.feature_extraction.text import CountVectorizer\n",
        "import scipy.sparse"
      ],
      "metadata": {
        "id": "nxif9u3M9zDx",
        "colab": {
          "base_uri": "https://localhost:8080/"
        },
        "outputId": "da38bec1-0cb5-4f1d-8289-0870421656f5"
      },
      "execution_count": 165,
      "outputs": [
        {
          "output_type": "stream",
          "name": "stderr",
          "text": [
            "[nltk_data] Downloading package stopwords to /root/nltk_data...\n",
            "[nltk_data]   Package stopwords is already up-to-date!\n",
            "[nltk_data] Downloading package punkt to /root/nltk_data...\n",
            "[nltk_data]   Package punkt is already up-to-date!\n",
            "[nltk_data] Downloading package wordnet to /root/nltk_data...\n",
            "[nltk_data]   Package wordnet is already up-to-date!\n",
            "[nltk_data] Downloading package omw-1.4 to /root/nltk_data...\n",
            "[nltk_data]   Package omw-1.4 is already up-to-date!\n"
          ]
        }
      ]
    },
    {
      "cell_type": "code",
      "execution_count": 166,
      "metadata": {
        "id": "62oDoTEsVrdw",
        "colab": {
          "base_uri": "https://localhost:8080/"
        },
        "outputId": "c2ccf694-2019-4ac2-d82f-4f5a86275dcc"
      },
      "outputs": [
        {
          "output_type": "stream",
          "name": "stdout",
          "text": [
            "Drive already mounted at /content/drive; to attempt to forcibly remount, call drive.mount(\"/content/drive\", force_remount=True).\n"
          ]
        }
      ],
      "source": [
        "drive.mount('/content/drive')"
      ]
    },
    {
      "cell_type": "markdown",
      "source": [
        "To begin the second part of our workflow, we will bring in the .xlsx file that we produced in our webscraping component."
      ],
      "metadata": {
        "id": "9Gq3wFl0mnKy"
      }
    },
    {
      "cell_type": "code",
      "execution_count": 167,
      "metadata": {
        "colab": {
          "base_uri": "https://localhost:8080/",
          "height": 206
        },
        "id": "IFVHnQobWtWN",
        "outputId": "92019258-a375-4bd5-b58d-626a1e255268"
      },
      "outputs": [
        {
          "output_type": "execute_result",
          "data": {
            "text/plain": [
              "   Unnamed: 0                  Company_City  \\\n",
              "0           0     Transurban\\nDocklands VIC   \n",
              "1           1   Suncorp Group\\nBrisbane QLD   \n",
              "2           2  UGL Limited\\nNorth Shore NSW   \n",
              "3           3  Alfred Health\\nMelbourne VIC   \n",
              "4           4   Deloitte\\nCanberra ACT 2609   \n",
              "\n",
              "                                           Job Title Salary  \\\n",
              "0                           Data Enablement Graduate    NaN   \n",
              "1         Suncorp 2023 Data Science Graduate Program    NaN   \n",
              "2  Data Science Graduate/Undergraduate - Immed St...    NaN   \n",
              "3             Graduate Research Laboratory Scientist    NaN   \n",
              "4  Consulting - Data & AI - 2022/23 Graduate Prog...    NaN   \n",
              "\n",
              "                                         Description  \n",
              "0  As one of the world's largest toll-road operat...  \n",
              "1  At Suncorp Group we work with care to create t...  \n",
              "2  Be part of the Award Winning CIMIC Graduate Pr...  \n",
              "3  Alfred Health\\n\\nAlfred Health is a leader in ...  \n",
              "4  Date: 16-Aug-2022\\n\\nLocation:\\nCanberra, ACT,...  "
            ],
            "text/html": [
              "\n",
              "  <div id=\"df-fd875930-5b03-4ab2-9437-5a0d06c7b5ae\">\n",
              "    <div class=\"colab-df-container\">\n",
              "      <div>\n",
              "<style scoped>\n",
              "    .dataframe tbody tr th:only-of-type {\n",
              "        vertical-align: middle;\n",
              "    }\n",
              "\n",
              "    .dataframe tbody tr th {\n",
              "        vertical-align: top;\n",
              "    }\n",
              "\n",
              "    .dataframe thead th {\n",
              "        text-align: right;\n",
              "    }\n",
              "</style>\n",
              "<table border=\"1\" class=\"dataframe\">\n",
              "  <thead>\n",
              "    <tr style=\"text-align: right;\">\n",
              "      <th></th>\n",
              "      <th>Unnamed: 0</th>\n",
              "      <th>Company_City</th>\n",
              "      <th>Job Title</th>\n",
              "      <th>Salary</th>\n",
              "      <th>Description</th>\n",
              "    </tr>\n",
              "  </thead>\n",
              "  <tbody>\n",
              "    <tr>\n",
              "      <th>0</th>\n",
              "      <td>0</td>\n",
              "      <td>Transurban\\nDocklands VIC</td>\n",
              "      <td>Data Enablement Graduate</td>\n",
              "      <td>NaN</td>\n",
              "      <td>As one of the world's largest toll-road operat...</td>\n",
              "    </tr>\n",
              "    <tr>\n",
              "      <th>1</th>\n",
              "      <td>1</td>\n",
              "      <td>Suncorp Group\\nBrisbane QLD</td>\n",
              "      <td>Suncorp 2023 Data Science Graduate Program</td>\n",
              "      <td>NaN</td>\n",
              "      <td>At Suncorp Group we work with care to create t...</td>\n",
              "    </tr>\n",
              "    <tr>\n",
              "      <th>2</th>\n",
              "      <td>2</td>\n",
              "      <td>UGL Limited\\nNorth Shore NSW</td>\n",
              "      <td>Data Science Graduate/Undergraduate - Immed St...</td>\n",
              "      <td>NaN</td>\n",
              "      <td>Be part of the Award Winning CIMIC Graduate Pr...</td>\n",
              "    </tr>\n",
              "    <tr>\n",
              "      <th>3</th>\n",
              "      <td>3</td>\n",
              "      <td>Alfred Health\\nMelbourne VIC</td>\n",
              "      <td>Graduate Research Laboratory Scientist</td>\n",
              "      <td>NaN</td>\n",
              "      <td>Alfred Health\\n\\nAlfred Health is a leader in ...</td>\n",
              "    </tr>\n",
              "    <tr>\n",
              "      <th>4</th>\n",
              "      <td>4</td>\n",
              "      <td>Deloitte\\nCanberra ACT 2609</td>\n",
              "      <td>Consulting - Data &amp; AI - 2022/23 Graduate Prog...</td>\n",
              "      <td>NaN</td>\n",
              "      <td>Date: 16-Aug-2022\\n\\nLocation:\\nCanberra, ACT,...</td>\n",
              "    </tr>\n",
              "  </tbody>\n",
              "</table>\n",
              "</div>\n",
              "      <button class=\"colab-df-convert\" onclick=\"convertToInteractive('df-fd875930-5b03-4ab2-9437-5a0d06c7b5ae')\"\n",
              "              title=\"Convert this dataframe to an interactive table.\"\n",
              "              style=\"display:none;\">\n",
              "        \n",
              "  <svg xmlns=\"http://www.w3.org/2000/svg\" height=\"24px\"viewBox=\"0 0 24 24\"\n",
              "       width=\"24px\">\n",
              "    <path d=\"M0 0h24v24H0V0z\" fill=\"none\"/>\n",
              "    <path d=\"M18.56 5.44l.94 2.06.94-2.06 2.06-.94-2.06-.94-.94-2.06-.94 2.06-2.06.94zm-11 1L8.5 8.5l.94-2.06 2.06-.94-2.06-.94L8.5 2.5l-.94 2.06-2.06.94zm10 10l.94 2.06.94-2.06 2.06-.94-2.06-.94-.94-2.06-.94 2.06-2.06.94z\"/><path d=\"M17.41 7.96l-1.37-1.37c-.4-.4-.92-.59-1.43-.59-.52 0-1.04.2-1.43.59L10.3 9.45l-7.72 7.72c-.78.78-.78 2.05 0 2.83L4 21.41c.39.39.9.59 1.41.59.51 0 1.02-.2 1.41-.59l7.78-7.78 2.81-2.81c.8-.78.8-2.07 0-2.86zM5.41 20L4 18.59l7.72-7.72 1.47 1.35L5.41 20z\"/>\n",
              "  </svg>\n",
              "      </button>\n",
              "      \n",
              "  <style>\n",
              "    .colab-df-container {\n",
              "      display:flex;\n",
              "      flex-wrap:wrap;\n",
              "      gap: 12px;\n",
              "    }\n",
              "\n",
              "    .colab-df-convert {\n",
              "      background-color: #E8F0FE;\n",
              "      border: none;\n",
              "      border-radius: 50%;\n",
              "      cursor: pointer;\n",
              "      display: none;\n",
              "      fill: #1967D2;\n",
              "      height: 32px;\n",
              "      padding: 0 0 0 0;\n",
              "      width: 32px;\n",
              "    }\n",
              "\n",
              "    .colab-df-convert:hover {\n",
              "      background-color: #E2EBFA;\n",
              "      box-shadow: 0px 1px 2px rgba(60, 64, 67, 0.3), 0px 1px 3px 1px rgba(60, 64, 67, 0.15);\n",
              "      fill: #174EA6;\n",
              "    }\n",
              "\n",
              "    [theme=dark] .colab-df-convert {\n",
              "      background-color: #3B4455;\n",
              "      fill: #D2E3FC;\n",
              "    }\n",
              "\n",
              "    [theme=dark] .colab-df-convert:hover {\n",
              "      background-color: #434B5C;\n",
              "      box-shadow: 0px 1px 3px 1px rgba(0, 0, 0, 0.15);\n",
              "      filter: drop-shadow(0px 1px 2px rgba(0, 0, 0, 0.3));\n",
              "      fill: #FFFFFF;\n",
              "    }\n",
              "  </style>\n",
              "\n",
              "      <script>\n",
              "        const buttonEl =\n",
              "          document.querySelector('#df-fd875930-5b03-4ab2-9437-5a0d06c7b5ae button.colab-df-convert');\n",
              "        buttonEl.style.display =\n",
              "          google.colab.kernel.accessAllowed ? 'block' : 'none';\n",
              "\n",
              "        async function convertToInteractive(key) {\n",
              "          const element = document.querySelector('#df-fd875930-5b03-4ab2-9437-5a0d06c7b5ae');\n",
              "          const dataTable =\n",
              "            await google.colab.kernel.invokeFunction('convertToInteractive',\n",
              "                                                     [key], {});\n",
              "          if (!dataTable) return;\n",
              "\n",
              "          const docLinkHtml = 'Like what you see? Visit the ' +\n",
              "            '<a target=\"_blank\" href=https://colab.research.google.com/notebooks/data_table.ipynb>data table notebook</a>'\n",
              "            + ' to learn more about interactive tables.';\n",
              "          element.innerHTML = '';\n",
              "          dataTable['output_type'] = 'display_data';\n",
              "          await google.colab.output.renderOutput(dataTable, element);\n",
              "          const docLink = document.createElement('div');\n",
              "          docLink.innerHTML = docLinkHtml;\n",
              "          element.appendChild(docLink);\n",
              "        }\n",
              "      </script>\n",
              "    </div>\n",
              "  </div>\n",
              "  "
            ]
          },
          "metadata": {},
          "execution_count": 167
        }
      ],
      "source": [
        "path = '/content/drive/MyDrive/str_data.xlsx'\n",
        "str_data = pd.read_excel(path, na_values = 'NaN')\n",
        "str_data.head()"
      ]
    },
    {
      "cell_type": "markdown",
      "source": [
        "# Data Wrangling"
      ],
      "metadata": {
        "id": "CLaZWi73dMfZ"
      }
    },
    {
      "cell_type": "markdown",
      "source": [
        "This data is really dirty and the subsequent code blocks will clean the raw data that we scraped from Indeed into meaningful data that we can pass to our machine learning model. The first task is to parse the combined Company_City field into three separate fields, Company, City and State."
      ],
      "metadata": {
        "id": "b_dH2zXCsPhk"
      }
    },
    {
      "cell_type": "markdown",
      "source": [
        "Using the str.split method on with the \"\\n\" string as a separator we can parse this string into more useful parts."
      ],
      "metadata": {
        "id": "JtX-ZmbRsyPz"
      }
    },
    {
      "cell_type": "code",
      "source": [
        "company_city = str_data['Company_City'].str.split(pat = \"\\n\", expand = True)\n",
        "company_city.head()"
      ],
      "metadata": {
        "colab": {
          "base_uri": "https://localhost:8080/",
          "height": 206
        },
        "id": "wyu7HO41CjyP",
        "outputId": "ee61f799-0aec-4389-8f93-451f7750dfa0"
      },
      "execution_count": 168,
      "outputs": [
        {
          "output_type": "execute_result",
          "data": {
            "text/plain": [
              "               0                  1     2\n",
              "0     Transurban      Docklands VIC  None\n",
              "1  Suncorp Group       Brisbane QLD  None\n",
              "2    UGL Limited    North Shore NSW  None\n",
              "3  Alfred Health      Melbourne VIC  None\n",
              "4       Deloitte  Canberra ACT 2609  None"
            ],
            "text/html": [
              "\n",
              "  <div id=\"df-dcfd5bb3-b714-46ad-9150-bd6ea96176ae\">\n",
              "    <div class=\"colab-df-container\">\n",
              "      <div>\n",
              "<style scoped>\n",
              "    .dataframe tbody tr th:only-of-type {\n",
              "        vertical-align: middle;\n",
              "    }\n",
              "\n",
              "    .dataframe tbody tr th {\n",
              "        vertical-align: top;\n",
              "    }\n",
              "\n",
              "    .dataframe thead th {\n",
              "        text-align: right;\n",
              "    }\n",
              "</style>\n",
              "<table border=\"1\" class=\"dataframe\">\n",
              "  <thead>\n",
              "    <tr style=\"text-align: right;\">\n",
              "      <th></th>\n",
              "      <th>0</th>\n",
              "      <th>1</th>\n",
              "      <th>2</th>\n",
              "    </tr>\n",
              "  </thead>\n",
              "  <tbody>\n",
              "    <tr>\n",
              "      <th>0</th>\n",
              "      <td>Transurban</td>\n",
              "      <td>Docklands VIC</td>\n",
              "      <td>None</td>\n",
              "    </tr>\n",
              "    <tr>\n",
              "      <th>1</th>\n",
              "      <td>Suncorp Group</td>\n",
              "      <td>Brisbane QLD</td>\n",
              "      <td>None</td>\n",
              "    </tr>\n",
              "    <tr>\n",
              "      <th>2</th>\n",
              "      <td>UGL Limited</td>\n",
              "      <td>North Shore NSW</td>\n",
              "      <td>None</td>\n",
              "    </tr>\n",
              "    <tr>\n",
              "      <th>3</th>\n",
              "      <td>Alfred Health</td>\n",
              "      <td>Melbourne VIC</td>\n",
              "      <td>None</td>\n",
              "    </tr>\n",
              "    <tr>\n",
              "      <th>4</th>\n",
              "      <td>Deloitte</td>\n",
              "      <td>Canberra ACT 2609</td>\n",
              "      <td>None</td>\n",
              "    </tr>\n",
              "  </tbody>\n",
              "</table>\n",
              "</div>\n",
              "      <button class=\"colab-df-convert\" onclick=\"convertToInteractive('df-dcfd5bb3-b714-46ad-9150-bd6ea96176ae')\"\n",
              "              title=\"Convert this dataframe to an interactive table.\"\n",
              "              style=\"display:none;\">\n",
              "        \n",
              "  <svg xmlns=\"http://www.w3.org/2000/svg\" height=\"24px\"viewBox=\"0 0 24 24\"\n",
              "       width=\"24px\">\n",
              "    <path d=\"M0 0h24v24H0V0z\" fill=\"none\"/>\n",
              "    <path d=\"M18.56 5.44l.94 2.06.94-2.06 2.06-.94-2.06-.94-.94-2.06-.94 2.06-2.06.94zm-11 1L8.5 8.5l.94-2.06 2.06-.94-2.06-.94L8.5 2.5l-.94 2.06-2.06.94zm10 10l.94 2.06.94-2.06 2.06-.94-2.06-.94-.94-2.06-.94 2.06-2.06.94z\"/><path d=\"M17.41 7.96l-1.37-1.37c-.4-.4-.92-.59-1.43-.59-.52 0-1.04.2-1.43.59L10.3 9.45l-7.72 7.72c-.78.78-.78 2.05 0 2.83L4 21.41c.39.39.9.59 1.41.59.51 0 1.02-.2 1.41-.59l7.78-7.78 2.81-2.81c.8-.78.8-2.07 0-2.86zM5.41 20L4 18.59l7.72-7.72 1.47 1.35L5.41 20z\"/>\n",
              "  </svg>\n",
              "      </button>\n",
              "      \n",
              "  <style>\n",
              "    .colab-df-container {\n",
              "      display:flex;\n",
              "      flex-wrap:wrap;\n",
              "      gap: 12px;\n",
              "    }\n",
              "\n",
              "    .colab-df-convert {\n",
              "      background-color: #E8F0FE;\n",
              "      border: none;\n",
              "      border-radius: 50%;\n",
              "      cursor: pointer;\n",
              "      display: none;\n",
              "      fill: #1967D2;\n",
              "      height: 32px;\n",
              "      padding: 0 0 0 0;\n",
              "      width: 32px;\n",
              "    }\n",
              "\n",
              "    .colab-df-convert:hover {\n",
              "      background-color: #E2EBFA;\n",
              "      box-shadow: 0px 1px 2px rgba(60, 64, 67, 0.3), 0px 1px 3px 1px rgba(60, 64, 67, 0.15);\n",
              "      fill: #174EA6;\n",
              "    }\n",
              "\n",
              "    [theme=dark] .colab-df-convert {\n",
              "      background-color: #3B4455;\n",
              "      fill: #D2E3FC;\n",
              "    }\n",
              "\n",
              "    [theme=dark] .colab-df-convert:hover {\n",
              "      background-color: #434B5C;\n",
              "      box-shadow: 0px 1px 3px 1px rgba(0, 0, 0, 0.15);\n",
              "      filter: drop-shadow(0px 1px 2px rgba(0, 0, 0, 0.3));\n",
              "      fill: #FFFFFF;\n",
              "    }\n",
              "  </style>\n",
              "\n",
              "      <script>\n",
              "        const buttonEl =\n",
              "          document.querySelector('#df-dcfd5bb3-b714-46ad-9150-bd6ea96176ae button.colab-df-convert');\n",
              "        buttonEl.style.display =\n",
              "          google.colab.kernel.accessAllowed ? 'block' : 'none';\n",
              "\n",
              "        async function convertToInteractive(key) {\n",
              "          const element = document.querySelector('#df-dcfd5bb3-b714-46ad-9150-bd6ea96176ae');\n",
              "          const dataTable =\n",
              "            await google.colab.kernel.invokeFunction('convertToInteractive',\n",
              "                                                     [key], {});\n",
              "          if (!dataTable) return;\n",
              "\n",
              "          const docLinkHtml = 'Like what you see? Visit the ' +\n",
              "            '<a target=\"_blank\" href=https://colab.research.google.com/notebooks/data_table.ipynb>data table notebook</a>'\n",
              "            + ' to learn more about interactive tables.';\n",
              "          element.innerHTML = '';\n",
              "          dataTable['output_type'] = 'display_data';\n",
              "          await google.colab.output.renderOutput(dataTable, element);\n",
              "          const docLink = document.createElement('div');\n",
              "          docLink.innerHTML = docLinkHtml;\n",
              "          element.appendChild(docLink);\n",
              "        }\n",
              "      </script>\n",
              "    </div>\n",
              "  </div>\n",
              "  "
            ]
          },
          "metadata": {},
          "execution_count": 168
        }
      ]
    },
    {
      "cell_type": "markdown",
      "source": [
        "We append the series to the data frame, and subsequently drop the components we no longer need."
      ],
      "metadata": {
        "id": "8tDMwgnwtJ5P"
      }
    },
    {
      "cell_type": "code",
      "source": [
        "str_data[[\"Company\", \"City\", \"Drop\"]] = company_city\n",
        "str_data.head()"
      ],
      "metadata": {
        "colab": {
          "base_uri": "https://localhost:8080/",
          "height": 354
        },
        "id": "2OVXoCIWDCex",
        "outputId": "95881d61-2d29-49d5-f318-e419239e4c92"
      },
      "execution_count": 169,
      "outputs": [
        {
          "output_type": "execute_result",
          "data": {
            "text/plain": [
              "   Unnamed: 0                  Company_City  \\\n",
              "0           0     Transurban\\nDocklands VIC   \n",
              "1           1   Suncorp Group\\nBrisbane QLD   \n",
              "2           2  UGL Limited\\nNorth Shore NSW   \n",
              "3           3  Alfred Health\\nMelbourne VIC   \n",
              "4           4   Deloitte\\nCanberra ACT 2609   \n",
              "\n",
              "                                           Job Title Salary  \\\n",
              "0                           Data Enablement Graduate    NaN   \n",
              "1         Suncorp 2023 Data Science Graduate Program    NaN   \n",
              "2  Data Science Graduate/Undergraduate - Immed St...    NaN   \n",
              "3             Graduate Research Laboratory Scientist    NaN   \n",
              "4  Consulting - Data & AI - 2022/23 Graduate Prog...    NaN   \n",
              "\n",
              "                                         Description        Company  \\\n",
              "0  As one of the world's largest toll-road operat...     Transurban   \n",
              "1  At Suncorp Group we work with care to create t...  Suncorp Group   \n",
              "2  Be part of the Award Winning CIMIC Graduate Pr...    UGL Limited   \n",
              "3  Alfred Health\\n\\nAlfred Health is a leader in ...  Alfred Health   \n",
              "4  Date: 16-Aug-2022\\n\\nLocation:\\nCanberra, ACT,...       Deloitte   \n",
              "\n",
              "                City  Drop  \n",
              "0      Docklands VIC  None  \n",
              "1       Brisbane QLD  None  \n",
              "2    North Shore NSW  None  \n",
              "3      Melbourne VIC  None  \n",
              "4  Canberra ACT 2609  None  "
            ],
            "text/html": [
              "\n",
              "  <div id=\"df-c35fa9aa-29d7-4b32-854c-53c96f534e74\">\n",
              "    <div class=\"colab-df-container\">\n",
              "      <div>\n",
              "<style scoped>\n",
              "    .dataframe tbody tr th:only-of-type {\n",
              "        vertical-align: middle;\n",
              "    }\n",
              "\n",
              "    .dataframe tbody tr th {\n",
              "        vertical-align: top;\n",
              "    }\n",
              "\n",
              "    .dataframe thead th {\n",
              "        text-align: right;\n",
              "    }\n",
              "</style>\n",
              "<table border=\"1\" class=\"dataframe\">\n",
              "  <thead>\n",
              "    <tr style=\"text-align: right;\">\n",
              "      <th></th>\n",
              "      <th>Unnamed: 0</th>\n",
              "      <th>Company_City</th>\n",
              "      <th>Job Title</th>\n",
              "      <th>Salary</th>\n",
              "      <th>Description</th>\n",
              "      <th>Company</th>\n",
              "      <th>City</th>\n",
              "      <th>Drop</th>\n",
              "    </tr>\n",
              "  </thead>\n",
              "  <tbody>\n",
              "    <tr>\n",
              "      <th>0</th>\n",
              "      <td>0</td>\n",
              "      <td>Transurban\\nDocklands VIC</td>\n",
              "      <td>Data Enablement Graduate</td>\n",
              "      <td>NaN</td>\n",
              "      <td>As one of the world's largest toll-road operat...</td>\n",
              "      <td>Transurban</td>\n",
              "      <td>Docklands VIC</td>\n",
              "      <td>None</td>\n",
              "    </tr>\n",
              "    <tr>\n",
              "      <th>1</th>\n",
              "      <td>1</td>\n",
              "      <td>Suncorp Group\\nBrisbane QLD</td>\n",
              "      <td>Suncorp 2023 Data Science Graduate Program</td>\n",
              "      <td>NaN</td>\n",
              "      <td>At Suncorp Group we work with care to create t...</td>\n",
              "      <td>Suncorp Group</td>\n",
              "      <td>Brisbane QLD</td>\n",
              "      <td>None</td>\n",
              "    </tr>\n",
              "    <tr>\n",
              "      <th>2</th>\n",
              "      <td>2</td>\n",
              "      <td>UGL Limited\\nNorth Shore NSW</td>\n",
              "      <td>Data Science Graduate/Undergraduate - Immed St...</td>\n",
              "      <td>NaN</td>\n",
              "      <td>Be part of the Award Winning CIMIC Graduate Pr...</td>\n",
              "      <td>UGL Limited</td>\n",
              "      <td>North Shore NSW</td>\n",
              "      <td>None</td>\n",
              "    </tr>\n",
              "    <tr>\n",
              "      <th>3</th>\n",
              "      <td>3</td>\n",
              "      <td>Alfred Health\\nMelbourne VIC</td>\n",
              "      <td>Graduate Research Laboratory Scientist</td>\n",
              "      <td>NaN</td>\n",
              "      <td>Alfred Health\\n\\nAlfred Health is a leader in ...</td>\n",
              "      <td>Alfred Health</td>\n",
              "      <td>Melbourne VIC</td>\n",
              "      <td>None</td>\n",
              "    </tr>\n",
              "    <tr>\n",
              "      <th>4</th>\n",
              "      <td>4</td>\n",
              "      <td>Deloitte\\nCanberra ACT 2609</td>\n",
              "      <td>Consulting - Data &amp; AI - 2022/23 Graduate Prog...</td>\n",
              "      <td>NaN</td>\n",
              "      <td>Date: 16-Aug-2022\\n\\nLocation:\\nCanberra, ACT,...</td>\n",
              "      <td>Deloitte</td>\n",
              "      <td>Canberra ACT 2609</td>\n",
              "      <td>None</td>\n",
              "    </tr>\n",
              "  </tbody>\n",
              "</table>\n",
              "</div>\n",
              "      <button class=\"colab-df-convert\" onclick=\"convertToInteractive('df-c35fa9aa-29d7-4b32-854c-53c96f534e74')\"\n",
              "              title=\"Convert this dataframe to an interactive table.\"\n",
              "              style=\"display:none;\">\n",
              "        \n",
              "  <svg xmlns=\"http://www.w3.org/2000/svg\" height=\"24px\"viewBox=\"0 0 24 24\"\n",
              "       width=\"24px\">\n",
              "    <path d=\"M0 0h24v24H0V0z\" fill=\"none\"/>\n",
              "    <path d=\"M18.56 5.44l.94 2.06.94-2.06 2.06-.94-2.06-.94-.94-2.06-.94 2.06-2.06.94zm-11 1L8.5 8.5l.94-2.06 2.06-.94-2.06-.94L8.5 2.5l-.94 2.06-2.06.94zm10 10l.94 2.06.94-2.06 2.06-.94-2.06-.94-.94-2.06-.94 2.06-2.06.94z\"/><path d=\"M17.41 7.96l-1.37-1.37c-.4-.4-.92-.59-1.43-.59-.52 0-1.04.2-1.43.59L10.3 9.45l-7.72 7.72c-.78.78-.78 2.05 0 2.83L4 21.41c.39.39.9.59 1.41.59.51 0 1.02-.2 1.41-.59l7.78-7.78 2.81-2.81c.8-.78.8-2.07 0-2.86zM5.41 20L4 18.59l7.72-7.72 1.47 1.35L5.41 20z\"/>\n",
              "  </svg>\n",
              "      </button>\n",
              "      \n",
              "  <style>\n",
              "    .colab-df-container {\n",
              "      display:flex;\n",
              "      flex-wrap:wrap;\n",
              "      gap: 12px;\n",
              "    }\n",
              "\n",
              "    .colab-df-convert {\n",
              "      background-color: #E8F0FE;\n",
              "      border: none;\n",
              "      border-radius: 50%;\n",
              "      cursor: pointer;\n",
              "      display: none;\n",
              "      fill: #1967D2;\n",
              "      height: 32px;\n",
              "      padding: 0 0 0 0;\n",
              "      width: 32px;\n",
              "    }\n",
              "\n",
              "    .colab-df-convert:hover {\n",
              "      background-color: #E2EBFA;\n",
              "      box-shadow: 0px 1px 2px rgba(60, 64, 67, 0.3), 0px 1px 3px 1px rgba(60, 64, 67, 0.15);\n",
              "      fill: #174EA6;\n",
              "    }\n",
              "\n",
              "    [theme=dark] .colab-df-convert {\n",
              "      background-color: #3B4455;\n",
              "      fill: #D2E3FC;\n",
              "    }\n",
              "\n",
              "    [theme=dark] .colab-df-convert:hover {\n",
              "      background-color: #434B5C;\n",
              "      box-shadow: 0px 1px 3px 1px rgba(0, 0, 0, 0.15);\n",
              "      filter: drop-shadow(0px 1px 2px rgba(0, 0, 0, 0.3));\n",
              "      fill: #FFFFFF;\n",
              "    }\n",
              "  </style>\n",
              "\n",
              "      <script>\n",
              "        const buttonEl =\n",
              "          document.querySelector('#df-c35fa9aa-29d7-4b32-854c-53c96f534e74 button.colab-df-convert');\n",
              "        buttonEl.style.display =\n",
              "          google.colab.kernel.accessAllowed ? 'block' : 'none';\n",
              "\n",
              "        async function convertToInteractive(key) {\n",
              "          const element = document.querySelector('#df-c35fa9aa-29d7-4b32-854c-53c96f534e74');\n",
              "          const dataTable =\n",
              "            await google.colab.kernel.invokeFunction('convertToInteractive',\n",
              "                                                     [key], {});\n",
              "          if (!dataTable) return;\n",
              "\n",
              "          const docLinkHtml = 'Like what you see? Visit the ' +\n",
              "            '<a target=\"_blank\" href=https://colab.research.google.com/notebooks/data_table.ipynb>data table notebook</a>'\n",
              "            + ' to learn more about interactive tables.';\n",
              "          element.innerHTML = '';\n",
              "          dataTable['output_type'] = 'display_data';\n",
              "          await google.colab.output.renderOutput(dataTable, element);\n",
              "          const docLink = document.createElement('div');\n",
              "          docLink.innerHTML = docLinkHtml;\n",
              "          element.appendChild(docLink);\n",
              "        }\n",
              "      </script>\n",
              "    </div>\n",
              "  </div>\n",
              "  "
            ]
          },
          "metadata": {},
          "execution_count": 169
        }
      ]
    },
    {
      "cell_type": "code",
      "source": [
        "str_data = str_data.drop(['Unnamed: 0', 'Company_City', 'Drop'], axis = 1)\n",
        "str_data.head()"
      ],
      "metadata": {
        "colab": {
          "base_uri": "https://localhost:8080/",
          "height": 206
        },
        "id": "MdjyPhRp-jVp",
        "outputId": "b77904b3-c4f5-4e55-a7ba-b9f6af72f569"
      },
      "execution_count": 170,
      "outputs": [
        {
          "output_type": "execute_result",
          "data": {
            "text/plain": [
              "                                           Job Title Salary  \\\n",
              "0                           Data Enablement Graduate    NaN   \n",
              "1         Suncorp 2023 Data Science Graduate Program    NaN   \n",
              "2  Data Science Graduate/Undergraduate - Immed St...    NaN   \n",
              "3             Graduate Research Laboratory Scientist    NaN   \n",
              "4  Consulting - Data & AI - 2022/23 Graduate Prog...    NaN   \n",
              "\n",
              "                                         Description        Company  \\\n",
              "0  As one of the world's largest toll-road operat...     Transurban   \n",
              "1  At Suncorp Group we work with care to create t...  Suncorp Group   \n",
              "2  Be part of the Award Winning CIMIC Graduate Pr...    UGL Limited   \n",
              "3  Alfred Health\\n\\nAlfred Health is a leader in ...  Alfred Health   \n",
              "4  Date: 16-Aug-2022\\n\\nLocation:\\nCanberra, ACT,...       Deloitte   \n",
              "\n",
              "                City  \n",
              "0      Docklands VIC  \n",
              "1       Brisbane QLD  \n",
              "2    North Shore NSW  \n",
              "3      Melbourne VIC  \n",
              "4  Canberra ACT 2609  "
            ],
            "text/html": [
              "\n",
              "  <div id=\"df-61040873-f0ff-4f47-b886-3ec778bcdb1f\">\n",
              "    <div class=\"colab-df-container\">\n",
              "      <div>\n",
              "<style scoped>\n",
              "    .dataframe tbody tr th:only-of-type {\n",
              "        vertical-align: middle;\n",
              "    }\n",
              "\n",
              "    .dataframe tbody tr th {\n",
              "        vertical-align: top;\n",
              "    }\n",
              "\n",
              "    .dataframe thead th {\n",
              "        text-align: right;\n",
              "    }\n",
              "</style>\n",
              "<table border=\"1\" class=\"dataframe\">\n",
              "  <thead>\n",
              "    <tr style=\"text-align: right;\">\n",
              "      <th></th>\n",
              "      <th>Job Title</th>\n",
              "      <th>Salary</th>\n",
              "      <th>Description</th>\n",
              "      <th>Company</th>\n",
              "      <th>City</th>\n",
              "    </tr>\n",
              "  </thead>\n",
              "  <tbody>\n",
              "    <tr>\n",
              "      <th>0</th>\n",
              "      <td>Data Enablement Graduate</td>\n",
              "      <td>NaN</td>\n",
              "      <td>As one of the world's largest toll-road operat...</td>\n",
              "      <td>Transurban</td>\n",
              "      <td>Docklands VIC</td>\n",
              "    </tr>\n",
              "    <tr>\n",
              "      <th>1</th>\n",
              "      <td>Suncorp 2023 Data Science Graduate Program</td>\n",
              "      <td>NaN</td>\n",
              "      <td>At Suncorp Group we work with care to create t...</td>\n",
              "      <td>Suncorp Group</td>\n",
              "      <td>Brisbane QLD</td>\n",
              "    </tr>\n",
              "    <tr>\n",
              "      <th>2</th>\n",
              "      <td>Data Science Graduate/Undergraduate - Immed St...</td>\n",
              "      <td>NaN</td>\n",
              "      <td>Be part of the Award Winning CIMIC Graduate Pr...</td>\n",
              "      <td>UGL Limited</td>\n",
              "      <td>North Shore NSW</td>\n",
              "    </tr>\n",
              "    <tr>\n",
              "      <th>3</th>\n",
              "      <td>Graduate Research Laboratory Scientist</td>\n",
              "      <td>NaN</td>\n",
              "      <td>Alfred Health\\n\\nAlfred Health is a leader in ...</td>\n",
              "      <td>Alfred Health</td>\n",
              "      <td>Melbourne VIC</td>\n",
              "    </tr>\n",
              "    <tr>\n",
              "      <th>4</th>\n",
              "      <td>Consulting - Data &amp; AI - 2022/23 Graduate Prog...</td>\n",
              "      <td>NaN</td>\n",
              "      <td>Date: 16-Aug-2022\\n\\nLocation:\\nCanberra, ACT,...</td>\n",
              "      <td>Deloitte</td>\n",
              "      <td>Canberra ACT 2609</td>\n",
              "    </tr>\n",
              "  </tbody>\n",
              "</table>\n",
              "</div>\n",
              "      <button class=\"colab-df-convert\" onclick=\"convertToInteractive('df-61040873-f0ff-4f47-b886-3ec778bcdb1f')\"\n",
              "              title=\"Convert this dataframe to an interactive table.\"\n",
              "              style=\"display:none;\">\n",
              "        \n",
              "  <svg xmlns=\"http://www.w3.org/2000/svg\" height=\"24px\"viewBox=\"0 0 24 24\"\n",
              "       width=\"24px\">\n",
              "    <path d=\"M0 0h24v24H0V0z\" fill=\"none\"/>\n",
              "    <path d=\"M18.56 5.44l.94 2.06.94-2.06 2.06-.94-2.06-.94-.94-2.06-.94 2.06-2.06.94zm-11 1L8.5 8.5l.94-2.06 2.06-.94-2.06-.94L8.5 2.5l-.94 2.06-2.06.94zm10 10l.94 2.06.94-2.06 2.06-.94-2.06-.94-.94-2.06-.94 2.06-2.06.94z\"/><path d=\"M17.41 7.96l-1.37-1.37c-.4-.4-.92-.59-1.43-.59-.52 0-1.04.2-1.43.59L10.3 9.45l-7.72 7.72c-.78.78-.78 2.05 0 2.83L4 21.41c.39.39.9.59 1.41.59.51 0 1.02-.2 1.41-.59l7.78-7.78 2.81-2.81c.8-.78.8-2.07 0-2.86zM5.41 20L4 18.59l7.72-7.72 1.47 1.35L5.41 20z\"/>\n",
              "  </svg>\n",
              "      </button>\n",
              "      \n",
              "  <style>\n",
              "    .colab-df-container {\n",
              "      display:flex;\n",
              "      flex-wrap:wrap;\n",
              "      gap: 12px;\n",
              "    }\n",
              "\n",
              "    .colab-df-convert {\n",
              "      background-color: #E8F0FE;\n",
              "      border: none;\n",
              "      border-radius: 50%;\n",
              "      cursor: pointer;\n",
              "      display: none;\n",
              "      fill: #1967D2;\n",
              "      height: 32px;\n",
              "      padding: 0 0 0 0;\n",
              "      width: 32px;\n",
              "    }\n",
              "\n",
              "    .colab-df-convert:hover {\n",
              "      background-color: #E2EBFA;\n",
              "      box-shadow: 0px 1px 2px rgba(60, 64, 67, 0.3), 0px 1px 3px 1px rgba(60, 64, 67, 0.15);\n",
              "      fill: #174EA6;\n",
              "    }\n",
              "\n",
              "    [theme=dark] .colab-df-convert {\n",
              "      background-color: #3B4455;\n",
              "      fill: #D2E3FC;\n",
              "    }\n",
              "\n",
              "    [theme=dark] .colab-df-convert:hover {\n",
              "      background-color: #434B5C;\n",
              "      box-shadow: 0px 1px 3px 1px rgba(0, 0, 0, 0.15);\n",
              "      filter: drop-shadow(0px 1px 2px rgba(0, 0, 0, 0.3));\n",
              "      fill: #FFFFFF;\n",
              "    }\n",
              "  </style>\n",
              "\n",
              "      <script>\n",
              "        const buttonEl =\n",
              "          document.querySelector('#df-61040873-f0ff-4f47-b886-3ec778bcdb1f button.colab-df-convert');\n",
              "        buttonEl.style.display =\n",
              "          google.colab.kernel.accessAllowed ? 'block' : 'none';\n",
              "\n",
              "        async function convertToInteractive(key) {\n",
              "          const element = document.querySelector('#df-61040873-f0ff-4f47-b886-3ec778bcdb1f');\n",
              "          const dataTable =\n",
              "            await google.colab.kernel.invokeFunction('convertToInteractive',\n",
              "                                                     [key], {});\n",
              "          if (!dataTable) return;\n",
              "\n",
              "          const docLinkHtml = 'Like what you see? Visit the ' +\n",
              "            '<a target=\"_blank\" href=https://colab.research.google.com/notebooks/data_table.ipynb>data table notebook</a>'\n",
              "            + ' to learn more about interactive tables.';\n",
              "          element.innerHTML = '';\n",
              "          dataTable['output_type'] = 'display_data';\n",
              "          await google.colab.output.renderOutput(dataTable, element);\n",
              "          const docLink = document.createElement('div');\n",
              "          docLink.innerHTML = docLinkHtml;\n",
              "          element.appendChild(docLink);\n",
              "        }\n",
              "      </script>\n",
              "    </div>\n",
              "  </div>\n",
              "  "
            ]
          },
          "metadata": {},
          "execution_count": 170
        }
      ]
    },
    {
      "cell_type": "markdown",
      "source": [
        "To see the different kinds of cases we will need to clean for our new City variable, we can pass unique() through the column to get a glimpse of the different ways in which this field is entered. "
      ],
      "metadata": {
        "id": "dlXWTZRpyuOx"
      }
    },
    {
      "cell_type": "code",
      "source": [
        "str_data.City.unique()"
      ],
      "metadata": {
        "colab": {
          "base_uri": "https://localhost:8080/"
        },
        "id": "46zjveFCr95Z",
        "outputId": "2ce254db-84cc-4239-bc64-99af3eefc46b"
      },
      "execution_count": 171,
      "outputs": [
        {
          "output_type": "execute_result",
          "data": {
            "text/plain": [
              "array(['Docklands VIC', 'Brisbane QLD', 'North Shore NSW',\n",
              "       'Melbourne VIC', 'Canberra ACT 2609', 'Mulgrave VIC',\n",
              "       'Parramatta NSW', 'Parkville VIC', 'Sydney NSW', 'Paddington NSW',\n",
              "       'Canberra ACT', 'Australia', 'Port Melbourne VIC 3207',\n",
              "       'Sydney NSW 2000', 'Victoria', 'Southbank VIC', 'Remote',\n",
              "       'Belconnen ACT 2617', 'Perth WA', 'Melbourne City Centre VIC',\n",
              "       'Crawley WA', 'City of Knox VIC', 'Queensland',\n",
              "       'Melbourne VIC 3000', 'South Melbourne VIC 3205',\n",
              "       'Adelaide CBD SA 5000', 'Geelong VIC', 'Newcastle NSW',\n",
              "       'New South Wales', 'Alice Springs NT 0870', 'Alexandria NSW',\n",
              "       'Frankston VIC', 'Cremorne VIC 3121', 'Waurn Ponds VIC',\n",
              "       'Sunbury VIC', 'Braeside VIC', 'Long Pocket QLD', 'Edinburgh SA',\n",
              "       'North Sydney NSW 2060', 'Abbotsford VIC', 'Perth WA 6000',\n",
              "       'Elizabeth SA', 'Brooklyn VIC', 'Gold Coast QLD', 'Queanbeyan NSW',\n",
              "       'Kew VIC 3101', 'Karratha WA', 'Wide Bay-Burnett QLD',\n",
              "       'Barangaroo NSW', 'Jandakot WA', 'Dalby QLD', 'Coolangatta QLD',\n",
              "       'Hamlyn Terrace NSW', 'Scoresby VIC', 'Notting Hill VIC',\n",
              "       'Brisbane QLD 4000', 'Murdoch WA', 'Launceston TAS',\n",
              "       'Hawthorn East VIC 3123', 'Mawson Lakes SA',\n",
              "       'Macquarie Park NSW 2113', 'Middlemount QLD 4746',\n",
              "       'Sydney Central Business District NSW', 'North Parramatta NSW',\n",
              "       'Mulgrave VIC 3170', 'Adelaide Region SA', 'Toowong QLD',\n",
              "       'Milton QLD', 'Pyrmont NSW 2009', 'Tasmania', 'Darwin NT',\n",
              "       'Docklands VIC 3008', 'Sunshine Coast QLD', 'Wagga Wagga NSW 2650',\n",
              "       'Camberwell VIC 3124', 'North Sydney NSW', 'North Ryde NSW',\n",
              "       'Osborne Park WA', 'Alexandria NSW 2015', 'Darlinghurst NSW 2010',\n",
              "       'Western Australia', 'Kingston ACT', 'Chatswood NSW', 'Tumut NSW',\n",
              "       'Booragoon WA', 'Perth Central Business District WA',\n",
              "       'Pyrmont NSW', 'Cockburn WA', 'Welshpool WA 6106', 'Fremantle WA',\n",
              "       'St Leonards NSW', 'Dutton Park QLD', 'Westmead NSW 2145',\n",
              "       'Clayton VIC', 'Murarrie QLD 4172', 'Romsey VIC', 'Bendigo VIC',\n",
              "       'Wellington NSW', 'Barton ACT 2600', 'Majura ACT'], dtype=object)"
            ]
          },
          "metadata": {},
          "execution_count": 171
        }
      ]
    },
    {
      "cell_type": "code",
      "source": [
        ""
      ],
      "metadata": {
        "id": "DUFor9ECy-jx"
      },
      "execution_count": 171,
      "outputs": []
    },
    {
      "cell_type": "markdown",
      "source": [
        "The below code block presents the first of many helper functions written in this processing. The intention of drop_postcode() is to scan the end of the string for a potential postcode, and drop it if found."
      ],
      "metadata": {
        "id": "7QdqciS3tTTL"
      }
    },
    {
      "cell_type": "code",
      "source": [
        "def drop_postcode(string):\n",
        "  if string[-4:].isdigit():\n",
        "    return string[:-5]\n",
        "  else:\n",
        "    return string\n",
        "\n",
        "print(drop_postcode('Canberra ACT 2609'))\n",
        "print(drop_postcode('Melbourne VIC'))"
      ],
      "metadata": {
        "colab": {
          "base_uri": "https://localhost:8080/"
        },
        "id": "ARcjFNFs-_jh",
        "outputId": "a5034ddb-8950-4385-a7e6-2c46bb0ec535"
      },
      "execution_count": 172,
      "outputs": [
        {
          "output_type": "stream",
          "name": "stdout",
          "text": [
            "Canberra ACT\n",
            "Melbourne VIC\n"
          ]
        }
      ]
    },
    {
      "cell_type": "markdown",
      "source": [
        "The next two helper functions, get_state() and get_city() help extract the state/territory value from the City field."
      ],
      "metadata": {
        "id": "mlwAcHeBtmyG"
      }
    },
    {
      "cell_type": "code",
      "source": [
        "short_states = {'New South Wales' : 'NSW', \n",
        "                  'Victoria' : \"VIC\", \n",
        "                  'Queensland': \"QLD\",\n",
        "                  'Australian Captial Territory': 'ACT',\n",
        "                  'South Australia' : 'SA',\n",
        "                  'Western Australia' : 'WA',\n",
        "                  'Northern Territory' : 'NT',\n",
        "                  'Tasmania' : 'TAS'}"
      ],
      "metadata": {
        "id": "JV1rDYqMspE5"
      },
      "execution_count": 173,
      "outputs": []
    },
    {
      "cell_type": "code",
      "source": [
        "def get_state(string):\n",
        "  if string in short_states:\n",
        "    return short_states.get(string)\n",
        "  elif string in ['Australia', 'Remote']:\n",
        "    return np.NaN\n",
        "  else:\n",
        "    return string[-3:].replace(\" \", \"\")\n",
        "\n",
        "def get_city(string):\n",
        "  string = string.replace(\" Central Business District\", \"\")\n",
        "  if string in ['Australia', 'Remote']:\n",
        "    return string\n",
        "  city = string[:-3]\n",
        "  if city[-1] == \" \":\n",
        "    return city[:-1]\n",
        "  else:\n",
        "    return city\n",
        "\n",
        "print(get_state('Adelaide SA'))\n",
        "print(get_city('North Shore NSW'))"
      ],
      "metadata": {
        "colab": {
          "base_uri": "https://localhost:8080/"
        },
        "id": "YJt3vekxS7nX",
        "outputId": "ea10b349-0f5f-4b7c-e8ca-e1a111e9b57e"
      },
      "execution_count": 174,
      "outputs": [
        {
          "output_type": "stream",
          "name": "stdout",
          "text": [
            "SA\n",
            "North Shore\n"
          ]
        }
      ]
    },
    {
      "cell_type": "markdown",
      "source": [
        "We can now apply our helper functions across our data frame and complete our first cleaning task."
      ],
      "metadata": {
        "id": "Fnfyko7BuDQS"
      }
    },
    {
      "cell_type": "code",
      "source": [
        "str_data[\"City\"] = str_data[\"City\"].apply(drop_postcode)\n",
        "str_data[\"State\"] = str_data[\"City\"].apply(get_state)\n",
        "str_data[\"City\"] = str_data[\"City\"].apply(get_city)\n",
        "str_data.head()"
      ],
      "metadata": {
        "colab": {
          "base_uri": "https://localhost:8080/",
          "height": 206
        },
        "id": "6t8Em4fNSZj5",
        "outputId": "201dea44-55a1-467a-9435-8dab5c8dab15"
      },
      "execution_count": 175,
      "outputs": [
        {
          "output_type": "execute_result",
          "data": {
            "text/plain": [
              "                                           Job Title Salary  \\\n",
              "0                           Data Enablement Graduate    NaN   \n",
              "1         Suncorp 2023 Data Science Graduate Program    NaN   \n",
              "2  Data Science Graduate/Undergraduate - Immed St...    NaN   \n",
              "3             Graduate Research Laboratory Scientist    NaN   \n",
              "4  Consulting - Data & AI - 2022/23 Graduate Prog...    NaN   \n",
              "\n",
              "                                         Description        Company  \\\n",
              "0  As one of the world's largest toll-road operat...     Transurban   \n",
              "1  At Suncorp Group we work with care to create t...  Suncorp Group   \n",
              "2  Be part of the Award Winning CIMIC Graduate Pr...    UGL Limited   \n",
              "3  Alfred Health\\n\\nAlfred Health is a leader in ...  Alfred Health   \n",
              "4  Date: 16-Aug-2022\\n\\nLocation:\\nCanberra, ACT,...       Deloitte   \n",
              "\n",
              "          City State  \n",
              "0    Docklands   VIC  \n",
              "1     Brisbane   QLD  \n",
              "2  North Shore   NSW  \n",
              "3    Melbourne   VIC  \n",
              "4     Canberra   ACT  "
            ],
            "text/html": [
              "\n",
              "  <div id=\"df-f688e57b-f282-4e5d-a2e5-511c6bd7ae2b\">\n",
              "    <div class=\"colab-df-container\">\n",
              "      <div>\n",
              "<style scoped>\n",
              "    .dataframe tbody tr th:only-of-type {\n",
              "        vertical-align: middle;\n",
              "    }\n",
              "\n",
              "    .dataframe tbody tr th {\n",
              "        vertical-align: top;\n",
              "    }\n",
              "\n",
              "    .dataframe thead th {\n",
              "        text-align: right;\n",
              "    }\n",
              "</style>\n",
              "<table border=\"1\" class=\"dataframe\">\n",
              "  <thead>\n",
              "    <tr style=\"text-align: right;\">\n",
              "      <th></th>\n",
              "      <th>Job Title</th>\n",
              "      <th>Salary</th>\n",
              "      <th>Description</th>\n",
              "      <th>Company</th>\n",
              "      <th>City</th>\n",
              "      <th>State</th>\n",
              "    </tr>\n",
              "  </thead>\n",
              "  <tbody>\n",
              "    <tr>\n",
              "      <th>0</th>\n",
              "      <td>Data Enablement Graduate</td>\n",
              "      <td>NaN</td>\n",
              "      <td>As one of the world's largest toll-road operat...</td>\n",
              "      <td>Transurban</td>\n",
              "      <td>Docklands</td>\n",
              "      <td>VIC</td>\n",
              "    </tr>\n",
              "    <tr>\n",
              "      <th>1</th>\n",
              "      <td>Suncorp 2023 Data Science Graduate Program</td>\n",
              "      <td>NaN</td>\n",
              "      <td>At Suncorp Group we work with care to create t...</td>\n",
              "      <td>Suncorp Group</td>\n",
              "      <td>Brisbane</td>\n",
              "      <td>QLD</td>\n",
              "    </tr>\n",
              "    <tr>\n",
              "      <th>2</th>\n",
              "      <td>Data Science Graduate/Undergraduate - Immed St...</td>\n",
              "      <td>NaN</td>\n",
              "      <td>Be part of the Award Winning CIMIC Graduate Pr...</td>\n",
              "      <td>UGL Limited</td>\n",
              "      <td>North Shore</td>\n",
              "      <td>NSW</td>\n",
              "    </tr>\n",
              "    <tr>\n",
              "      <th>3</th>\n",
              "      <td>Graduate Research Laboratory Scientist</td>\n",
              "      <td>NaN</td>\n",
              "      <td>Alfred Health\\n\\nAlfred Health is a leader in ...</td>\n",
              "      <td>Alfred Health</td>\n",
              "      <td>Melbourne</td>\n",
              "      <td>VIC</td>\n",
              "    </tr>\n",
              "    <tr>\n",
              "      <th>4</th>\n",
              "      <td>Consulting - Data &amp; AI - 2022/23 Graduate Prog...</td>\n",
              "      <td>NaN</td>\n",
              "      <td>Date: 16-Aug-2022\\n\\nLocation:\\nCanberra, ACT,...</td>\n",
              "      <td>Deloitte</td>\n",
              "      <td>Canberra</td>\n",
              "      <td>ACT</td>\n",
              "    </tr>\n",
              "  </tbody>\n",
              "</table>\n",
              "</div>\n",
              "      <button class=\"colab-df-convert\" onclick=\"convertToInteractive('df-f688e57b-f282-4e5d-a2e5-511c6bd7ae2b')\"\n",
              "              title=\"Convert this dataframe to an interactive table.\"\n",
              "              style=\"display:none;\">\n",
              "        \n",
              "  <svg xmlns=\"http://www.w3.org/2000/svg\" height=\"24px\"viewBox=\"0 0 24 24\"\n",
              "       width=\"24px\">\n",
              "    <path d=\"M0 0h24v24H0V0z\" fill=\"none\"/>\n",
              "    <path d=\"M18.56 5.44l.94 2.06.94-2.06 2.06-.94-2.06-.94-.94-2.06-.94 2.06-2.06.94zm-11 1L8.5 8.5l.94-2.06 2.06-.94-2.06-.94L8.5 2.5l-.94 2.06-2.06.94zm10 10l.94 2.06.94-2.06 2.06-.94-2.06-.94-.94-2.06-.94 2.06-2.06.94z\"/><path d=\"M17.41 7.96l-1.37-1.37c-.4-.4-.92-.59-1.43-.59-.52 0-1.04.2-1.43.59L10.3 9.45l-7.72 7.72c-.78.78-.78 2.05 0 2.83L4 21.41c.39.39.9.59 1.41.59.51 0 1.02-.2 1.41-.59l7.78-7.78 2.81-2.81c.8-.78.8-2.07 0-2.86zM5.41 20L4 18.59l7.72-7.72 1.47 1.35L5.41 20z\"/>\n",
              "  </svg>\n",
              "      </button>\n",
              "      \n",
              "  <style>\n",
              "    .colab-df-container {\n",
              "      display:flex;\n",
              "      flex-wrap:wrap;\n",
              "      gap: 12px;\n",
              "    }\n",
              "\n",
              "    .colab-df-convert {\n",
              "      background-color: #E8F0FE;\n",
              "      border: none;\n",
              "      border-radius: 50%;\n",
              "      cursor: pointer;\n",
              "      display: none;\n",
              "      fill: #1967D2;\n",
              "      height: 32px;\n",
              "      padding: 0 0 0 0;\n",
              "      width: 32px;\n",
              "    }\n",
              "\n",
              "    .colab-df-convert:hover {\n",
              "      background-color: #E2EBFA;\n",
              "      box-shadow: 0px 1px 2px rgba(60, 64, 67, 0.3), 0px 1px 3px 1px rgba(60, 64, 67, 0.15);\n",
              "      fill: #174EA6;\n",
              "    }\n",
              "\n",
              "    [theme=dark] .colab-df-convert {\n",
              "      background-color: #3B4455;\n",
              "      fill: #D2E3FC;\n",
              "    }\n",
              "\n",
              "    [theme=dark] .colab-df-convert:hover {\n",
              "      background-color: #434B5C;\n",
              "      box-shadow: 0px 1px 3px 1px rgba(0, 0, 0, 0.15);\n",
              "      filter: drop-shadow(0px 1px 2px rgba(0, 0, 0, 0.3));\n",
              "      fill: #FFFFFF;\n",
              "    }\n",
              "  </style>\n",
              "\n",
              "      <script>\n",
              "        const buttonEl =\n",
              "          document.querySelector('#df-f688e57b-f282-4e5d-a2e5-511c6bd7ae2b button.colab-df-convert');\n",
              "        buttonEl.style.display =\n",
              "          google.colab.kernel.accessAllowed ? 'block' : 'none';\n",
              "\n",
              "        async function convertToInteractive(key) {\n",
              "          const element = document.querySelector('#df-f688e57b-f282-4e5d-a2e5-511c6bd7ae2b');\n",
              "          const dataTable =\n",
              "            await google.colab.kernel.invokeFunction('convertToInteractive',\n",
              "                                                     [key], {});\n",
              "          if (!dataTable) return;\n",
              "\n",
              "          const docLinkHtml = 'Like what you see? Visit the ' +\n",
              "            '<a target=\"_blank\" href=https://colab.research.google.com/notebooks/data_table.ipynb>data table notebook</a>'\n",
              "            + ' to learn more about interactive tables.';\n",
              "          element.innerHTML = '';\n",
              "          dataTable['output_type'] = 'display_data';\n",
              "          await google.colab.output.renderOutput(dataTable, element);\n",
              "          const docLink = document.createElement('div');\n",
              "          docLink.innerHTML = docLinkHtml;\n",
              "          element.appendChild(docLink);\n",
              "        }\n",
              "      </script>\n",
              "    </div>\n",
              "  </div>\n",
              "  "
            ]
          },
          "metadata": {},
          "execution_count": 175
        }
      ]
    },
    {
      "cell_type": "code",
      "source": [
        "str_data.State.unique()"
      ],
      "metadata": {
        "colab": {
          "base_uri": "https://localhost:8080/"
        },
        "id": "JPPM_RsLuJnV",
        "outputId": "a6afd4fc-d21b-41b6-9172-a5f03c15cc11"
      },
      "execution_count": 176,
      "outputs": [
        {
          "output_type": "execute_result",
          "data": {
            "text/plain": [
              "array(['VIC', 'QLD', 'NSW', 'ACT', nan, 'WA', 'SA', 'NT', 'TAS'],\n",
              "      dtype=object)"
            ]
          },
          "metadata": {},
          "execution_count": 176
        }
      ]
    },
    {
      "cell_type": "markdown",
      "source": [
        "# Feature extraction"
      ],
      "metadata": {
        "id": "9M0ptwmiuRwE"
      }
    },
    {
      "cell_type": "markdown",
      "source": [
        "## Salary"
      ],
      "metadata": {
        "id": "HzeeWAZOguN7"
      }
    },
    {
      "cell_type": "markdown",
      "source": [
        "Now that we have wrangled and parsed our data into meaningful attributes, we now need to process our six attributes into features that our machine learning model can handle. The first of these we will tackle is the target variable, Salary. To avoid unecessary iterating, we will perform the relevant computations on only the record that have an attached salary."
      ],
      "metadata": {
        "id": "fLAG5ecTeV3C"
      }
    },
    {
      "cell_type": "code",
      "source": [
        "salaried_data = str_data[str_data[\"Salary\"].notnull()]\n",
        "non_salaried_data = str_data[str_data[\"Salary\"].isna()]\n",
        "if len(salaried_data) + len(non_salaried_data) != len(str_data):\n",
        "  print(\"Something went wrong\")"
      ],
      "metadata": {
        "id": "n9h2bxqUU79r"
      },
      "execution_count": 177,
      "outputs": []
    },
    {
      "cell_type": "markdown",
      "source": [
        "The salary field contains two important pieces of information: the pay rate and the pay frequency. We can use the str.split() method again, this time using the string \" a\" as a separator, and append this series back onto our data frame."
      ],
      "metadata": {
        "id": "HnKTx4fhuiOj"
      }
    },
    {
      "cell_type": "code",
      "source": [
        "rate_freq = salaried_data['Salary'].str.split(pat = \" a\", expand = True)\n",
        "rate_freq.head()"
      ],
      "metadata": {
        "colab": {
          "base_uri": "https://localhost:8080/",
          "height": 0
        },
        "id": "oc3wsc1FXpGQ",
        "outputId": "faf56f4f-8b06-423d-8e80-27164a812e88"
      },
      "execution_count": 178,
      "outputs": [
        {
          "output_type": "execute_result",
          "data": {
            "text/plain": [
              "                      0       1\n",
              "9              $103,308    year\n",
              "12  $101,035 - $118,442    year\n",
              "14    $60,895 - $68,954    year\n",
              "17               $46.20  n hour\n",
              "24    $72,751 - $80,545    year"
            ],
            "text/html": [
              "\n",
              "  <div id=\"df-4eef0bce-41d3-4f4d-bb9e-b4b76cddc7dd\">\n",
              "    <div class=\"colab-df-container\">\n",
              "      <div>\n",
              "<style scoped>\n",
              "    .dataframe tbody tr th:only-of-type {\n",
              "        vertical-align: middle;\n",
              "    }\n",
              "\n",
              "    .dataframe tbody tr th {\n",
              "        vertical-align: top;\n",
              "    }\n",
              "\n",
              "    .dataframe thead th {\n",
              "        text-align: right;\n",
              "    }\n",
              "</style>\n",
              "<table border=\"1\" class=\"dataframe\">\n",
              "  <thead>\n",
              "    <tr style=\"text-align: right;\">\n",
              "      <th></th>\n",
              "      <th>0</th>\n",
              "      <th>1</th>\n",
              "    </tr>\n",
              "  </thead>\n",
              "  <tbody>\n",
              "    <tr>\n",
              "      <th>9</th>\n",
              "      <td>$103,308</td>\n",
              "      <td>year</td>\n",
              "    </tr>\n",
              "    <tr>\n",
              "      <th>12</th>\n",
              "      <td>$101,035 - $118,442</td>\n",
              "      <td>year</td>\n",
              "    </tr>\n",
              "    <tr>\n",
              "      <th>14</th>\n",
              "      <td>$60,895 - $68,954</td>\n",
              "      <td>year</td>\n",
              "    </tr>\n",
              "    <tr>\n",
              "      <th>17</th>\n",
              "      <td>$46.20</td>\n",
              "      <td>n hour</td>\n",
              "    </tr>\n",
              "    <tr>\n",
              "      <th>24</th>\n",
              "      <td>$72,751 - $80,545</td>\n",
              "      <td>year</td>\n",
              "    </tr>\n",
              "  </tbody>\n",
              "</table>\n",
              "</div>\n",
              "      <button class=\"colab-df-convert\" onclick=\"convertToInteractive('df-4eef0bce-41d3-4f4d-bb9e-b4b76cddc7dd')\"\n",
              "              title=\"Convert this dataframe to an interactive table.\"\n",
              "              style=\"display:none;\">\n",
              "        \n",
              "  <svg xmlns=\"http://www.w3.org/2000/svg\" height=\"24px\"viewBox=\"0 0 24 24\"\n",
              "       width=\"24px\">\n",
              "    <path d=\"M0 0h24v24H0V0z\" fill=\"none\"/>\n",
              "    <path d=\"M18.56 5.44l.94 2.06.94-2.06 2.06-.94-2.06-.94-.94-2.06-.94 2.06-2.06.94zm-11 1L8.5 8.5l.94-2.06 2.06-.94-2.06-.94L8.5 2.5l-.94 2.06-2.06.94zm10 10l.94 2.06.94-2.06 2.06-.94-2.06-.94-.94-2.06-.94 2.06-2.06.94z\"/><path d=\"M17.41 7.96l-1.37-1.37c-.4-.4-.92-.59-1.43-.59-.52 0-1.04.2-1.43.59L10.3 9.45l-7.72 7.72c-.78.78-.78 2.05 0 2.83L4 21.41c.39.39.9.59 1.41.59.51 0 1.02-.2 1.41-.59l7.78-7.78 2.81-2.81c.8-.78.8-2.07 0-2.86zM5.41 20L4 18.59l7.72-7.72 1.47 1.35L5.41 20z\"/>\n",
              "  </svg>\n",
              "      </button>\n",
              "      \n",
              "  <style>\n",
              "    .colab-df-container {\n",
              "      display:flex;\n",
              "      flex-wrap:wrap;\n",
              "      gap: 12px;\n",
              "    }\n",
              "\n",
              "    .colab-df-convert {\n",
              "      background-color: #E8F0FE;\n",
              "      border: none;\n",
              "      border-radius: 50%;\n",
              "      cursor: pointer;\n",
              "      display: none;\n",
              "      fill: #1967D2;\n",
              "      height: 32px;\n",
              "      padding: 0 0 0 0;\n",
              "      width: 32px;\n",
              "    }\n",
              "\n",
              "    .colab-df-convert:hover {\n",
              "      background-color: #E2EBFA;\n",
              "      box-shadow: 0px 1px 2px rgba(60, 64, 67, 0.3), 0px 1px 3px 1px rgba(60, 64, 67, 0.15);\n",
              "      fill: #174EA6;\n",
              "    }\n",
              "\n",
              "    [theme=dark] .colab-df-convert {\n",
              "      background-color: #3B4455;\n",
              "      fill: #D2E3FC;\n",
              "    }\n",
              "\n",
              "    [theme=dark] .colab-df-convert:hover {\n",
              "      background-color: #434B5C;\n",
              "      box-shadow: 0px 1px 3px 1px rgba(0, 0, 0, 0.15);\n",
              "      filter: drop-shadow(0px 1px 2px rgba(0, 0, 0, 0.3));\n",
              "      fill: #FFFFFF;\n",
              "    }\n",
              "  </style>\n",
              "\n",
              "      <script>\n",
              "        const buttonEl =\n",
              "          document.querySelector('#df-4eef0bce-41d3-4f4d-bb9e-b4b76cddc7dd button.colab-df-convert');\n",
              "        buttonEl.style.display =\n",
              "          google.colab.kernel.accessAllowed ? 'block' : 'none';\n",
              "\n",
              "        async function convertToInteractive(key) {\n",
              "          const element = document.querySelector('#df-4eef0bce-41d3-4f4d-bb9e-b4b76cddc7dd');\n",
              "          const dataTable =\n",
              "            await google.colab.kernel.invokeFunction('convertToInteractive',\n",
              "                                                     [key], {});\n",
              "          if (!dataTable) return;\n",
              "\n",
              "          const docLinkHtml = 'Like what you see? Visit the ' +\n",
              "            '<a target=\"_blank\" href=https://colab.research.google.com/notebooks/data_table.ipynb>data table notebook</a>'\n",
              "            + ' to learn more about interactive tables.';\n",
              "          element.innerHTML = '';\n",
              "          dataTable['output_type'] = 'display_data';\n",
              "          await google.colab.output.renderOutput(dataTable, element);\n",
              "          const docLink = document.createElement('div');\n",
              "          docLink.innerHTML = docLinkHtml;\n",
              "          element.appendChild(docLink);\n",
              "        }\n",
              "      </script>\n",
              "    </div>\n",
              "  </div>\n",
              "  "
            ]
          },
          "metadata": {},
          "execution_count": 178
        }
      ]
    },
    {
      "cell_type": "code",
      "source": [
        "salaried_data[[\"Pay Rate\", \"Pay Freq\"]] = rate_freq"
      ],
      "metadata": {
        "colab": {
          "base_uri": "https://localhost:8080/"
        },
        "id": "8ElX8GBCX_ZI",
        "outputId": "544d75d1-07ab-44b6-a798-fbeae77fda5d"
      },
      "execution_count": 179,
      "outputs": [
        {
          "output_type": "stream",
          "name": "stderr",
          "text": [
            "/usr/local/lib/python3.7/dist-packages/pandas/core/frame.py:3641: SettingWithCopyWarning: \n",
            "A value is trying to be set on a copy of a slice from a DataFrame.\n",
            "Try using .loc[row_indexer,col_indexer] = value instead\n",
            "\n",
            "See the caveats in the documentation: https://pandas.pydata.org/pandas-docs/stable/user_guide/indexing.html#returning-a-view-versus-a-copy\n",
            "  self[k1] = value[k2]\n"
          ]
        }
      ]
    },
    {
      "cell_type": "markdown",
      "source": [
        "By calling unique() on the Pay Freq field, we can write a helper function to determine the different types of pay periods, and the necessary correction to convert them to a full time yearly salary."
      ],
      "metadata": {
        "id": "BedBw4avdw-E"
      }
    },
    {
      "cell_type": "code",
      "source": [
        "salaried_data[\"Pay Freq\"].unique()"
      ],
      "metadata": {
        "colab": {
          "base_uri": "https://localhost:8080/"
        },
        "id": "7SeM5ZTSYTxb",
        "outputId": "6dfb965c-984d-485c-dbc6-0da343561725"
      },
      "execution_count": 180,
      "outputs": [
        {
          "output_type": "execute_result",
          "data": {
            "text/plain": [
              "array([' year', 'n hour', ' day', ' month'], dtype=object)"
            ]
          },
          "metadata": {},
          "execution_count": 180
        }
      ]
    },
    {
      "cell_type": "markdown",
      "source": [
        "The corrections for daily pay reflect the statistics captured by the OECD (2022). It was determine that an average Australian worked 1714 per year between the years of 2017-2021. This figure was then divided by 7.6, the basis for which is the standards set out by the Fair Work Ombudsman (2022) for full-time employees."
      ],
      "metadata": {
        "id": "BpaKtUCCvrUQ"
      }
    },
    {
      "cell_type": "code",
      "source": [
        "def get_pay_periods(string):\n",
        "  if string == ' year':\n",
        "    return 1\n",
        "  if string == 'n hour':\n",
        "    return 1714\n",
        "  if string == ' day':\n",
        "    return 225.5\n",
        "  if string == ' month':\n",
        "    return 12"
      ],
      "metadata": {
        "id": "p9BtqJvpYhwU"
      },
      "execution_count": 181,
      "outputs": []
    },
    {
      "cell_type": "code",
      "source": [
        "salaried_data[\"Pay Periods\"] = salaried_data[\"Pay Freq\"].apply(get_pay_periods)"
      ],
      "metadata": {
        "colab": {
          "base_uri": "https://localhost:8080/"
        },
        "id": "Do3taj8ohMl4",
        "outputId": "0a8b20cb-c752-4d1a-93bc-1addea79bae7"
      },
      "execution_count": 182,
      "outputs": [
        {
          "output_type": "stream",
          "name": "stderr",
          "text": [
            "/usr/local/lib/python3.7/dist-packages/ipykernel_launcher.py:1: SettingWithCopyWarning: \n",
            "A value is trying to be set on a copy of a slice from a DataFrame.\n",
            "Try using .loc[row_indexer,col_indexer] = value instead\n",
            "\n",
            "See the caveats in the documentation: https://pandas.pydata.org/pandas-docs/stable/user_guide/indexing.html#returning-a-view-versus-a-copy\n",
            "  \"\"\"Entry point for launching an IPython kernel.\n"
          ]
        }
      ]
    },
    {
      "cell_type": "markdown",
      "source": [
        "The pay rate that we derived from parsing the original Salary field often comes as a range, so the helper function get_pay_amount() checks if it is presented as a range, and if so finds the midpoint. It also returns the pay amount as a float. "
      ],
      "metadata": {
        "id": "jrTzuI88yB1K"
      }
    },
    {
      "cell_type": "code",
      "source": [
        "def get_pay_amount(string):\n",
        "  string = string.replace('$', '')\n",
        "  string = string.replace(',', '')\n",
        "  if '-' in string:\n",
        "    string = string.split(' - ')\n",
        "    pay_range = [float(x) for x in string]\n",
        "    return sum(pay_range)/len(pay_range)\n",
        "  else:\n",
        "    return float(string)\n",
        "  \n",
        "print(get_pay_amount('$101,035 - $118,442'))\n",
        "print(get_pay_amount('$103,308'))\n"
      ],
      "metadata": {
        "colab": {
          "base_uri": "https://localhost:8080/"
        },
        "id": "YzAjFUCVhkne",
        "outputId": "58ef55fe-f809-4cb0-d70e-fe7cccefdba2"
      },
      "execution_count": 183,
      "outputs": [
        {
          "output_type": "stream",
          "name": "stdout",
          "text": [
            "109738.5\n",
            "103308.0\n"
          ]
        }
      ]
    },
    {
      "cell_type": "markdown",
      "source": [
        "Multiplying the pay amount by the pay rate gives us a new standardized attribute, Salary FTE (Full Time Equivalent)."
      ],
      "metadata": {
        "id": "Lix1o-eQe9tN"
      }
    },
    {
      "cell_type": "code",
      "source": [
        "salaried_data[\"Salary FTE\"] = salaried_data[\"Pay Rate\"].apply(get_pay_amount) * salaried_data[\"Pay Periods\"]"
      ],
      "metadata": {
        "colab": {
          "base_uri": "https://localhost:8080/"
        },
        "id": "5feg_1kOj0-t",
        "outputId": "311d8bc7-4af4-439e-f3b2-4a8d68524a79"
      },
      "execution_count": 184,
      "outputs": [
        {
          "output_type": "stream",
          "name": "stderr",
          "text": [
            "/usr/local/lib/python3.7/dist-packages/ipykernel_launcher.py:1: SettingWithCopyWarning: \n",
            "A value is trying to be set on a copy of a slice from a DataFrame.\n",
            "Try using .loc[row_indexer,col_indexer] = value instead\n",
            "\n",
            "See the caveats in the documentation: https://pandas.pydata.org/pandas-docs/stable/user_guide/indexing.html#returning-a-view-versus-a-copy\n",
            "  \"\"\"Entry point for launching an IPython kernel.\n"
          ]
        }
      ]
    },
    {
      "cell_type": "markdown",
      "source": [
        "The next few code blocks reshape the data so we can combine our data frames and continue processing these variables for our ML model."
      ],
      "metadata": {
        "id": "tvjwXSe00K1T"
      }
    },
    {
      "cell_type": "code",
      "source": [
        "salaried_data = salaried_data.drop(['Pay Rate', 'Pay Freq', 'Pay Periods', 'Salary'], axis = 1)\n",
        "salaried_data.head()"
      ],
      "metadata": {
        "colab": {
          "base_uri": "https://localhost:8080/",
          "height": 0
        },
        "id": "xAE22IsckXv5",
        "outputId": "cbc5ccd9-af24-415e-d48f-98e01048ef8a"
      },
      "execution_count": 185,
      "outputs": [
        {
          "output_type": "execute_result",
          "data": {
            "text/plain": [
              "                                            Job Title  \\\n",
              "9                               Junior Data Scientist   \n",
              "12  Research Assistant/Officer (Data Science Biost...   \n",
              "14                           Clinical Trial Assistant   \n",
              "17                             Administrative Officer   \n",
              "24      2023 STEM Graduate (multiple roles) (VPSG3.1)   \n",
              "\n",
              "                                          Description  \\\n",
              "9   Permanent role, Parramatta location, hybrid wo...   \n",
              "12  3 year contract\\nPart-time and full-time hours...   \n",
              "14  12-month Full Time\\nAttractive Salary $ 60,895...   \n",
              "17  Job no: 0056574\\nLocation: Parkville\\nRole typ...   \n",
              "24  Job Description\\n\\nLocation: Melbourne\\n\\nJob ...   \n",
              "\n",
              "                                 Company        City State  Salary FTE  \n",
              "9                           Sydney Water  Parramatta   NSW    103308.0  \n",
              "12  Murdoch Childrens Research Institute   Parkville   VIC    109738.5  \n",
              "14  Murdoch Childrens Research Institute   Parkville   VIC     64924.5  \n",
              "17               University of Melbourne   Parkville   VIC     79186.8  \n",
              "24               Department of Transport   Melbourne   VIC     76648.0  "
            ],
            "text/html": [
              "\n",
              "  <div id=\"df-24f804e6-e0fa-4af2-99e9-077f3ac7ed54\">\n",
              "    <div class=\"colab-df-container\">\n",
              "      <div>\n",
              "<style scoped>\n",
              "    .dataframe tbody tr th:only-of-type {\n",
              "        vertical-align: middle;\n",
              "    }\n",
              "\n",
              "    .dataframe tbody tr th {\n",
              "        vertical-align: top;\n",
              "    }\n",
              "\n",
              "    .dataframe thead th {\n",
              "        text-align: right;\n",
              "    }\n",
              "</style>\n",
              "<table border=\"1\" class=\"dataframe\">\n",
              "  <thead>\n",
              "    <tr style=\"text-align: right;\">\n",
              "      <th></th>\n",
              "      <th>Job Title</th>\n",
              "      <th>Description</th>\n",
              "      <th>Company</th>\n",
              "      <th>City</th>\n",
              "      <th>State</th>\n",
              "      <th>Salary FTE</th>\n",
              "    </tr>\n",
              "  </thead>\n",
              "  <tbody>\n",
              "    <tr>\n",
              "      <th>9</th>\n",
              "      <td>Junior Data Scientist</td>\n",
              "      <td>Permanent role, Parramatta location, hybrid wo...</td>\n",
              "      <td>Sydney Water</td>\n",
              "      <td>Parramatta</td>\n",
              "      <td>NSW</td>\n",
              "      <td>103308.0</td>\n",
              "    </tr>\n",
              "    <tr>\n",
              "      <th>12</th>\n",
              "      <td>Research Assistant/Officer (Data Science Biost...</td>\n",
              "      <td>3 year contract\\nPart-time and full-time hours...</td>\n",
              "      <td>Murdoch Childrens Research Institute</td>\n",
              "      <td>Parkville</td>\n",
              "      <td>VIC</td>\n",
              "      <td>109738.5</td>\n",
              "    </tr>\n",
              "    <tr>\n",
              "      <th>14</th>\n",
              "      <td>Clinical Trial Assistant</td>\n",
              "      <td>12-month Full Time\\nAttractive Salary $ 60,895...</td>\n",
              "      <td>Murdoch Childrens Research Institute</td>\n",
              "      <td>Parkville</td>\n",
              "      <td>VIC</td>\n",
              "      <td>64924.5</td>\n",
              "    </tr>\n",
              "    <tr>\n",
              "      <th>17</th>\n",
              "      <td>Administrative Officer</td>\n",
              "      <td>Job no: 0056574\\nLocation: Parkville\\nRole typ...</td>\n",
              "      <td>University of Melbourne</td>\n",
              "      <td>Parkville</td>\n",
              "      <td>VIC</td>\n",
              "      <td>79186.8</td>\n",
              "    </tr>\n",
              "    <tr>\n",
              "      <th>24</th>\n",
              "      <td>2023 STEM Graduate (multiple roles) (VPSG3.1)</td>\n",
              "      <td>Job Description\\n\\nLocation: Melbourne\\n\\nJob ...</td>\n",
              "      <td>Department of Transport</td>\n",
              "      <td>Melbourne</td>\n",
              "      <td>VIC</td>\n",
              "      <td>76648.0</td>\n",
              "    </tr>\n",
              "  </tbody>\n",
              "</table>\n",
              "</div>\n",
              "      <button class=\"colab-df-convert\" onclick=\"convertToInteractive('df-24f804e6-e0fa-4af2-99e9-077f3ac7ed54')\"\n",
              "              title=\"Convert this dataframe to an interactive table.\"\n",
              "              style=\"display:none;\">\n",
              "        \n",
              "  <svg xmlns=\"http://www.w3.org/2000/svg\" height=\"24px\"viewBox=\"0 0 24 24\"\n",
              "       width=\"24px\">\n",
              "    <path d=\"M0 0h24v24H0V0z\" fill=\"none\"/>\n",
              "    <path d=\"M18.56 5.44l.94 2.06.94-2.06 2.06-.94-2.06-.94-.94-2.06-.94 2.06-2.06.94zm-11 1L8.5 8.5l.94-2.06 2.06-.94-2.06-.94L8.5 2.5l-.94 2.06-2.06.94zm10 10l.94 2.06.94-2.06 2.06-.94-2.06-.94-.94-2.06-.94 2.06-2.06.94z\"/><path d=\"M17.41 7.96l-1.37-1.37c-.4-.4-.92-.59-1.43-.59-.52 0-1.04.2-1.43.59L10.3 9.45l-7.72 7.72c-.78.78-.78 2.05 0 2.83L4 21.41c.39.39.9.59 1.41.59.51 0 1.02-.2 1.41-.59l7.78-7.78 2.81-2.81c.8-.78.8-2.07 0-2.86zM5.41 20L4 18.59l7.72-7.72 1.47 1.35L5.41 20z\"/>\n",
              "  </svg>\n",
              "      </button>\n",
              "      \n",
              "  <style>\n",
              "    .colab-df-container {\n",
              "      display:flex;\n",
              "      flex-wrap:wrap;\n",
              "      gap: 12px;\n",
              "    }\n",
              "\n",
              "    .colab-df-convert {\n",
              "      background-color: #E8F0FE;\n",
              "      border: none;\n",
              "      border-radius: 50%;\n",
              "      cursor: pointer;\n",
              "      display: none;\n",
              "      fill: #1967D2;\n",
              "      height: 32px;\n",
              "      padding: 0 0 0 0;\n",
              "      width: 32px;\n",
              "    }\n",
              "\n",
              "    .colab-df-convert:hover {\n",
              "      background-color: #E2EBFA;\n",
              "      box-shadow: 0px 1px 2px rgba(60, 64, 67, 0.3), 0px 1px 3px 1px rgba(60, 64, 67, 0.15);\n",
              "      fill: #174EA6;\n",
              "    }\n",
              "\n",
              "    [theme=dark] .colab-df-convert {\n",
              "      background-color: #3B4455;\n",
              "      fill: #D2E3FC;\n",
              "    }\n",
              "\n",
              "    [theme=dark] .colab-df-convert:hover {\n",
              "      background-color: #434B5C;\n",
              "      box-shadow: 0px 1px 3px 1px rgba(0, 0, 0, 0.15);\n",
              "      filter: drop-shadow(0px 1px 2px rgba(0, 0, 0, 0.3));\n",
              "      fill: #FFFFFF;\n",
              "    }\n",
              "  </style>\n",
              "\n",
              "      <script>\n",
              "        const buttonEl =\n",
              "          document.querySelector('#df-24f804e6-e0fa-4af2-99e9-077f3ac7ed54 button.colab-df-convert');\n",
              "        buttonEl.style.display =\n",
              "          google.colab.kernel.accessAllowed ? 'block' : 'none';\n",
              "\n",
              "        async function convertToInteractive(key) {\n",
              "          const element = document.querySelector('#df-24f804e6-e0fa-4af2-99e9-077f3ac7ed54');\n",
              "          const dataTable =\n",
              "            await google.colab.kernel.invokeFunction('convertToInteractive',\n",
              "                                                     [key], {});\n",
              "          if (!dataTable) return;\n",
              "\n",
              "          const docLinkHtml = 'Like what you see? Visit the ' +\n",
              "            '<a target=\"_blank\" href=https://colab.research.google.com/notebooks/data_table.ipynb>data table notebook</a>'\n",
              "            + ' to learn more about interactive tables.';\n",
              "          element.innerHTML = '';\n",
              "          dataTable['output_type'] = 'display_data';\n",
              "          await google.colab.output.renderOutput(dataTable, element);\n",
              "          const docLink = document.createElement('div');\n",
              "          docLink.innerHTML = docLinkHtml;\n",
              "          element.appendChild(docLink);\n",
              "        }\n",
              "      </script>\n",
              "    </div>\n",
              "  </div>\n",
              "  "
            ]
          },
          "metadata": {},
          "execution_count": 185
        }
      ]
    },
    {
      "cell_type": "code",
      "source": [
        "prefer_column_order = [\"Salary FTE\", \"City\", \"State\", \"Company\", \"Job Title\", \"Description\"]\n",
        "non_salaried_data = non_salaried_data.rename({\"Salary\" : \"Salary FTE\"}, axis = 1)\n",
        "\n",
        "salaried_data = salaried_data.reindex(columns = prefer_column_order)\n",
        "non_salaried_data = non_salaried_data.reindex(columns = prefer_column_order)"
      ],
      "metadata": {
        "id": "Emb2wrb0oq1p"
      },
      "execution_count": 186,
      "outputs": []
    },
    {
      "cell_type": "code",
      "source": [
        "str_data = pd.concat([salaried_data, non_salaried_data])\n",
        "str_data = str_data.reset_index(drop = True)"
      ],
      "metadata": {
        "id": "nFUOnGDDq1Rk"
      },
      "execution_count": 187,
      "outputs": []
    },
    {
      "cell_type": "markdown",
      "source": [
        "## City"
      ],
      "metadata": {
        "id": "p-78L3wfgykC"
      }
    },
    {
      "cell_type": "code",
      "source": [
        "state_capitals = ['Sydney', 'Melbourne', 'Brisbane', 'Adelaide', 'Darwin', 'Canberra', 'Perth', 'Hobart']\n",
        "def is_capital(string):\n",
        "  if string in state_capitals:\n",
        "    return True\n",
        "  else:\n",
        "    return False\n"
      ],
      "metadata": {
        "id": "BqPSK4QYgjsS"
      },
      "execution_count": 188,
      "outputs": []
    },
    {
      "cell_type": "code",
      "source": [
        "str_data[\"Capital\"] = str_data[\"City\"].apply(is_capital)\n"
      ],
      "metadata": {
        "id": "2j6v_1hriJTt"
      },
      "execution_count": 189,
      "outputs": []
    },
    {
      "cell_type": "markdown",
      "source": [
        "## State"
      ],
      "metadata": {
        "id": "F27qbTa8fki8"
      }
    },
    {
      "cell_type": "code",
      "source": [
        "str_data = pd.get_dummies(str_data, columns = [\"State\"])\n",
        "str_data.head()"
      ],
      "metadata": {
        "colab": {
          "base_uri": "https://localhost:8080/",
          "height": 0
        },
        "id": "gf84VUdQkCuU",
        "outputId": "5ace1e89-dc61-4974-8750-901b85e5839a"
      },
      "execution_count": 190,
      "outputs": [
        {
          "output_type": "execute_result",
          "data": {
            "text/plain": [
              "   Salary FTE        City                               Company  \\\n",
              "0    103308.0  Parramatta                          Sydney Water   \n",
              "1    109738.5   Parkville  Murdoch Childrens Research Institute   \n",
              "2     64924.5   Parkville  Murdoch Childrens Research Institute   \n",
              "3     79186.8   Parkville               University of Melbourne   \n",
              "4     76648.0   Melbourne               Department of Transport   \n",
              "\n",
              "                                           Job Title  \\\n",
              "0                              Junior Data Scientist   \n",
              "1  Research Assistant/Officer (Data Science Biost...   \n",
              "2                           Clinical Trial Assistant   \n",
              "3                             Administrative Officer   \n",
              "4      2023 STEM Graduate (multiple roles) (VPSG3.1)   \n",
              "\n",
              "                                         Description  Capital  State_ACT  \\\n",
              "0  Permanent role, Parramatta location, hybrid wo...    False          0   \n",
              "1  3 year contract\\nPart-time and full-time hours...    False          0   \n",
              "2  12-month Full Time\\nAttractive Salary $ 60,895...    False          0   \n",
              "3  Job no: 0056574\\nLocation: Parkville\\nRole typ...    False          0   \n",
              "4  Job Description\\n\\nLocation: Melbourne\\n\\nJob ...     True          0   \n",
              "\n",
              "   State_NSW  State_NT  State_QLD  State_SA  State_TAS  State_VIC  State_WA  \n",
              "0          1         0          0         0          0          0         0  \n",
              "1          0         0          0         0          0          1         0  \n",
              "2          0         0          0         0          0          1         0  \n",
              "3          0         0          0         0          0          1         0  \n",
              "4          0         0          0         0          0          1         0  "
            ],
            "text/html": [
              "\n",
              "  <div id=\"df-5fe93949-b9bf-4868-a286-cffecf2ba5b4\">\n",
              "    <div class=\"colab-df-container\">\n",
              "      <div>\n",
              "<style scoped>\n",
              "    .dataframe tbody tr th:only-of-type {\n",
              "        vertical-align: middle;\n",
              "    }\n",
              "\n",
              "    .dataframe tbody tr th {\n",
              "        vertical-align: top;\n",
              "    }\n",
              "\n",
              "    .dataframe thead th {\n",
              "        text-align: right;\n",
              "    }\n",
              "</style>\n",
              "<table border=\"1\" class=\"dataframe\">\n",
              "  <thead>\n",
              "    <tr style=\"text-align: right;\">\n",
              "      <th></th>\n",
              "      <th>Salary FTE</th>\n",
              "      <th>City</th>\n",
              "      <th>Company</th>\n",
              "      <th>Job Title</th>\n",
              "      <th>Description</th>\n",
              "      <th>Capital</th>\n",
              "      <th>State_ACT</th>\n",
              "      <th>State_NSW</th>\n",
              "      <th>State_NT</th>\n",
              "      <th>State_QLD</th>\n",
              "      <th>State_SA</th>\n",
              "      <th>State_TAS</th>\n",
              "      <th>State_VIC</th>\n",
              "      <th>State_WA</th>\n",
              "    </tr>\n",
              "  </thead>\n",
              "  <tbody>\n",
              "    <tr>\n",
              "      <th>0</th>\n",
              "      <td>103308.0</td>\n",
              "      <td>Parramatta</td>\n",
              "      <td>Sydney Water</td>\n",
              "      <td>Junior Data Scientist</td>\n",
              "      <td>Permanent role, Parramatta location, hybrid wo...</td>\n",
              "      <td>False</td>\n",
              "      <td>0</td>\n",
              "      <td>1</td>\n",
              "      <td>0</td>\n",
              "      <td>0</td>\n",
              "      <td>0</td>\n",
              "      <td>0</td>\n",
              "      <td>0</td>\n",
              "      <td>0</td>\n",
              "    </tr>\n",
              "    <tr>\n",
              "      <th>1</th>\n",
              "      <td>109738.5</td>\n",
              "      <td>Parkville</td>\n",
              "      <td>Murdoch Childrens Research Institute</td>\n",
              "      <td>Research Assistant/Officer (Data Science Biost...</td>\n",
              "      <td>3 year contract\\nPart-time and full-time hours...</td>\n",
              "      <td>False</td>\n",
              "      <td>0</td>\n",
              "      <td>0</td>\n",
              "      <td>0</td>\n",
              "      <td>0</td>\n",
              "      <td>0</td>\n",
              "      <td>0</td>\n",
              "      <td>1</td>\n",
              "      <td>0</td>\n",
              "    </tr>\n",
              "    <tr>\n",
              "      <th>2</th>\n",
              "      <td>64924.5</td>\n",
              "      <td>Parkville</td>\n",
              "      <td>Murdoch Childrens Research Institute</td>\n",
              "      <td>Clinical Trial Assistant</td>\n",
              "      <td>12-month Full Time\\nAttractive Salary $ 60,895...</td>\n",
              "      <td>False</td>\n",
              "      <td>0</td>\n",
              "      <td>0</td>\n",
              "      <td>0</td>\n",
              "      <td>0</td>\n",
              "      <td>0</td>\n",
              "      <td>0</td>\n",
              "      <td>1</td>\n",
              "      <td>0</td>\n",
              "    </tr>\n",
              "    <tr>\n",
              "      <th>3</th>\n",
              "      <td>79186.8</td>\n",
              "      <td>Parkville</td>\n",
              "      <td>University of Melbourne</td>\n",
              "      <td>Administrative Officer</td>\n",
              "      <td>Job no: 0056574\\nLocation: Parkville\\nRole typ...</td>\n",
              "      <td>False</td>\n",
              "      <td>0</td>\n",
              "      <td>0</td>\n",
              "      <td>0</td>\n",
              "      <td>0</td>\n",
              "      <td>0</td>\n",
              "      <td>0</td>\n",
              "      <td>1</td>\n",
              "      <td>0</td>\n",
              "    </tr>\n",
              "    <tr>\n",
              "      <th>4</th>\n",
              "      <td>76648.0</td>\n",
              "      <td>Melbourne</td>\n",
              "      <td>Department of Transport</td>\n",
              "      <td>2023 STEM Graduate (multiple roles) (VPSG3.1)</td>\n",
              "      <td>Job Description\\n\\nLocation: Melbourne\\n\\nJob ...</td>\n",
              "      <td>True</td>\n",
              "      <td>0</td>\n",
              "      <td>0</td>\n",
              "      <td>0</td>\n",
              "      <td>0</td>\n",
              "      <td>0</td>\n",
              "      <td>0</td>\n",
              "      <td>1</td>\n",
              "      <td>0</td>\n",
              "    </tr>\n",
              "  </tbody>\n",
              "</table>\n",
              "</div>\n",
              "      <button class=\"colab-df-convert\" onclick=\"convertToInteractive('df-5fe93949-b9bf-4868-a286-cffecf2ba5b4')\"\n",
              "              title=\"Convert this dataframe to an interactive table.\"\n",
              "              style=\"display:none;\">\n",
              "        \n",
              "  <svg xmlns=\"http://www.w3.org/2000/svg\" height=\"24px\"viewBox=\"0 0 24 24\"\n",
              "       width=\"24px\">\n",
              "    <path d=\"M0 0h24v24H0V0z\" fill=\"none\"/>\n",
              "    <path d=\"M18.56 5.44l.94 2.06.94-2.06 2.06-.94-2.06-.94-.94-2.06-.94 2.06-2.06.94zm-11 1L8.5 8.5l.94-2.06 2.06-.94-2.06-.94L8.5 2.5l-.94 2.06-2.06.94zm10 10l.94 2.06.94-2.06 2.06-.94-2.06-.94-.94-2.06-.94 2.06-2.06.94z\"/><path d=\"M17.41 7.96l-1.37-1.37c-.4-.4-.92-.59-1.43-.59-.52 0-1.04.2-1.43.59L10.3 9.45l-7.72 7.72c-.78.78-.78 2.05 0 2.83L4 21.41c.39.39.9.59 1.41.59.51 0 1.02-.2 1.41-.59l7.78-7.78 2.81-2.81c.8-.78.8-2.07 0-2.86zM5.41 20L4 18.59l7.72-7.72 1.47 1.35L5.41 20z\"/>\n",
              "  </svg>\n",
              "      </button>\n",
              "      \n",
              "  <style>\n",
              "    .colab-df-container {\n",
              "      display:flex;\n",
              "      flex-wrap:wrap;\n",
              "      gap: 12px;\n",
              "    }\n",
              "\n",
              "    .colab-df-convert {\n",
              "      background-color: #E8F0FE;\n",
              "      border: none;\n",
              "      border-radius: 50%;\n",
              "      cursor: pointer;\n",
              "      display: none;\n",
              "      fill: #1967D2;\n",
              "      height: 32px;\n",
              "      padding: 0 0 0 0;\n",
              "      width: 32px;\n",
              "    }\n",
              "\n",
              "    .colab-df-convert:hover {\n",
              "      background-color: #E2EBFA;\n",
              "      box-shadow: 0px 1px 2px rgba(60, 64, 67, 0.3), 0px 1px 3px 1px rgba(60, 64, 67, 0.15);\n",
              "      fill: #174EA6;\n",
              "    }\n",
              "\n",
              "    [theme=dark] .colab-df-convert {\n",
              "      background-color: #3B4455;\n",
              "      fill: #D2E3FC;\n",
              "    }\n",
              "\n",
              "    [theme=dark] .colab-df-convert:hover {\n",
              "      background-color: #434B5C;\n",
              "      box-shadow: 0px 1px 3px 1px rgba(0, 0, 0, 0.15);\n",
              "      filter: drop-shadow(0px 1px 2px rgba(0, 0, 0, 0.3));\n",
              "      fill: #FFFFFF;\n",
              "    }\n",
              "  </style>\n",
              "\n",
              "      <script>\n",
              "        const buttonEl =\n",
              "          document.querySelector('#df-5fe93949-b9bf-4868-a286-cffecf2ba5b4 button.colab-df-convert');\n",
              "        buttonEl.style.display =\n",
              "          google.colab.kernel.accessAllowed ? 'block' : 'none';\n",
              "\n",
              "        async function convertToInteractive(key) {\n",
              "          const element = document.querySelector('#df-5fe93949-b9bf-4868-a286-cffecf2ba5b4');\n",
              "          const dataTable =\n",
              "            await google.colab.kernel.invokeFunction('convertToInteractive',\n",
              "                                                     [key], {});\n",
              "          if (!dataTable) return;\n",
              "\n",
              "          const docLinkHtml = 'Like what you see? Visit the ' +\n",
              "            '<a target=\"_blank\" href=https://colab.research.google.com/notebooks/data_table.ipynb>data table notebook</a>'\n",
              "            + ' to learn more about interactive tables.';\n",
              "          element.innerHTML = '';\n",
              "          dataTable['output_type'] = 'display_data';\n",
              "          await google.colab.output.renderOutput(dataTable, element);\n",
              "          const docLink = document.createElement('div');\n",
              "          docLink.innerHTML = docLinkHtml;\n",
              "          element.appendChild(docLink);\n",
              "        }\n",
              "      </script>\n",
              "    </div>\n",
              "  </div>\n",
              "  "
            ]
          },
          "metadata": {},
          "execution_count": 190
        }
      ]
    },
    {
      "cell_type": "markdown",
      "source": [
        "## NLP with Company, Job Title and Description"
      ],
      "metadata": {
        "id": "NcoK7uHal1fs"
      }
    },
    {
      "cell_type": "markdown",
      "source": [
        "### Lemmatizing"
      ],
      "metadata": {
        "id": "904utgsQmGpx"
      }
    },
    {
      "cell_type": "code",
      "source": [
        "possessives = re.compile(\"\\'s\") \n",
        "oddchars = re.compile(r\"[^\\w\\s]\") \n",
        "linebreak = re.compile(\"\\\\n\")\n",
        "stopwords = set(stopwords.words('english'))\n",
        "\n",
        "def text_cleaner(text):\n",
        "  text = text.lower()\n",
        "  text = re.sub(possessives, ' ', text)\n",
        "  text = re.sub(oddchars, ' ', text)\n",
        "  text = re.sub(linebreak, ' ', text)\n",
        "  return text\n",
        "\n",
        "def tokenize_lemmatize(text):\n",
        "  stem = WordNetLemmatizer()\n",
        "  tokens = []\n",
        "  for word in word_tokenize(text):\n",
        "    if word not in stopwords:\n",
        "      tokens.append(stem.lemmatize(word))\n",
        "  return tokens\n",
        "\n",
        "def rejoiner(text):\n",
        "  lem_sentence = \"\"\n",
        "  for word in text:\n",
        "    lem_sentence += word\n",
        "    lem_sentence += \" \"\n",
        "  return lem_sentence\n",
        "\n",
        "def lemmatizer(text):\n",
        "  clean_text = text_cleaner(text)\n",
        "  tok_lem_text = tokenize_lemmatize(clean_text)\n",
        "  lem_text = rejoiner(tok_lem_text)\n",
        "  return lem_text"
      ],
      "metadata": {
        "id": "9wSbOrch8ysg"
      },
      "execution_count": 191,
      "outputs": []
    },
    {
      "cell_type": "code",
      "source": [
        "str_data[\"Company\"] = str_data[\"Company\"].apply(lemmatizer)\n",
        "str_data[\"Job Title\"] = str_data[\"Job Title\"].apply(lemmatizer)\n",
        "str_data[\"Description\"] = str_data[\"Description\"].apply(lemmatizer)\n",
        "str_data.head()"
      ],
      "metadata": {
        "colab": {
          "base_uri": "https://localhost:8080/",
          "height": 0
        },
        "id": "Ki_RaoU4HZ04",
        "outputId": "f54f8c6f-35d3-4f6f-a847-01620da10f85"
      },
      "execution_count": 192,
      "outputs": [
        {
          "output_type": "execute_result",
          "data": {
            "text/plain": [
              "   Salary FTE        City                                Company  \\\n",
              "0    103308.0  Parramatta                          sydney water    \n",
              "1    109738.5   Parkville  murdoch childrens research institute    \n",
              "2     64924.5   Parkville  murdoch childrens research institute    \n",
              "3     79186.8   Parkville                  university melbourne    \n",
              "4     76648.0   Melbourne                  department transport    \n",
              "\n",
              "                                           Job Title  \\\n",
              "0                             junior data scientist    \n",
              "1  research assistant officer data science biosta...   \n",
              "2                          clinical trial assistant    \n",
              "3                            administrative officer    \n",
              "4          2023 stem graduate multiple role vpsg3 1    \n",
              "\n",
              "                                         Description  Capital  State_ACT  \\\n",
              "0  permanent role parramatta location hybrid work...    False          0   \n",
              "1  3 year contract part time full time hour avail...    False          0   \n",
              "2  12 month full time attractive salary 60 895 68...    False          0   \n",
              "3  job 0056574 location parkville role type casua...    False          0   \n",
              "4  job description location melbourne job type fu...     True          0   \n",
              "\n",
              "   State_NSW  State_NT  State_QLD  State_SA  State_TAS  State_VIC  State_WA  \n",
              "0          1         0          0         0          0          0         0  \n",
              "1          0         0          0         0          0          1         0  \n",
              "2          0         0          0         0          0          1         0  \n",
              "3          0         0          0         0          0          1         0  \n",
              "4          0         0          0         0          0          1         0  "
            ],
            "text/html": [
              "\n",
              "  <div id=\"df-c3752cd8-9dfa-454b-9ff4-87b6c56265fb\">\n",
              "    <div class=\"colab-df-container\">\n",
              "      <div>\n",
              "<style scoped>\n",
              "    .dataframe tbody tr th:only-of-type {\n",
              "        vertical-align: middle;\n",
              "    }\n",
              "\n",
              "    .dataframe tbody tr th {\n",
              "        vertical-align: top;\n",
              "    }\n",
              "\n",
              "    .dataframe thead th {\n",
              "        text-align: right;\n",
              "    }\n",
              "</style>\n",
              "<table border=\"1\" class=\"dataframe\">\n",
              "  <thead>\n",
              "    <tr style=\"text-align: right;\">\n",
              "      <th></th>\n",
              "      <th>Salary FTE</th>\n",
              "      <th>City</th>\n",
              "      <th>Company</th>\n",
              "      <th>Job Title</th>\n",
              "      <th>Description</th>\n",
              "      <th>Capital</th>\n",
              "      <th>State_ACT</th>\n",
              "      <th>State_NSW</th>\n",
              "      <th>State_NT</th>\n",
              "      <th>State_QLD</th>\n",
              "      <th>State_SA</th>\n",
              "      <th>State_TAS</th>\n",
              "      <th>State_VIC</th>\n",
              "      <th>State_WA</th>\n",
              "    </tr>\n",
              "  </thead>\n",
              "  <tbody>\n",
              "    <tr>\n",
              "      <th>0</th>\n",
              "      <td>103308.0</td>\n",
              "      <td>Parramatta</td>\n",
              "      <td>sydney water</td>\n",
              "      <td>junior data scientist</td>\n",
              "      <td>permanent role parramatta location hybrid work...</td>\n",
              "      <td>False</td>\n",
              "      <td>0</td>\n",
              "      <td>1</td>\n",
              "      <td>0</td>\n",
              "      <td>0</td>\n",
              "      <td>0</td>\n",
              "      <td>0</td>\n",
              "      <td>0</td>\n",
              "      <td>0</td>\n",
              "    </tr>\n",
              "    <tr>\n",
              "      <th>1</th>\n",
              "      <td>109738.5</td>\n",
              "      <td>Parkville</td>\n",
              "      <td>murdoch childrens research institute</td>\n",
              "      <td>research assistant officer data science biosta...</td>\n",
              "      <td>3 year contract part time full time hour avail...</td>\n",
              "      <td>False</td>\n",
              "      <td>0</td>\n",
              "      <td>0</td>\n",
              "      <td>0</td>\n",
              "      <td>0</td>\n",
              "      <td>0</td>\n",
              "      <td>0</td>\n",
              "      <td>1</td>\n",
              "      <td>0</td>\n",
              "    </tr>\n",
              "    <tr>\n",
              "      <th>2</th>\n",
              "      <td>64924.5</td>\n",
              "      <td>Parkville</td>\n",
              "      <td>murdoch childrens research institute</td>\n",
              "      <td>clinical trial assistant</td>\n",
              "      <td>12 month full time attractive salary 60 895 68...</td>\n",
              "      <td>False</td>\n",
              "      <td>0</td>\n",
              "      <td>0</td>\n",
              "      <td>0</td>\n",
              "      <td>0</td>\n",
              "      <td>0</td>\n",
              "      <td>0</td>\n",
              "      <td>1</td>\n",
              "      <td>0</td>\n",
              "    </tr>\n",
              "    <tr>\n",
              "      <th>3</th>\n",
              "      <td>79186.8</td>\n",
              "      <td>Parkville</td>\n",
              "      <td>university melbourne</td>\n",
              "      <td>administrative officer</td>\n",
              "      <td>job 0056574 location parkville role type casua...</td>\n",
              "      <td>False</td>\n",
              "      <td>0</td>\n",
              "      <td>0</td>\n",
              "      <td>0</td>\n",
              "      <td>0</td>\n",
              "      <td>0</td>\n",
              "      <td>0</td>\n",
              "      <td>1</td>\n",
              "      <td>0</td>\n",
              "    </tr>\n",
              "    <tr>\n",
              "      <th>4</th>\n",
              "      <td>76648.0</td>\n",
              "      <td>Melbourne</td>\n",
              "      <td>department transport</td>\n",
              "      <td>2023 stem graduate multiple role vpsg3 1</td>\n",
              "      <td>job description location melbourne job type fu...</td>\n",
              "      <td>True</td>\n",
              "      <td>0</td>\n",
              "      <td>0</td>\n",
              "      <td>0</td>\n",
              "      <td>0</td>\n",
              "      <td>0</td>\n",
              "      <td>0</td>\n",
              "      <td>1</td>\n",
              "      <td>0</td>\n",
              "    </tr>\n",
              "  </tbody>\n",
              "</table>\n",
              "</div>\n",
              "      <button class=\"colab-df-convert\" onclick=\"convertToInteractive('df-c3752cd8-9dfa-454b-9ff4-87b6c56265fb')\"\n",
              "              title=\"Convert this dataframe to an interactive table.\"\n",
              "              style=\"display:none;\">\n",
              "        \n",
              "  <svg xmlns=\"http://www.w3.org/2000/svg\" height=\"24px\"viewBox=\"0 0 24 24\"\n",
              "       width=\"24px\">\n",
              "    <path d=\"M0 0h24v24H0V0z\" fill=\"none\"/>\n",
              "    <path d=\"M18.56 5.44l.94 2.06.94-2.06 2.06-.94-2.06-.94-.94-2.06-.94 2.06-2.06.94zm-11 1L8.5 8.5l.94-2.06 2.06-.94-2.06-.94L8.5 2.5l-.94 2.06-2.06.94zm10 10l.94 2.06.94-2.06 2.06-.94-2.06-.94-.94-2.06-.94 2.06-2.06.94z\"/><path d=\"M17.41 7.96l-1.37-1.37c-.4-.4-.92-.59-1.43-.59-.52 0-1.04.2-1.43.59L10.3 9.45l-7.72 7.72c-.78.78-.78 2.05 0 2.83L4 21.41c.39.39.9.59 1.41.59.51 0 1.02-.2 1.41-.59l7.78-7.78 2.81-2.81c.8-.78.8-2.07 0-2.86zM5.41 20L4 18.59l7.72-7.72 1.47 1.35L5.41 20z\"/>\n",
              "  </svg>\n",
              "      </button>\n",
              "      \n",
              "  <style>\n",
              "    .colab-df-container {\n",
              "      display:flex;\n",
              "      flex-wrap:wrap;\n",
              "      gap: 12px;\n",
              "    }\n",
              "\n",
              "    .colab-df-convert {\n",
              "      background-color: #E8F0FE;\n",
              "      border: none;\n",
              "      border-radius: 50%;\n",
              "      cursor: pointer;\n",
              "      display: none;\n",
              "      fill: #1967D2;\n",
              "      height: 32px;\n",
              "      padding: 0 0 0 0;\n",
              "      width: 32px;\n",
              "    }\n",
              "\n",
              "    .colab-df-convert:hover {\n",
              "      background-color: #E2EBFA;\n",
              "      box-shadow: 0px 1px 2px rgba(60, 64, 67, 0.3), 0px 1px 3px 1px rgba(60, 64, 67, 0.15);\n",
              "      fill: #174EA6;\n",
              "    }\n",
              "\n",
              "    [theme=dark] .colab-df-convert {\n",
              "      background-color: #3B4455;\n",
              "      fill: #D2E3FC;\n",
              "    }\n",
              "\n",
              "    [theme=dark] .colab-df-convert:hover {\n",
              "      background-color: #434B5C;\n",
              "      box-shadow: 0px 1px 3px 1px rgba(0, 0, 0, 0.15);\n",
              "      filter: drop-shadow(0px 1px 2px rgba(0, 0, 0, 0.3));\n",
              "      fill: #FFFFFF;\n",
              "    }\n",
              "  </style>\n",
              "\n",
              "      <script>\n",
              "        const buttonEl =\n",
              "          document.querySelector('#df-c3752cd8-9dfa-454b-9ff4-87b6c56265fb button.colab-df-convert');\n",
              "        buttonEl.style.display =\n",
              "          google.colab.kernel.accessAllowed ? 'block' : 'none';\n",
              "\n",
              "        async function convertToInteractive(key) {\n",
              "          const element = document.querySelector('#df-c3752cd8-9dfa-454b-9ff4-87b6c56265fb');\n",
              "          const dataTable =\n",
              "            await google.colab.kernel.invokeFunction('convertToInteractive',\n",
              "                                                     [key], {});\n",
              "          if (!dataTable) return;\n",
              "\n",
              "          const docLinkHtml = 'Like what you see? Visit the ' +\n",
              "            '<a target=\"_blank\" href=https://colab.research.google.com/notebooks/data_table.ipynb>data table notebook</a>'\n",
              "            + ' to learn more about interactive tables.';\n",
              "          element.innerHTML = '';\n",
              "          dataTable['output_type'] = 'display_data';\n",
              "          await google.colab.output.renderOutput(dataTable, element);\n",
              "          const docLink = document.createElement('div');\n",
              "          docLink.innerHTML = docLinkHtml;\n",
              "          element.appendChild(docLink);\n",
              "        }\n",
              "      </script>\n",
              "    </div>\n",
              "  </div>\n",
              "  "
            ]
          },
          "metadata": {},
          "execution_count": 192
        }
      ]
    },
    {
      "cell_type": "markdown",
      "source": [
        "### Company Corpus Visualization"
      ],
      "metadata": {
        "id": "ve-axDsYmYO3"
      }
    },
    {
      "cell_type": "code",
      "source": [
        "cv = CountVectorizer(ngram_range=(1, 1), stop_words='english')\n",
        "cv_matrix = cv.fit_transform(str_data['Company'])\n",
        "total_words = cv_matrix.sum(axis=0) \n",
        "freq = [(word, total_words[0, idx]) for word, idx in cv.vocabulary_.items()]\n",
        "freq = sorted(freq, key = lambda x: x[1], reverse=True)\n",
        "ngram = pd.DataFrame(freq)\n",
        "ngram.rename(columns = {0: 'word', 1: 'count'}, inplace = True) \n",
        "ngram = ngram.head(25)\n",
        "plt.figure(figsize=(18, 10), dpi=80)\n",
        "plt.bar(ngram['word'], ngram['count'])\n",
        "plt.xticks(rotation = 45)\n",
        "plt.title(label = \"25 most common words in Company\")\n",
        "plt.show()"
      ],
      "metadata": {
        "colab": {
          "base_uri": "https://localhost:8080/",
          "height": 0
        },
        "id": "_GhpOBzvpbZA",
        "outputId": "d587a9c7-dd53-435d-d6b5-25733f540510"
      },
      "execution_count": 193,
      "outputs": [
        {
          "output_type": "display_data",
          "data": {
            "text/plain": [
              "<Figure size 1440x800 with 1 Axes>"
            ],
            "image/png": "[encoded data removed]"
          },
          "metadata": {
            "needs_background": "light"
          }
        }
      ]
    },
    {
      "cell_type": "markdown",
      "source": [
        "### Company Feature Extraction"
      ],
      "metadata": {
        "id": "03zlPW4UoIBT"
      }
    },
    {
      "cell_type": "code",
      "source": [
        "feature_extraction_company = CountVectorizer(max_features = 25, ngram_range = (1,1), stop_words = 'english')"
      ],
      "metadata": {
        "id": "r1XIbschoabh"
      },
      "execution_count": 194,
      "outputs": []
    },
    {
      "cell_type": "code",
      "source": [
        "feature_company_sparse = feature_extraction_company.fit_transform(str_data['Company'])\n",
        "feature_company_df = pd.DataFrame.sparse.from_spmatrix(feature_company_sparse)"
      ],
      "metadata": {
        "id": "prFXmTuPtTQj"
      },
      "execution_count": 195,
      "outputs": []
    },
    {
      "cell_type": "code",
      "source": [
        "feature_names_company = list(feature_extraction_company.vocabulary_.keys())\n",
        "feature_names_company = ['company_' + feature for feature in feature_names_company]\n",
        "feature_company_df.columns = feature_names_company"
      ],
      "metadata": {
        "id": "ahucYG_ktTey"
      },
      "execution_count": 196,
      "outputs": []
    },
    {
      "cell_type": "markdown",
      "source": [
        "### Job Title Corpus Visualization"
      ],
      "metadata": {
        "id": "gVwhSM3BoNCJ"
      }
    },
    {
      "cell_type": "code",
      "source": [
        "cv = CountVectorizer(ngram_range=(1, 1), stop_words='english')\n",
        "cv_matrix = cv.fit_transform(str_data['Job Title'])\n",
        "total_words = cv_matrix.sum(axis=0) \n",
        "freq = [(word, total_words[0, idx]) for word, idx in cv.vocabulary_.items()]\n",
        "freq = sorted(freq, key = lambda x: x[1], reverse=True)\n",
        "ngram = pd.DataFrame(freq)\n",
        "ngram.rename(columns = {0: 'word', 1: 'count'}, inplace = True) \n",
        "ngram = ngram.head(25)\n",
        "plt.figure(figsize=(18, 10), dpi=80)\n",
        "plt.bar(ngram['word'], ngram['count'])\n",
        "plt.xticks(rotation = 45)\n",
        "plt.title(label = \"25 most common words in Job Title\")\n",
        "plt.show()"
      ],
      "metadata": {
        "colab": {
          "base_uri": "https://localhost:8080/",
          "height": 0
        },
        "id": "tWss0LkorcwU",
        "outputId": "19c7ac17-ea85-4d75-cecc-2308dd92e7cb"
      },
      "execution_count": 197,
      "outputs": [
        {
          "output_type": "display_data",
          "data": {
            "text/plain": [
              "<Figure size 1440x800 with 1 Axes>"
            ],
            "image/png": "[encoded data removed]"
          },
          "metadata": {
            "needs_background": "light"
          }
        }
      ]
    },
    {
      "cell_type": "markdown",
      "source": [
        "### Job Title Feature Extraction"
      ],
      "metadata": {
        "id": "t-dXUp27oS2G"
      }
    },
    {
      "cell_type": "code",
      "source": [
        "feature_extraction_title = CountVectorizer(max_features = 25, ngram_range = (1,1), stop_words = 'english')"
      ],
      "metadata": {
        "id": "s1cu3GlzoOAH"
      },
      "execution_count": 198,
      "outputs": []
    },
    {
      "cell_type": "code",
      "source": [
        "feature_title_sparse = feature_extraction_title.fit_transform(str_data['Job Title'])\n",
        "feature_title_df = pd.DataFrame.sparse.from_spmatrix(feature_title_sparse)"
      ],
      "metadata": {
        "id": "AslEmCjorxD7"
      },
      "execution_count": 199,
      "outputs": []
    },
    {
      "cell_type": "code",
      "source": [
        "feature_names_title = list(feature_extraction_title.vocabulary_.keys())\n",
        "feature_names_title = ['title_' + feature for feature in feature_names_title]\n",
        "feature_title_df.columns = feature_names_title"
      ],
      "metadata": {
        "id": "E85jQROJrz26"
      },
      "execution_count": 200,
      "outputs": []
    },
    {
      "cell_type": "markdown",
      "source": [
        "### Description Corpus Visualization"
      ],
      "metadata": {
        "id": "ck4VhBYLmLyg"
      }
    },
    {
      "cell_type": "code",
      "source": [
        "prefix_dict = {1:'Uni', 2:'Bi', 3:'Tri'}\n",
        "for n in [1, 2, 3]:\n",
        "  feature = prefix_dict.get(n) + 'gram'\n",
        "  tf = TfidfVectorizer(ngram_range=(n, n), stop_words='english')\n",
        "  tfidf_matrix = tf.fit_transform(str_data['Description'])\n",
        "  total_words = tfidf_matrix.sum(axis=0) \n",
        "  freq = [(word, total_words[0, idx]) for word, idx in tf.vocabulary_.items()]\n",
        "  freq = sorted(freq, key = lambda x: x[1], reverse=True)\n",
        "  ngram = pd.DataFrame(freq)\n",
        "  ngram.rename(columns = {0: feature, 1: 'count'}, inplace = True) \n",
        "  ngram = ngram.head(15)\n",
        "  plt.figure(figsize=(18, 10), dpi=80)\n",
        "  plt.subplot(310+n)\n",
        "  plt.bar(ngram[feature], ngram['count'])\n",
        "  plt.title(label = \"15 most common \" + feature.lower() + \"s in Description\")\n",
        "  plt.xticks(rotation = 90)\n"
      ],
      "metadata": {
        "colab": {
          "base_uri": "https://localhost:8080/",
          "height": 0
        },
        "id": "GQQbChcIeWgt",
        "outputId": "c3e0fa49-8d6d-413f-cb9b-51315845914b"
      },
      "execution_count": 201,
      "outputs": [
        {
          "output_type": "display_data",
          "data": {
            "text/plain": [
              "<Figure size 1440x800 with 1 Axes>"
            ],
            "image/png": "[encoded data removed]"
          },
          "metadata": {
            "needs_background": "light"
          }
        },
        {
          "output_type": "display_data",
          "data": {
            "text/plain": [
              "<Figure size 1440x800 with 1 Axes>"
            ],
            "image/png": "[encoded data removed]"
          },
          "metadata": {
            "needs_background": "light"
          }
        },
        {
          "output_type": "display_data",
          "data": {
            "text/plain": [
              "<Figure size 1440x800 with 1 Axes>"
            ],
            "image/png": "[encoded data removed]"
          },
          "metadata": {
            "needs_background": "light"
          }
        }
      ]
    },
    {
      "cell_type": "markdown",
      "source": [
        "### Description Feature Extraction"
      ],
      "metadata": {
        "id": "MX1AGc9wmn0o"
      }
    },
    {
      "cell_type": "code",
      "source": [
        "feature_extraction_description = TfidfVectorizer(max_df = 0.25, min_df = 0.01, ngram_range = (1,3), stop_words = 'english', max_features = 250)"
      ],
      "metadata": {
        "id": "pq1QiYGXptVK"
      },
      "execution_count": 202,
      "outputs": []
    },
    {
      "cell_type": "code",
      "source": [
        "feature_description_sparse = feature_extraction_description.fit_transform(str_data['Description'])\n",
        "feature_description_df = pd.DataFrame.sparse.from_spmatrix(feature_description_sparse)"
      ],
      "metadata": {
        "id": "-VSae_i-1uFy"
      },
      "execution_count": 203,
      "outputs": []
    },
    {
      "cell_type": "code",
      "source": [
        "feature_names_description = list(feature_extraction_description.vocabulary_.keys())\n",
        "feature_names_description = ['desc_' + feature for feature in feature_names_description]\n",
        "feature_description_df.columns = feature_names_description"
      ],
      "metadata": {
        "id": "I97MPgMw2FLp"
      },
      "execution_count": 204,
      "outputs": []
    },
    {
      "cell_type": "markdown",
      "source": [
        "### Data Frame Concatenation"
      ],
      "metadata": {
        "id": "_rkgHo3tt618"
      }
    },
    {
      "cell_type": "code",
      "source": [
        "feature_data = pd.concat([str_data, feature_company_df, feature_title_df, feature_description_df], axis = 1)\n",
        "feature_data = feature_data.drop(['City', 'Company', 'Job Title', 'Description'], axis = 1)\n",
        "feature_data.head()"
      ],
      "metadata": {
        "colab": {
          "base_uri": "https://localhost:8080/",
          "height": 317
        },
        "id": "Ve-9-6m9rOw7",
        "outputId": "238e20d7-04c0-472d-d5fa-453a195acd03"
      },
      "execution_count": 209,
      "outputs": [
        {
          "output_type": "execute_result",
          "data": {
            "text/plain": [
              "   Salary FTE  Capital  State_ACT  State_NSW  State_NT  State_QLD  State_SA  \\\n",
              "0    103308.0    False          0          1         0          0         0   \n",
              "1    109738.5    False          0          0         0          0         0   \n",
              "2     64924.5    False          0          0         0          0         0   \n",
              "3     79186.8    False          0          0         0          0         0   \n",
              "4     76648.0     True          0          0         0          0         0   \n",
              "\n",
              "   State_TAS  State_VIC  State_WA  ...  desc_helping  desc_pipeline  \\\n",
              "0          0          0         0  ...        0.0596       0.000000   \n",
              "1          0          1         0  ...        0.0000       0.000000   \n",
              "2          0          1         0  ...        0.0000       0.076432   \n",
              "3          0          1         0  ...        0.0000       0.000000   \n",
              "4          0          1         0  ...        0.0000       0.000000   \n",
              "\n",
              "   desc_data management  desc_user  desc_insurance  desc_bachelor degree  \\\n",
              "0              0.000000   0.000000        0.054629                   0.0   \n",
              "1              0.091901   0.071474        0.000000                   0.0   \n",
              "2              0.000000   0.075535        0.000000                   0.0   \n",
              "3              0.000000   0.000000        0.000000                   0.0   \n",
              "4              0.457190   0.000000        0.000000                   0.0   \n",
              "\n",
              "   desc_aws  desc_marketing  desc_energy  desc_sale  \n",
              "0       0.0             0.0     0.000000        0.0  \n",
              "1       0.0             0.0     0.000000        0.0  \n",
              "2       0.0             0.0     0.000000        0.0  \n",
              "3       0.0             0.0     0.079768        0.0  \n",
              "4       0.0             0.0     0.000000        0.0  \n",
              "\n",
              "[5 rows x 310 columns]"
            ],
            "text/html": [
              "\n",
              "  <div id=\"df-0ba04d1e-5669-4972-a8c6-e4b20772beae\">\n",
              "    <div class=\"colab-df-container\">\n",
              "      <div>\n",
              "<style scoped>\n",
              "    .dataframe tbody tr th:only-of-type {\n",
              "        vertical-align: middle;\n",
              "    }\n",
              "\n",
              "    .dataframe tbody tr th {\n",
              "        vertical-align: top;\n",
              "    }\n",
              "\n",
              "    .dataframe thead th {\n",
              "        text-align: right;\n",
              "    }\n",
              "</style>\n",
              "<table border=\"1\" class=\"dataframe\">\n",
              "  <thead>\n",
              "    <tr style=\"text-align: right;\">\n",
              "      <th></th>\n",
              "      <th>Salary FTE</th>\n",
              "      <th>Capital</th>\n",
              "      <th>State_ACT</th>\n",
              "      <th>State_NSW</th>\n",
              "      <th>State_NT</th>\n",
              "      <th>State_QLD</th>\n",
              "      <th>State_SA</th>\n",
              "      <th>State_TAS</th>\n",
              "      <th>State_VIC</th>\n",
              "      <th>State_WA</th>\n",
              "      <th>...</th>\n",
              "      <th>desc_helping</th>\n",
              "      <th>desc_pipeline</th>\n",
              "      <th>desc_data management</th>\n",
              "      <th>desc_user</th>\n",
              "      <th>desc_insurance</th>\n",
              "      <th>desc_bachelor degree</th>\n",
              "      <th>desc_aws</th>\n",
              "      <th>desc_marketing</th>\n",
              "      <th>desc_energy</th>\n",
              "      <th>desc_sale</th>\n",
              "    </tr>\n",
              "  </thead>\n",
              "  <tbody>\n",
              "    <tr>\n",
              "      <th>0</th>\n",
              "      <td>103308.0</td>\n",
              "      <td>False</td>\n",
              "      <td>0</td>\n",
              "      <td>1</td>\n",
              "      <td>0</td>\n",
              "      <td>0</td>\n",
              "      <td>0</td>\n",
              "      <td>0</td>\n",
              "      <td>0</td>\n",
              "      <td>0</td>\n",
              "      <td>...</td>\n",
              "      <td>0.0596</td>\n",
              "      <td>0.000000</td>\n",
              "      <td>0.000000</td>\n",
              "      <td>0.000000</td>\n",
              "      <td>0.054629</td>\n",
              "      <td>0.0</td>\n",
              "      <td>0.0</td>\n",
              "      <td>0.0</td>\n",
              "      <td>0.000000</td>\n",
              "      <td>0.0</td>\n",
              "    </tr>\n",
              "    <tr>\n",
              "      <th>1</th>\n",
              "      <td>109738.5</td>\n",
              "      <td>False</td>\n",
              "      <td>0</td>\n",
              "      <td>0</td>\n",
              "      <td>0</td>\n",
              "      <td>0</td>\n",
              "      <td>0</td>\n",
              "      <td>0</td>\n",
              "      <td>1</td>\n",
              "      <td>0</td>\n",
              "      <td>...</td>\n",
              "      <td>0.0000</td>\n",
              "      <td>0.000000</td>\n",
              "      <td>0.091901</td>\n",
              "      <td>0.071474</td>\n",
              "      <td>0.000000</td>\n",
              "      <td>0.0</td>\n",
              "      <td>0.0</td>\n",
              "      <td>0.0</td>\n",
              "      <td>0.000000</td>\n",
              "      <td>0.0</td>\n",
              "    </tr>\n",
              "    <tr>\n",
              "      <th>2</th>\n",
              "      <td>64924.5</td>\n",
              "      <td>False</td>\n",
              "      <td>0</td>\n",
              "      <td>0</td>\n",
              "      <td>0</td>\n",
              "      <td>0</td>\n",
              "      <td>0</td>\n",
              "      <td>0</td>\n",
              "      <td>1</td>\n",
              "      <td>0</td>\n",
              "      <td>...</td>\n",
              "      <td>0.0000</td>\n",
              "      <td>0.076432</td>\n",
              "      <td>0.000000</td>\n",
              "      <td>0.075535</td>\n",
              "      <td>0.000000</td>\n",
              "      <td>0.0</td>\n",
              "      <td>0.0</td>\n",
              "      <td>0.0</td>\n",
              "      <td>0.000000</td>\n",
              "      <td>0.0</td>\n",
              "    </tr>\n",
              "    <tr>\n",
              "      <th>3</th>\n",
              "      <td>79186.8</td>\n",
              "      <td>False</td>\n",
              "      <td>0</td>\n",
              "      <td>0</td>\n",
              "      <td>0</td>\n",
              "      <td>0</td>\n",
              "      <td>0</td>\n",
              "      <td>0</td>\n",
              "      <td>1</td>\n",
              "      <td>0</td>\n",
              "      <td>...</td>\n",
              "      <td>0.0000</td>\n",
              "      <td>0.000000</td>\n",
              "      <td>0.000000</td>\n",
              "      <td>0.000000</td>\n",
              "      <td>0.000000</td>\n",
              "      <td>0.0</td>\n",
              "      <td>0.0</td>\n",
              "      <td>0.0</td>\n",
              "      <td>0.079768</td>\n",
              "      <td>0.0</td>\n",
              "    </tr>\n",
              "    <tr>\n",
              "      <th>4</th>\n",
              "      <td>76648.0</td>\n",
              "      <td>True</td>\n",
              "      <td>0</td>\n",
              "      <td>0</td>\n",
              "      <td>0</td>\n",
              "      <td>0</td>\n",
              "      <td>0</td>\n",
              "      <td>0</td>\n",
              "      <td>1</td>\n",
              "      <td>0</td>\n",
              "      <td>...</td>\n",
              "      <td>0.0000</td>\n",
              "      <td>0.000000</td>\n",
              "      <td>0.457190</td>\n",
              "      <td>0.000000</td>\n",
              "      <td>0.000000</td>\n",
              "      <td>0.0</td>\n",
              "      <td>0.0</td>\n",
              "      <td>0.0</td>\n",
              "      <td>0.000000</td>\n",
              "      <td>0.0</td>\n",
              "    </tr>\n",
              "  </tbody>\n",
              "</table>\n",
              "<p>5 rows × 310 columns</p>\n",
              "</div>\n",
              "      <button class=\"colab-df-convert\" onclick=\"convertToInteractive('df-0ba04d1e-5669-4972-a8c6-e4b20772beae')\"\n",
              "              title=\"Convert this dataframe to an interactive table.\"\n",
              "              style=\"display:none;\">\n",
              "        \n",
              "  <svg xmlns=\"http://www.w3.org/2000/svg\" height=\"24px\"viewBox=\"0 0 24 24\"\n",
              "       width=\"24px\">\n",
              "    <path d=\"M0 0h24v24H0V0z\" fill=\"none\"/>\n",
              "    <path d=\"M18.56 5.44l.94 2.06.94-2.06 2.06-.94-2.06-.94-.94-2.06-.94 2.06-2.06.94zm-11 1L8.5 8.5l.94-2.06 2.06-.94-2.06-.94L8.5 2.5l-.94 2.06-2.06.94zm10 10l.94 2.06.94-2.06 2.06-.94-2.06-.94-.94-2.06-.94 2.06-2.06.94z\"/><path d=\"M17.41 7.96l-1.37-1.37c-.4-.4-.92-.59-1.43-.59-.52 0-1.04.2-1.43.59L10.3 9.45l-7.72 7.72c-.78.78-.78 2.05 0 2.83L4 21.41c.39.39.9.59 1.41.59.51 0 1.02-.2 1.41-.59l7.78-7.78 2.81-2.81c.8-.78.8-2.07 0-2.86zM5.41 20L4 18.59l7.72-7.72 1.47 1.35L5.41 20z\"/>\n",
              "  </svg>\n",
              "      </button>\n",
              "      \n",
              "  <style>\n",
              "    .colab-df-container {\n",
              "      display:flex;\n",
              "      flex-wrap:wrap;\n",
              "      gap: 12px;\n",
              "    }\n",
              "\n",
              "    .colab-df-convert {\n",
              "      background-color: #E8F0FE;\n",
              "      border: none;\n",
              "      border-radius: 50%;\n",
              "      cursor: pointer;\n",
              "      display: none;\n",
              "      fill: #1967D2;\n",
              "      height: 32px;\n",
              "      padding: 0 0 0 0;\n",
              "      width: 32px;\n",
              "    }\n",
              "\n",
              "    .colab-df-convert:hover {\n",
              "      background-color: #E2EBFA;\n",
              "      box-shadow: 0px 1px 2px rgba(60, 64, 67, 0.3), 0px 1px 3px 1px rgba(60, 64, 67, 0.15);\n",
              "      fill: #174EA6;\n",
              "    }\n",
              "\n",
              "    [theme=dark] .colab-df-convert {\n",
              "      background-color: #3B4455;\n",
              "      fill: #D2E3FC;\n",
              "    }\n",
              "\n",
              "    [theme=dark] .colab-df-convert:hover {\n",
              "      background-color: #434B5C;\n",
              "      box-shadow: 0px 1px 3px 1px rgba(0, 0, 0, 0.15);\n",
              "      filter: drop-shadow(0px 1px 2px rgba(0, 0, 0, 0.3));\n",
              "      fill: #FFFFFF;\n",
              "    }\n",
              "  </style>\n",
              "\n",
              "      <script>\n",
              "        const buttonEl =\n",
              "          document.querySelector('#df-0ba04d1e-5669-4972-a8c6-e4b20772beae button.colab-df-convert');\n",
              "        buttonEl.style.display =\n",
              "          google.colab.kernel.accessAllowed ? 'block' : 'none';\n",
              "\n",
              "        async function convertToInteractive(key) {\n",
              "          const element = document.querySelector('#df-0ba04d1e-5669-4972-a8c6-e4b20772beae');\n",
              "          const dataTable =\n",
              "            await google.colab.kernel.invokeFunction('convertToInteractive',\n",
              "                                                     [key], {});\n",
              "          if (!dataTable) return;\n",
              "\n",
              "          const docLinkHtml = 'Like what you see? Visit the ' +\n",
              "            '<a target=\"_blank\" href=https://colab.research.google.com/notebooks/data_table.ipynb>data table notebook</a>'\n",
              "            + ' to learn more about interactive tables.';\n",
              "          element.innerHTML = '';\n",
              "          dataTable['output_type'] = 'display_data';\n",
              "          await google.colab.output.renderOutput(dataTable, element);\n",
              "          const docLink = document.createElement('div');\n",
              "          docLink.innerHTML = docLinkHtml;\n",
              "          element.appendChild(docLink);\n",
              "        }\n",
              "      </script>\n",
              "    </div>\n",
              "  </div>\n",
              "  "
            ]
          },
          "metadata": {},
          "execution_count": 209
        }
      ]
    },
    {
      "cell_type": "markdown",
      "source": [
        "# Output"
      ],
      "metadata": {
        "id": "t1Zgrm9DmrHc"
      }
    },
    {
      "cell_type": "code",
      "source": [
        "feature_data.to_excel('feature_data.xlsx')\n",
        "!cp feature_data.xlsx \"drive/My Drive/\""
      ],
      "metadata": {
        "id": "d5pAXKjLtpKH"
      },
      "execution_count": 211,
      "outputs": []
    },
    {
      "cell_type": "markdown",
      "source": [
        "# References\n",
        "\n",
        "https://stats.oecd.org/index.aspx?DataSetCode=ANHRS\n",
        "\n",
        "https://www.fairwork.gov.au/starting-employment/types-of-employees/full-time-employees"
      ],
      "metadata": {
        "id": "4cbKYzIgwB_K"
      }
    }
  ]
}