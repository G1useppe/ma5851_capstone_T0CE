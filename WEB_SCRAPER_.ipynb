{
  "cells": [
    {
      "cell_type": "markdown",
      "metadata": {
        "id": "view-in-github",
        "colab_type": "text"
      },
      "source": [
        "<a href=\"https://colab.research.google.com/github/G1useppe/ma5851_capstone_T0CE/blob/main/WEB_SCRAPER_.ipynb\" target=\"_parent\"><img src=\"https://colab.research.google.com/assets/colab-badge.svg\" alt=\"Open In Colab\"/></a>"
      ]
    },
    {
      "cell_type": "code",
      "execution_count": null,
      "metadata": {
        "id": "IhRpQ70ihr8-"
      },
      "outputs": [],
      "source": [
        "from selenium.webdriver.common.by import By\n",
        "from selenium import webdriver\n",
        "from selenium.webdriver.common.keys import Keys\n",
        "from selenium.webdriver.support.ui import WebDriverWait\n",
        "from selenium.webdriver.support import expected_conditions as EC\n",
        "import pandas as pd\n",
        "import numpy as np"
      ]
    },
    {
      "cell_type": "code",
      "execution_count": null,
      "metadata": {
        "id": "0Gaq5Wkuhr9E",
        "outputId": "7f79e1e4-22d9-4da6-d310-5a23d0150e07"
      },
      "outputs": [
        {
          "name": "stderr",
          "output_type": "stream",
          "text": [
            "<ipython-input-208-c5cab461e87d>:2: DeprecationWarning: executable_path has been deprecated, please pass in a Service object\n",
            "  driver = webdriver.Chrome(DRIVER_PATH)\n"
          ]
        }
      ],
      "source": [
        "DRIVER_PATH = 'C:\\Program Files (x86)\\chromedriver.exe'\n",
        "driver = webdriver.Chrome(DRIVER_PATH)"
      ]
    },
    {
      "cell_type": "code",
      "execution_count": null,
      "metadata": {
        "id": "XabMFv9Mhr9G"
      },
      "outputs": [],
      "source": [
        "base_url = 'http://au.indeed.com'\n",
        "driver.get(base_url)"
      ]
    },
    {
      "cell_type": "code",
      "execution_count": null,
      "metadata": {
        "id": "9HZ4amN9hr9H"
      },
      "outputs": [],
      "source": [
        "keywords_field_arg = '//input[@class=\"icl-TextInput-control icl-TextInput-control--withIconRight\"]'\n",
        "keywords_field = driver.find_element(By.XPATH, keywords_field_arg)\n",
        "keywords_field.send_keys(\"Data Science\")\n",
        "\n",
        "initial_search_button = driver.find_element(By.XPATH, \"//button[normalize-space()='Find jobs']\")\n",
        "initial_search_button.click()"
      ]
    },
    {
      "cell_type": "code",
      "execution_count": null,
      "metadata": {
        "id": "QYPRSpJchr9J"
      },
      "outputs": [],
      "source": [
        "def next_page():\n",
        "    next_page_url = driver.find_element(By.CSS_SELECTOR, \"a[aria-label='Next']\").get_attribute('href')\n",
        "    driver.get(next_page_url)"
      ]
    },
    {
      "cell_type": "code",
      "execution_count": null,
      "metadata": {
        "id": "Y3ANc_Pthr9K",
        "outputId": "e792e677-5810-4480-8757-ff4458a9aad4"
      },
      "outputs": [
        {
          "ename": "NoSuchElementException",
          "evalue": "Message: no such element: Unable to locate element: {\"method\":\"css selector\",\"selector\":\"a[aria-label='Next']\"}\n  (Session info: chrome=104.0.5112.81)\nStacktrace:\nBacktrace:\n\tOrdinal0 [0x011C78B3+2193587]\n\tOrdinal0 [0x01160681+1771137]\n\tOrdinal0 [0x010741A8+803240]\n\tOrdinal0 [0x010A24A0+992416]\n\tOrdinal0 [0x010A273B+993083]\n\tOrdinal0 [0x010CF7C2+1177538]\n\tOrdinal0 [0x010BD7F4+1103860]\n\tOrdinal0 [0x010CDAE2+1170146]\n\tOrdinal0 [0x010BD5C6+1103302]\n\tOrdinal0 [0x010977E0+948192]\n\tOrdinal0 [0x010986E6+952038]\n\tGetHandleVerifier [0x01470CB2+2738370]\n\tGetHandleVerifier [0x014621B8+2678216]\n\tGetHandleVerifier [0x012517AA+512954]\n\tGetHandleVerifier [0x01250856+509030]\n\tOrdinal0 [0x0116743B+1799227]\n\tOrdinal0 [0x0116BB68+1817448]\n\tOrdinal0 [0x0116BC55+1817685]\n\tOrdinal0 [0x01175230+1856048]\n\tBaseThreadInitThunk [0x76BC6739+25]\n\tRtlGetFullPathName_UEx [0x77B490AF+1215]\n\tRtlGetFullPathName_UEx [0x77B4907D+1165]\n",
          "output_type": "error",
          "traceback": [
            "\u001b[1;31m---------------------------------------------------------------------------\u001b[0m",
            "\u001b[1;31mNoSuchElementException\u001b[0m                    Traceback (most recent call last)",
            "\u001b[1;32m<ipython-input-206-c49c4bd6a54b>\u001b[0m in \u001b[0;36m<module>\u001b[1;34m\u001b[0m\n\u001b[1;32m----> 1\u001b[1;33m \u001b[0mnext_page\u001b[0m\u001b[1;33m(\u001b[0m\u001b[1;33m)\u001b[0m\u001b[1;33m\u001b[0m\u001b[1;33m\u001b[0m\u001b[0m\n\u001b[0m",
            "\u001b[1;32m<ipython-input-205-58dfb0755a76>\u001b[0m in \u001b[0;36mnext_page\u001b[1;34m()\u001b[0m\n\u001b[0;32m      1\u001b[0m \u001b[1;32mdef\u001b[0m \u001b[0mnext_page\u001b[0m\u001b[1;33m(\u001b[0m\u001b[1;33m)\u001b[0m\u001b[1;33m:\u001b[0m\u001b[1;33m\u001b[0m\u001b[1;33m\u001b[0m\u001b[0m\n\u001b[1;32m----> 2\u001b[1;33m     \u001b[0mnext_page_url\u001b[0m \u001b[1;33m=\u001b[0m \u001b[0mdriver\u001b[0m\u001b[1;33m.\u001b[0m\u001b[0mfind_element\u001b[0m\u001b[1;33m(\u001b[0m\u001b[0mBy\u001b[0m\u001b[1;33m.\u001b[0m\u001b[0mCSS_SELECTOR\u001b[0m\u001b[1;33m,\u001b[0m \u001b[1;34m\"a[aria-label='Next']\"\u001b[0m\u001b[1;33m)\u001b[0m\u001b[1;33m.\u001b[0m\u001b[0mget_attribute\u001b[0m\u001b[1;33m(\u001b[0m\u001b[1;34m'href'\u001b[0m\u001b[1;33m)\u001b[0m\u001b[1;33m\u001b[0m\u001b[1;33m\u001b[0m\u001b[0m\n\u001b[0m\u001b[0;32m      3\u001b[0m     \u001b[0mdriver\u001b[0m\u001b[1;33m.\u001b[0m\u001b[0mget\u001b[0m\u001b[1;33m(\u001b[0m\u001b[0mnext_page_url\u001b[0m\u001b[1;33m)\u001b[0m\u001b[1;33m\u001b[0m\u001b[1;33m\u001b[0m\u001b[0m\n",
            "\u001b[1;32m~\\anaconda3\\lib\\site-packages\\selenium\\webdriver\\remote\\webdriver.py\u001b[0m in \u001b[0;36mfind_element\u001b[1;34m(self, by, value)\u001b[0m\n\u001b[0;32m    854\u001b[0m             \u001b[0mvalue\u001b[0m \u001b[1;33m=\u001b[0m \u001b[1;34m'[name=\"%s\"]'\u001b[0m \u001b[1;33m%\u001b[0m \u001b[0mvalue\u001b[0m\u001b[1;33m\u001b[0m\u001b[1;33m\u001b[0m\u001b[0m\n\u001b[0;32m    855\u001b[0m \u001b[1;33m\u001b[0m\u001b[0m\n\u001b[1;32m--> 856\u001b[1;33m         return self.execute(Command.FIND_ELEMENT, {\n\u001b[0m\u001b[0;32m    857\u001b[0m             \u001b[1;34m'using'\u001b[0m\u001b[1;33m:\u001b[0m \u001b[0mby\u001b[0m\u001b[1;33m,\u001b[0m\u001b[1;33m\u001b[0m\u001b[1;33m\u001b[0m\u001b[0m\n\u001b[0;32m    858\u001b[0m             'value': value})['value']\n",
            "\u001b[1;32m~\\anaconda3\\lib\\site-packages\\selenium\\webdriver\\remote\\webdriver.py\u001b[0m in \u001b[0;36mexecute\u001b[1;34m(self, driver_command, params)\u001b[0m\n\u001b[0;32m    432\u001b[0m         \u001b[0mresponse\u001b[0m \u001b[1;33m=\u001b[0m \u001b[0mself\u001b[0m\u001b[1;33m.\u001b[0m\u001b[0mcommand_executor\u001b[0m\u001b[1;33m.\u001b[0m\u001b[0mexecute\u001b[0m\u001b[1;33m(\u001b[0m\u001b[0mdriver_command\u001b[0m\u001b[1;33m,\u001b[0m \u001b[0mparams\u001b[0m\u001b[1;33m)\u001b[0m\u001b[1;33m\u001b[0m\u001b[1;33m\u001b[0m\u001b[0m\n\u001b[0;32m    433\u001b[0m         \u001b[1;32mif\u001b[0m \u001b[0mresponse\u001b[0m\u001b[1;33m:\u001b[0m\u001b[1;33m\u001b[0m\u001b[1;33m\u001b[0m\u001b[0m\n\u001b[1;32m--> 434\u001b[1;33m             \u001b[0mself\u001b[0m\u001b[1;33m.\u001b[0m\u001b[0merror_handler\u001b[0m\u001b[1;33m.\u001b[0m\u001b[0mcheck_response\u001b[0m\u001b[1;33m(\u001b[0m\u001b[0mresponse\u001b[0m\u001b[1;33m)\u001b[0m\u001b[1;33m\u001b[0m\u001b[1;33m\u001b[0m\u001b[0m\n\u001b[0m\u001b[0;32m    435\u001b[0m             response['value'] = self._unwrap_value(\n\u001b[0;32m    436\u001b[0m                 response.get('value', None))\n",
            "\u001b[1;32m~\\anaconda3\\lib\\site-packages\\selenium\\webdriver\\remote\\errorhandler.py\u001b[0m in \u001b[0;36mcheck_response\u001b[1;34m(self, response)\u001b[0m\n\u001b[0;32m    241\u001b[0m                 \u001b[0malert_text\u001b[0m \u001b[1;33m=\u001b[0m \u001b[0mvalue\u001b[0m\u001b[1;33m[\u001b[0m\u001b[1;34m'alert'\u001b[0m\u001b[1;33m]\u001b[0m\u001b[1;33m.\u001b[0m\u001b[0mget\u001b[0m\u001b[1;33m(\u001b[0m\u001b[1;34m'text'\u001b[0m\u001b[1;33m)\u001b[0m\u001b[1;33m\u001b[0m\u001b[1;33m\u001b[0m\u001b[0m\n\u001b[0;32m    242\u001b[0m             \u001b[1;32mraise\u001b[0m \u001b[0mexception_class\u001b[0m\u001b[1;33m(\u001b[0m\u001b[0mmessage\u001b[0m\u001b[1;33m,\u001b[0m \u001b[0mscreen\u001b[0m\u001b[1;33m,\u001b[0m \u001b[0mstacktrace\u001b[0m\u001b[1;33m,\u001b[0m \u001b[0malert_text\u001b[0m\u001b[1;33m)\u001b[0m  \u001b[1;31m# type: ignore[call-arg]  # mypy is not smart enough here\u001b[0m\u001b[1;33m\u001b[0m\u001b[1;33m\u001b[0m\u001b[0m\n\u001b[1;32m--> 243\u001b[1;33m         \u001b[1;32mraise\u001b[0m \u001b[0mexception_class\u001b[0m\u001b[1;33m(\u001b[0m\u001b[0mmessage\u001b[0m\u001b[1;33m,\u001b[0m \u001b[0mscreen\u001b[0m\u001b[1;33m,\u001b[0m \u001b[0mstacktrace\u001b[0m\u001b[1;33m)\u001b[0m\u001b[1;33m\u001b[0m\u001b[1;33m\u001b[0m\u001b[0m\n\u001b[0m",
            "\u001b[1;31mNoSuchElementException\u001b[0m: Message: no such element: Unable to locate element: {\"method\":\"css selector\",\"selector\":\"a[aria-label='Next']\"}\n  (Session info: chrome=104.0.5112.81)\nStacktrace:\nBacktrace:\n\tOrdinal0 [0x011C78B3+2193587]\n\tOrdinal0 [0x01160681+1771137]\n\tOrdinal0 [0x010741A8+803240]\n\tOrdinal0 [0x010A24A0+992416]\n\tOrdinal0 [0x010A273B+993083]\n\tOrdinal0 [0x010CF7C2+1177538]\n\tOrdinal0 [0x010BD7F4+1103860]\n\tOrdinal0 [0x010CDAE2+1170146]\n\tOrdinal0 [0x010BD5C6+1103302]\n\tOrdinal0 [0x010977E0+948192]\n\tOrdinal0 [0x010986E6+952038]\n\tGetHandleVerifier [0x01470CB2+2738370]\n\tGetHandleVerifier [0x014621B8+2678216]\n\tGetHandleVerifier [0x012517AA+512954]\n\tGetHandleVerifier [0x01250856+509030]\n\tOrdinal0 [0x0116743B+1799227]\n\tOrdinal0 [0x0116BB68+1817448]\n\tOrdinal0 [0x0116BC55+1817685]\n\tOrdinal0 [0x01175230+1856048]\n\tBaseThreadInitThunk [0x76BC6739+25]\n\tRtlGetFullPathName_UEx [0x77B490AF+1215]\n\tRtlGetFullPathName_UEx [0x77B4907D+1165]\n"
          ]
        }
      ],
      "source": [
        "#next_page()"
      ]
    },
    {
      "cell_type": "code",
      "execution_count": null,
      "metadata": {
        "id": "dqOud7LFhr9K",
        "outputId": "9045ffb0-4ef1-4979-8b2c-4bcdc194cf88"
      },
      "outputs": [
        {
          "data": {
            "text/plain": [
              "['https://au.indeed.com/pagead/clk?mo=r&ad=-6NYlbfkN0CdG0mlcq8sM0kM4Z0XjE22y1IvS4TfdSBI7lJNBQS5z5Po2n7vUfUd5zw3n5oxtTDsTUDPUn_m-0wp7FyOE8iW9rQWIBtRjxxfvJ0SouT23qZIV0_fiy4qQ5hdtgUhaVoEqd12TuztMJVcyp5x9gM2Fimoujo_5Jh2cTbdN47NjB8Tb0L6alnCA9260YfC7WtpQ19Zw_lAsuWvk4ezZZJZ7hSVXzD_CDzS2cHPn0kuojMy1uFrwrIC8LJDCqZS9dM5vppkqt55bKFzBDW9z-_7Yvc8rSTUz3I0f9sW4PoYGfHKkx1W25OwuNu2moqP102S56ZRNdrnYP5mpz3uaZeFtPBiUIRTFn-zu0k-SJJpzkarwDBKhaSgvL4BBKidYlVlVVBsv82UYl8KuVaTcitjcNQLa-zJqHHx1yLpkvYTiUlRp9-tBpga0otOVU8rovlgs7ol13NZHJMA0tm-cGczh6ZtuCXoH3Bt5X089GxWoyO_A7s3h_HaKsLQCOFsHsUeVkli4p2NCKkVW5sfsiJ0tO72IrsiWZA=&xkcb=SoAN-_M3aVOEZbwbHZ0LbzkdCdPP&p=0&fvj=0&vjs=3',\n",
              " 'https://au.indeed.com/rc/clk?jk=b8fd2a89a9b4d4af&fccid=d8e9aa2d07ecbdf8&vjs=3',\n",
              " 'https://au.indeed.com/rc/clk?jk=1b3537ac3f1b3a8f&fccid=095b91d1e7195475&vjs=3',\n",
              " 'https://au.indeed.com/company/Pageup-People/jobs/Data-Analyst-0a06f5611e0e0729?fccid=fe77906c51f6cab6&vjs=3',\n",
              " 'https://au.indeed.com/rc/clk?jk=c41a6e277c5e29f7&fccid=6a1c088ddbe94ecb&vjs=3',\n",
              " 'https://au.indeed.com/rc/clk?jk=b4bd830235c19840&fccid=132145764848d686&vjs=3',\n",
              " 'https://au.indeed.com/rc/clk?jk=0299d3427f305a68&fccid=9e215d88a6b33622&vjs=3',\n",
              " 'https://au.indeed.com/rc/clk?jk=f04479aa95e61538&fccid=fffc8238af387b00&vjs=3',\n",
              " 'https://au.indeed.com/rc/clk?jk=231ae8a54e68f1ac&fccid=e0efc49db27a4bec&vjs=3',\n",
              " 'https://au.indeed.com/rc/clk?jk=ac05b3394ed89329&fccid=a3163e1f583839d0&vjs=3',\n",
              " 'https://au.indeed.com/rc/clk?jk=8a38599193a99d54&fccid=73e41de575cf9b7a&vjs=3',\n",
              " 'https://au.indeed.com/rc/clk?jk=25373d46ec1ab2f4&fccid=316db5d77b59a99d&vjs=3',\n",
              " 'https://au.indeed.com/rc/clk?jk=23df29768bde8cb0&fccid=b25343f021fb51d7&vjs=3',\n",
              " 'https://au.indeed.com/rc/clk?jk=cbbf5f64fd4a7f1e&fccid=7ab5f4f72fdce966&vjs=3',\n",
              " 'https://au.indeed.com/rc/clk?jk=0cd0568e437fb1e7&fccid=936b29a9c6fa4576&vjs=3']"
            ]
          },
          "execution_count": 213,
          "metadata": {},
          "output_type": "execute_result"
        }
      ],
      "source": [
        "job_urls = []\n",
        "for page in range(60):\n",
        "    elems = driver.find_elements(By.XPATH, \"//a[@class='jcs-JobTitle css-jspxzf eu4oa1w0']\")\n",
        "    links = [elem.get_attribute('href') for elem in elems]\n",
        "    for link in links:\n",
        "        job_urls.append(link)\n",
        "    next_page()\n",
        "job_urls[0:15]"
      ]
    },
    {
      "cell_type": "code",
      "execution_count": null,
      "metadata": {
        "id": "QDcWj_XUhr9M",
        "outputId": "52133eac-3af3-4fb0-9337-7c0c50515c5d"
      },
      "outputs": [
        {
          "data": {
            "text/plain": [
              "826"
            ]
          },
          "execution_count": 217,
          "metadata": {},
          "output_type": "execute_result"
        }
      ],
      "source": [
        "for url in job_urls:\n",
        "    if url[0:27] != 'https://au.indeed.com/rc/cl':\n",
        "        job_urls.remove(url)\n",
        "\n",
        "len(job_urls)"
      ]
    },
    {
      "cell_type": "code",
      "execution_count": null,
      "metadata": {
        "id": "rDrq8R3Nhr9O",
        "outputId": "a156a388-0d00-4829-89bd-dc0aaf28493d"
      },
      "outputs": [
        {
          "data": {
            "text/plain": [
              "'http://www.afl.com.au'"
            ]
          },
          "execution_count": 137,
          "metadata": {},
          "output_type": "execute_result"
        }
      ],
      "source": [
        "def drop_https(url):\n",
        "    return url[0:4]+url[5:]\n",
        "drop_https(\"https://www.afl.com.au\")"
      ]
    },
    {
      "cell_type": "code",
      "execution_count": null,
      "metadata": {
        "id": "5EiM5aQ-hr9Q"
      },
      "outputs": [],
      "source": [
        "job_title_arg = \"//h1[@class='icl-u-xs-mb--xs icl-u-xs-mt--none jobsearch-JobInfoHeader-title']\"\n",
        "company_city_arg = \"//div[@class='icl-u-xs-mt--xs icl-u-textColor--secondary jobsearch-JobInfoHeader-subtitle jobsearch-DesktopStickyContainer-subtitle']\"\n",
        "salary_arg = \"//span[@class='icl-u-xs-mr--xs']\"\n",
        "description_arg = \"//div[@class='jobsearch-jobDescriptionText']\""
      ]
    },
    {
      "cell_type": "code",
      "execution_count": null,
      "metadata": {
        "id": "XLLoF0iVhr9R"
      },
      "outputs": [],
      "source": [
        "unstructured_data = []\n",
        "for url in job_urls:\n",
        "    record = [] #start a blank record\n",
        "    driver.get(drop_https(url))\n",
        "    try: #to get the company and city\n",
        "        company_city = driver.find_element(By.XPATH, company_city_arg).get_attribute('innerText')\n",
        "        record.append(company_city)\n",
        "    except:\n",
        "        record.append(np.nan)\n",
        "    try: #to get the job title\n",
        "        job_title = driver.find_element(By.XPATH, job_title_arg).get_attribute('innerText')\n",
        "        record.append(job_title)\n",
        "    except:\n",
        "        record.append(np.nan)\n",
        "    try: #to get salary\n",
        "        salary = driver.find_element(By.XPATH, salary_arg).get_attribute('innerText')\n",
        "        record.append(salary)\n",
        "    except:\n",
        "        record.append(np.nan)   \n",
        "    try: #to get description\n",
        "        description = driver.find_element(By.XPATH, description_arg).get_attribute('innerText')\n",
        "        record.append(description)\n",
        "    except:\n",
        "        record.append(np.nan)   \n",
        "        \n",
        "    unstructured_data.append(record)    \n",
        "   "
      ]
    },
    {
      "cell_type": "code",
      "execution_count": null,
      "metadata": {
        "id": "drCxResxhr9S"
      },
      "outputs": [],
      "source": [
        "str_data = pd.DataFrame(unstructured_data, columns = ['Company_City', 'Job Title', 'Salary', 'Description'])\n",
        "str_data.to_excel(\"output.xlsx\")  "
      ]
    },
    {
      "cell_type": "code",
      "execution_count": null,
      "metadata": {
        "id": "Jrlh9amghr9S"
      },
      "outputs": [],
      "source": [
        ""
      ]
    }
  ],
  "metadata": {
    "kernelspec": {
      "display_name": "Python 3",
      "language": "python",
      "name": "python3"
    },
    "language_info": {
      "codemirror_mode": {
        "name": "ipython",
        "version": 3
      },
      "file_extension": ".py",
      "mimetype": "text/x-python",
      "name": "python",
      "nbconvert_exporter": "python",
      "pygments_lexer": "ipython3",
      "version": "3.8.3"
    },
    "colab": {
      "name": "WEB SCRAPER .ipynb",
      "provenance": [],
      "include_colab_link": true
    }
  },
  "nbformat": 4,
  "nbformat_minor": 0
}